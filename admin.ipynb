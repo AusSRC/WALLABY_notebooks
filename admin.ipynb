{
 "cells": [
  {
   "cell_type": "markdown",
   "id": "3fc33b1d",
   "metadata": {},
   "source": [
    "# WALLABY admin notebook\n",
    "\n",
    "Notebook with code snippets for all important administative tasks. The sections include:\n",
    "\n",
    "1. Setup\n",
    "2. Confirm sources (GUI)\n",
    "3. Tagging\n",
    "4. Verify selection\n",
    "5. Comments"
   ]
  },
  {
   "cell_type": "markdown",
   "id": "e1d8c124-2ce3-42c2-bd50-028df987af3d",
   "metadata": {},
   "source": [
    "---"
   ]
  },
  {
   "cell_type": "markdown",
   "id": "250d1a67",
   "metadata": {},
   "source": [
    "# 1. Setup\n",
    "\n",
    "## Database credentials\n",
    "\n",
    "Since this is an admin notebook, the admin will have to provide the password with admin access to the database. Without this password the user will only be granted read-only access to the database and will not be able to update the contents of the tables.\n",
    "\n",
    "Update the `admin_password` variable here. You will need it to update the database from within the notebook."
   ]
  },
  {
   "cell_type": "code",
   "execution_count": null,
   "id": "b68c5201",
   "metadata": {},
   "outputs": [],
   "source": [
    "# TODO(user): update password field here\n",
    "\n",
    "admin_password = None\n",
    "user_password = \"LKaRsQrNtXZ7vN8L*6\""
   ]
  },
  {
   "cell_type": "markdown",
   "id": "3668b8b3",
   "metadata": {},
   "source": [
    "## Initialise Django\n",
    "\n",
    "The following cells must be run first. They are used to import `django`, set up a connection to the database and import the Django models. Once these cells are run, you are able to use the Django model objects for access to the database."
   ]
  },
  {
   "cell_type": "code",
   "execution_count": null,
   "id": "a6245d94",
   "metadata": {},
   "outputs": [],
   "source": [
    "# Essential Python libraries for using the ORM\n",
    "\n",
    "import sys\n",
    "import os\n",
    "import django"
   ]
  },
  {
   "cell_type": "code",
   "execution_count": null,
   "id": "3482de9e",
   "metadata": {},
   "outputs": [],
   "source": [
    "# Database access environment variables\n",
    "\n",
    "os.environ[\"DJANGO_SECRET_KEY\"] = \"-=(gyah-@e$-ymbz02mhwu6461zv&1&8uojya413ylk!#bwa-l\"\n",
    "os.environ[\"DJANGO_SETTINGS_MODULE\"] = \"api.settings\"\n",
    "os.environ[\"DJANGO_ALLOW_ASYNC_UNSAFE\"] = \"True\"\n",
    "os.environ[\"DATABASE_HOST\"] = \"146.118.67.204\"\n",
    "os.environ[\"DATABASE_NAME\"] = \"wallabydb\"\n",
    "os.environ[\"DATABASE_USER\"] = \"wallaby_user\" if admin_password is None else \"admin\"\n",
    "os.environ[\"DATABASE_PASSWORD\"] = user_password if admin_password is None else admin_password"
   ]
  },
  {
   "cell_type": "code",
   "execution_count": null,
   "id": "34a8347a",
   "metadata": {},
   "outputs": [],
   "source": [
    "# Connect with SoFiAX_services Django ORM\n",
    "\n",
    "sys.path.append('/mnt/shared/wallaby/apps/SoFiAX_services/api/')\n",
    "django.setup()"
   ]
  },
  {
   "cell_type": "code",
   "execution_count": null,
   "id": "14947412",
   "metadata": {},
   "outputs": [],
   "source": [
    "# Import models\n",
    "\n",
    "from tables.models import Run, Instance, Detection, Product, Source, SourceDetection\n",
    "from tables.models import Comment, Tag, TagDetection, TagSourceDetection"
   ]
  },
  {
   "cell_type": "markdown",
   "id": "00b3671e",
   "metadata": {},
   "source": [
    "## Select Run\n",
    "\n",
    "The notebook is designed to help WALLABY project team members perform the manual post-processing activities for new data available in the database after the mosaicking and source finding pipeline. This data will be stored in the database and accessible through a unique Run name. Select the run to get started with this notebook."
   ]
  },
  {
   "cell_type": "code",
   "execution_count": null,
   "id": "25d0c415",
   "metadata": {},
   "outputs": [],
   "source": [
    "Run.objects.all()"
   ]
  },
  {
   "cell_type": "code",
   "execution_count": null,
   "id": "73f3774a",
   "metadata": {},
   "outputs": [],
   "source": [
    "# Select a run\n",
    "\n",
    "run_name = \"NGC5044_4\""
   ]
  },
  {
   "cell_type": "markdown",
   "id": "61d0cc1c-f1cf-4a66-834e-6b22e632067a",
   "metadata": {},
   "source": [
    "--- "
   ]
  },
  {
   "cell_type": "markdown",
   "id": "d3d8b0d4",
   "metadata": {},
   "source": [
    "# 2. Confirm sources\n",
    "\n",
    "Here we will include some functions for producing plots of the products of a given detection. These will be used in both following sections. We have modified the plotting function slightly to retrieve data products prior to plotting so that we can pre-load the images which take prohibitively long to generate on the fly. This requires knowing in advance the detections that will be visualised."
   ]
  },
  {
   "cell_type": "code",
   "execution_count": null,
   "id": "5ef36d93-aac1-4138-bd47-bc05e13167d3",
   "metadata": {},
   "outputs": [],
   "source": [
    "# Find detections without a source counterpart\n",
    "\n",
    "detections_to_confirm = Detection.objects\\\n",
    "    .filter(run_id=Run.objects.get(name=run_name).id)\\\n",
    "    .filter(n_pix__gte=300)\\\n",
    "    .filter(rel__gte=0.7)\\\n",
    "    .filter(rel__lt=2.0)\\\n",
    "    .exclude(id__in=[d.detection_id for d in SourceDetection.objects.all()])"
   ]
  },
  {
   "cell_type": "markdown",
   "id": "db58e4d0-4301-426b-9014-0353af8571dc",
   "metadata": {},
   "source": [
    "The GUI below will allow the admin to click through summary figures to decide whether they are legitimate sources or not. In order to do this efficiently, we store the summary plots for the detections in advance. So the code below does:\n",
    "\n",
    "1. Add create and add summary plot to products for a given detection\n",
    "2. Plot summary plots with interactive GUI for selecting/discarding sources"
   ]
  },
  {
   "cell_type": "markdown",
   "id": "9cffbdc0-9add-4788-bd54-dab174c62ce5",
   "metadata": {},
   "source": [
    "## Adding summary plots to products"
   ]
  },
  {
   "cell_type": "code",
   "execution_count": null,
   "id": "cbd48903",
   "metadata": {},
   "outputs": [],
   "source": [
    "# plotting libraries\n",
    "\n",
    "import io\n",
    "import math\n",
    "import numpy as np\n",
    "\n",
    "import matplotlib.pyplot as plt\n",
    "from matplotlib.patches import Ellipse\n",
    "\n",
    "import astropy.units as u\n",
    "from astropy.io import fits\n",
    "from astropy.wcs import WCS\n",
    "from astropy.visualization import PercentileInterval\n",
    "from astroquery.skyview import SkyView\n",
    "from astropy.utils.data import clear_download_cache"
   ]
  },
  {
   "cell_type": "code",
   "execution_count": null,
   "id": "20c08c81-5887-4a0f-bbdf-0538258a1d93",
   "metadata": {},
   "outputs": [],
   "source": [
    "# Add summary plot output product for certain detections\n",
    "\n",
    "def add_summary_plot(detection):\n",
    "    # Plot figure size    \n",
    "    interval = PercentileInterval(95.0)\n",
    "    interval2 = PercentileInterval(90.0)\n",
    "    plt.rcParams[\"figure.figsize\"] = (12,12)\n",
    "    \n",
    "    # Retrieve products from database\n",
    "    products = Product.objects.get(detection=detection)\n",
    "    \n",
    "    # Open moment 0 image\n",
    "    with io.BytesIO() as buf:\n",
    "        buf.write(products.mom0)\n",
    "        buf.seek(0)\n",
    "        hdu_mom0 = fits.open(buf)[0]\n",
    "        wcs = WCS(hdu_mom0.header)\n",
    "        mom0 = hdu_mom0.data\n",
    "\n",
    "    # Open moment 1 image\n",
    "    with io.BytesIO() as buf:\n",
    "        buf.write(products.mom1)\n",
    "        buf.seek(0)\n",
    "        hdu_mom1 = fits.open(buf)[0]\n",
    "        mom1 = hdu_mom1.data\n",
    "\n",
    "    # Spectrum\n",
    "    with io.BytesIO() as buf:\n",
    "        buf.write(b''.join(products.spec))\n",
    "        buf.seek(0)\n",
    "        spectrum = np.loadtxt(buf, dtype=\"float\", comments=\"#\", unpack=True)\n",
    "\n",
    "    # Extract coordinate information\n",
    "    nx = hdu_mom0.header[\"NAXIS1\"]\n",
    "    ny = hdu_mom0.header[\"NAXIS2\"]\n",
    "    clon, clat = wcs.all_pix2world(nx/2, ny/2, 0)\n",
    "    tmp1, tmp3 = wcs.all_pix2world(0, ny/2, 0)\n",
    "    tmp2, tmp4 = wcs.all_pix2world(nx, ny/2, 0)\n",
    "    width = np.rad2deg(math.acos(math.sin(np.deg2rad(tmp3)) * math.sin(np.deg2rad(tmp4)) + math.cos(np.deg2rad(tmp3)) * math.cos(np.deg2rad(tmp4)) * math.cos(np.deg2rad(tmp1 - tmp2))))\n",
    "    tmp1, tmp3 = wcs.all_pix2world(nx/2, 0, 0)\n",
    "    tmp2, tmp4 = wcs.all_pix2world(nx/2, ny, 0)\n",
    "    height = np.rad2deg(math.acos(math.sin(np.deg2rad(tmp3)) * math.sin(np.deg2rad(tmp4)) + math.cos(np.deg2rad(tmp3)) * math.cos(np.deg2rad(tmp4)) * math.cos(np.deg2rad(tmp1 - tmp2))))\n",
    "\n",
    "    # Download DSS image from SkyView\n",
    "    hdu_opt = SkyView.get_images(\n",
    "        position=\"{}, {}\".format(clon, clat),\n",
    "        survey=\"DSS\",\n",
    "        coordinates=\"J2000\",\n",
    "        projection=\"Tan\",\n",
    "        width=width*u.deg,\n",
    "        height=height*u.deg,\n",
    "        cache=None\n",
    "    )[0][0]\n",
    "    wcs_opt = WCS(hdu_opt.header)\n",
    "\n",
    "    # Plot moment 0\n",
    "    ax2 = plt.subplot(2, 2, 1, projection=wcs);\n",
    "    ax2.imshow(mom0, origin=\"lower\");\n",
    "    ax2.grid(color=\"grey\", ls=\"solid\");\n",
    "    ax2.set_xlabel(\"Right ascension (J2000)\");\n",
    "    ax2.set_ylabel(\"Declination (J2000)\");\n",
    "    ax2.tick_params(axis=\"x\", which=\"both\", left=False, right=False);\n",
    "    ax2.tick_params(axis=\"y\", which=\"both\", top=False, bottom=False);\n",
    "    ax2.set_title(\"moment 0\");\n",
    "\n",
    "    # Add beam size     \n",
    "    e = Ellipse((5, 5), 5, 5, 0, edgecolor='peru', facecolor='peru');\n",
    "    ax2.add_patch(e);\n",
    "\n",
    "    # Plot DSS image with HI contours\n",
    "    bmin, bmax = interval2.get_limits(hdu_opt.data);\n",
    "    ax = plt.subplot(2, 2, 2, projection=wcs_opt);\n",
    "    ax.imshow(hdu_opt.data, origin=\"lower\");\n",
    "    ax.contour(hdu_mom0.data, transform=ax.get_transform(wcs), levels=np.logspace(2.0, 5.0, 10), colors=\"lightgrey\", alpha=1.0);\n",
    "    ax.grid(color=\"grey\", ls=\"solid\");\n",
    "    ax.set_xlabel(\"Right ascension (J2000)\");\n",
    "    ax.set_ylabel(\"Declination (J2000)\");\n",
    "    ax.tick_params(axis=\"x\", which=\"both\", left=False, right=False);\n",
    "    ax.tick_params(axis=\"y\", which=\"both\", top=False, bottom=False);\n",
    "    ax.set_title(\"DSS + moment 0\");\n",
    "\n",
    "    # Plot moment 1\n",
    "    bmin, bmax = interval.get_limits(mom1);\n",
    "    ax3 = plt.subplot(2, 2, 3, projection=wcs);\n",
    "    ax3.imshow(hdu_mom1.data, origin=\"lower\", vmin=bmin, vmax=bmax, cmap=plt.get_cmap(\"gist_rainbow\"));\n",
    "    ax3.grid(color=\"grey\", ls=\"solid\");\n",
    "    ax3.set_xlabel(\"Right ascension (J2000)\");\n",
    "    ax3.set_ylabel(\"Declination (J2000)\");\n",
    "    ax3.tick_params(axis=\"x\", which=\"both\", left=False, right=False);\n",
    "    ax3.tick_params(axis=\"y\", which=\"both\", top=False, bottom=False);\n",
    "    ax3.set_title(\"moment 1\");\n",
    "\n",
    "    # Plot spectrum\n",
    "    xaxis = spectrum[1] / 1e+6;\n",
    "    data  = 1000.0 * np.nan_to_num(spectrum[2]);\n",
    "    xmin = np.nanmin(xaxis);\n",
    "    xmax = np.nanmax(xaxis);\n",
    "    ymin = np.nanmin(data);\n",
    "    ymax = np.nanmax(data);\n",
    "    ymin -= 0.1 * (ymax - ymin);\n",
    "    ymax += 0.1 * (ymax - ymin);\n",
    "    ax4 = plt.subplot(2, 2, 4);\n",
    "    ax4.step(xaxis, data, where=\"mid\", color=\"royalblue\");\n",
    "    ax4.set_xlabel(\"Frequency (MHz)\");\n",
    "    ax4.set_ylabel(\"Flux density (mJy)\");\n",
    "    ax4.set_title(\"spectrum\");\n",
    "    ax4.grid(True);\n",
    "    ax4.set_xlim([xmin, xmax]);\n",
    "    ax4.set_ylim([ymin, ymax]);\n",
    "\n",
    "    plt.suptitle(detection.name.replace(\"_\", \" \").replace(\"-\", \"−\"), fontsize=16);\n",
    "\n",
    "    # write to products\n",
    "    buf = io.BytesIO()\n",
    "    plt.savefig(buf, format='png')\n",
    "    buf.seek(0)\n",
    "    plt_bytes = buf.read()\n",
    "    products.summary = plt_bytes\n",
    "    products.save()\n",
    "    buf.close()\n",
    "    plt.close()"
   ]
  },
  {
   "cell_type": "code",
   "execution_count": null,
   "id": "1ef68b8b-e550-43b7-944c-70e572087131",
   "metadata": {},
   "outputs": [],
   "source": [
    "# Create summary plots for all detections\n",
    "\n",
    "for d in detections_to_confirm:\n",
    "    if Product.objects.get(detection=d).summary is None:\n",
    "        add_summary_plot(d)"
   ]
  },
  {
   "cell_type": "markdown",
   "id": "1e09392a-9455-4da9-b7f9-f736bc46fe49",
   "metadata": {},
   "source": [
    "## GUI for selecting sources"
   ]
  },
  {
   "cell_type": "code",
   "execution_count": null,
   "id": "b397fb59",
   "metadata": {},
   "outputs": [],
   "source": [
    "# Plotting functions that will be useful\n",
    "\n",
    "def plot_detection(detection_list, mom0_list, mom1_list, spec_list, dss_list, dss_image_list, index):\n",
    "    # Plot figure size    \n",
    "    interval = PercentileInterval(95.0)\n",
    "    plt.rcParams[\"figure.figsize\"] = (12,12)\n",
    "    \n",
    "    # get products\n",
    "    detection = detection_list[index]\n",
    "    mom0 = mom0_list[index]\n",
    "    mom1 = mom1_list[index]\n",
    "    spectrum = spec_list[index]\n",
    "    hdu_opt, wcs_opt = dss_list[index]\n",
    "    dss_image = dss_image_list[index]\n",
    "    \n",
    "    # Plot moment 0\n",
    "    ax2 = plt.subplot(2, 2, 1, projection=WCS(mom0.header));\n",
    "    ax2.imshow(mom0.data, origin=\"lower\");\n",
    "    ax2.grid(color=\"grey\", ls=\"solid\");\n",
    "    ax2.set_xlabel(\"Right ascension (J2000)\");\n",
    "    ax2.set_ylabel(\"Declination (J2000)\");\n",
    "    ax2.tick_params(axis=\"x\", which=\"both\", left=False, right=False);\n",
    "    ax2.tick_params(axis=\"y\", which=\"both\", top=False, bottom=False);\n",
    "    ax2.set_title(\"moment 0\");\n",
    "\n",
    "    # Plot DSS image with HI contours\n",
    "    if dss_image:\n",
    "        bmin, bmax = interval.get_limits(hdu_opt.data);\n",
    "        ax = plt.subplot(2, 2, 2, projection=wcs_opt);\n",
    "        ax.imshow(hdu_opt.data, origin=\"lower\");\n",
    "        ax.contour(mom0.data, transform=ax.get_transform(WCS(mom0.header)), levels=np.logspace(2.0, 5.0, 10), colors=\"lightgrey\", alpha=1.0);\n",
    "        ax.grid(color=\"grey\", ls=\"solid\");\n",
    "        ax.set_xlabel(\"Right ascension (J2000)\");\n",
    "        ax.set_ylabel(\"Declination (J2000)\");\n",
    "        ax.tick_params(axis=\"x\", which=\"both\", left=False, right=False);\n",
    "        ax.tick_params(axis=\"y\", which=\"both\", top=False, bottom=False);\n",
    "        ax.set_title(\"DSS + moment 0\");\n",
    "\n",
    "    # Plot moment 1\n",
    "    bmin, bmax = interval.get_limits(mom1.data);\n",
    "    ax3 = plt.subplot(2, 2, 3, projection=WCS(mom1.header));\n",
    "    ax3.imshow(mom1.data, origin=\"lower\", vmin=bmin, vmax=bmax, cmap=plt.get_cmap(\"gist_rainbow\"));\n",
    "    ax3.grid(color=\"grey\", ls=\"solid\");\n",
    "    ax3.set_xlabel(\"Right ascension (J2000)\");\n",
    "    ax3.set_ylabel(\"Declination (J2000)\");\n",
    "    ax3.tick_params(axis=\"x\", which=\"both\", left=False, right=False);\n",
    "    ax3.tick_params(axis=\"y\", which=\"both\", top=False, bottom=False);\n",
    "    ax3.set_title(\"moment 1\");\n",
    "\n",
    "    # Plot spectrum\n",
    "    xaxis = spectrum[1] / 1e+6;\n",
    "    data  = 1000.0 * np.nan_to_num(spectrum[2]);\n",
    "    xmin = np.nanmin(xaxis);\n",
    "    xmax = np.nanmax(xaxis);\n",
    "    ymin = np.nanmin(data);\n",
    "    ymax = np.nanmax(data);\n",
    "    ymin -= 0.1 * (ymax - ymin);\n",
    "    ymax += 0.1 * (ymax - ymin);\n",
    "    ax4 = plt.subplot(2, 2, 4);\n",
    "    ax4.step(xaxis, data, where=\"mid\", color=\"royalblue\");\n",
    "    ax4.set_xlabel(\"Frequency (MHz)\");\n",
    "    ax4.set_ylabel(\"Flux density (mJy)\");\n",
    "    ax4.set_title(\"spectrum\");\n",
    "    ax4.grid(True);\n",
    "    ax4.set_xlim([xmin, xmax]);\n",
    "    ax4.set_ylim([ymin, ymax]);\n",
    "\n",
    "    plt.suptitle(detection.name.replace(\"_\", \" \").replace(\"-\", \"−\"), fontsize=16);\n",
    "    plt.show()"
   ]
  },
  {
   "cell_type": "code",
   "execution_count": null,
   "id": "d3394d05-45a6-4363-bb27-db870bb8845c",
   "metadata": {},
   "outputs": [],
   "source": [
    "%%capture\n",
    "\n",
    "!pip install ipywidgets==7.4.0\n",
    "!pip install jupyter"
   ]
  },
  {
   "cell_type": "code",
   "execution_count": null,
   "id": "799e1c89-8c19-4f5f-ad98-92f74d47cabe",
   "metadata": {},
   "outputs": [],
   "source": [
    "# Interactive comparison plot\n",
    "\n",
    "from IPython.display import display, clear_output\n",
    "import ipywidgets as widgets\n",
    "from ipywidgets import HBox\n",
    "import warnings\n",
    "\n",
    "warnings.filterwarnings(\"ignore\")\n",
    "%matplotlib inline\n",
    "\n",
    "detections_to_confirm_ids = [d.id for d in detections_to_confirm]\n",
    "initial_index = 0\n",
    "\n",
    "plot = widgets.Output()\n",
    "with plot:\n",
    "    plot_summary(Detection.objects.get(id=detections_to_confirm_ids[initial_index]))\n",
    "\n",
    "previous_button = widgets.Button(\n",
    "    value=False,\n",
    "    description='< Previous',\n",
    "    disabled=False,\n",
    "    button_style='',\n",
    "    tooltip='Go to previous detection'\n",
    ")\n",
    "next_button = widgets.Button(\n",
    "    value=False,\n",
    "    description='Next >',\n",
    "    disabled=False,\n",
    "    button_style='',\n",
    "    tooltip='Go to next detection'\n",
    ")\n",
    "add_button = widgets.Button(\n",
    "    value=False,\n",
    "    description='Insert',\n",
    "    disabled=False,\n",
    "    button_style='success',\n",
    "    tooltip='Add detection to source table'\n",
    ")\n",
    "reject_button = widgets.Button(\n",
    "    value=False,\n",
    "    description='Delete',\n",
    "    disabled=False,\n",
    "    button_style='danger',\n",
    "    tooltip='Delete detection from table'\n",
    ")\n",
    "detection_slider = widgets.IntSlider(\n",
    "    value=initial_index,\n",
    "    description='Progress:',\n",
    "    disabled=True,\n",
    "    min=0,\n",
    "    max=len(detections_to_confirm_ids)\n",
    ")\n",
    "\n",
    "def add_button_callback(button):\n",
    "    detection = Detection.objects.get(id=detections_to_confirm_ids[detection_slider.value])\n",
    "    wallaby_name = detection.name.replace(' ', '_').replace('SoFiA', 'WALLABY')\n",
    "    source = Source.objects.create(name=wallaby_name)\n",
    "    s2d = SourceDetection.objects.create(source_id=source.id, detection_id=detection.id)\n",
    "    \n",
    "    detections_to_confirm_ids.pop(detection_slider.value)\n",
    "    with plot:\n",
    "        clear_output()\n",
    "        plot_summary(Detection.objects.get(id=detections_to_confirm_ids[detection_slider.value]))\n",
    "    display(plot, detection_slider, buttons)\n",
    "\n",
    "def reject_button_callback(button):\n",
    "    detection = Detection.objects.get(id=detections_to_confirm_ids[detection_slider.value])\n",
    "    detection.delete()\n",
    "    \n",
    "    detections_to_confirm_ids.pop(detection_slider.value)\n",
    "    with plot:\n",
    "        clear_output()\n",
    "        plot_summary(Detection.objects.get(id=detections_to_confirm_ids[detection_slider.value]))\n",
    "    display(plot, detection_slider, buttons)\n",
    "    \n",
    "def next_button_callback(button):\n",
    "    if detection_slider.value < len(detections_to_confirm_ids):\n",
    "        detection_slider.value += 1\n",
    "        with plot:\n",
    "            clear_output()\n",
    "            plot_summary(Detection.objects.get(id=detections_to_confirm_ids[detection_slider.value]))\n",
    "        display(plot, detection_slider, buttons)\n",
    "        \n",
    "def previous_button_callback(button):\n",
    "    if detection_slider.value != 0:\n",
    "        detection_slider.value -= 1\n",
    "        with plot:\n",
    "            clear_output()\n",
    "            plot_summary(Detection.objects.get(id=detections_to_confirm_ids[detection_slider.value]))\n",
    "        display(plot, detection_slider, buttons)\n",
    "    \n",
    "add_button.on_click(add_button_callback)\n",
    "reject_button.on_click(reject_button_callback)\n",
    "next_button.on_click(next_button_callback)\n",
    "previous_button.on_click(previous_button_callback)\n",
    "buttons = HBox([previous_button, add_button, reject_button, next_button, detection_slider])\n",
    "\n",
    "# Clean up\n",
    "clear_download_cache(pkgname=\"astroquery\");\n",
    "clear_download_cache();"
   ]
  },
  {
   "cell_type": "markdown",
   "id": "228c8d58-3b50-47bd-9cfc-72cf25354f51",
   "metadata": {},
   "source": [
    "---"
   ]
  },
  {
   "cell_type": "markdown",
   "id": "dd768ace-d40f-4ef7-a5f4-8868ac808ae9",
   "metadata": {},
   "source": [
    "# 3. Tagging"
   ]
  },
  {
   "cell_type": "markdown",
   "id": "a1574671-3d7f-434e-9312-304a796d00fa",
   "metadata": {},
   "source": [
    "---"
   ]
  },
  {
   "cell_type": "markdown",
   "id": "6d89cf05",
   "metadata": {},
   "source": [
    "# 4. Verify selection\n",
    "\n",
    "Some conflicting detections in the database will require manual resolution. For these, we provide code snippets and widgets for identifying and managing the detections. We do the following:\n",
    "\n",
    "- Two or more detections with similar location but different properties (pick either or randomly), show moment 0 map and spectrum\n",
    "- Conflicts with existing catalogue data (retain old name for new detection - add reference to the existing source if properties differ significantly)\n",
    "- Cross-correlation to search within the radius of a given source for two detections that are components of a source. Visualise to see if that is the case. Will need to run `sofia` again to merge the components."
   ]
  },
  {
   "cell_type": "markdown",
   "id": "1835d3c4-03b8-49a2-ba6b-d1986e755bfb",
   "metadata": {},
   "source": [
    "---"
   ]
  },
  {
   "cell_type": "markdown",
   "id": "b705da83",
   "metadata": {},
   "source": [
    "# 5. Comments"
   ]
  },
  {
   "cell_type": "code",
   "execution_count": null,
   "id": "15f5891b",
   "metadata": {},
   "outputs": [],
   "source": []
  }
 ],
 "metadata": {
  "kernelspec": {
   "display_name": "Python 3 (ipykernel)",
   "language": "python",
   "name": "python3"
  },
  "language_info": {
   "codemirror_mode": {
    "name": "ipython",
    "version": 3
   },
   "file_extension": ".py",
   "mimetype": "text/x-python",
   "name": "python",
   "nbconvert_exporter": "python",
   "pygments_lexer": "ipython3",
   "version": "3.9.1"
  }
 },
 "nbformat": 4,
 "nbformat_minor": 5
}
