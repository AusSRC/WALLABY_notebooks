{
 "cells": [
  {
   "cell_type": "markdown",
   "id": "25bb2fab-51dd-45a7-9c21-d3d611333a3d",
   "metadata": {},
   "source": [
    "# CASDA deposit notebook\n",
    "\n",
    "Export the WALLABY catalogue data in a VOTable format and associated source products as fits files with appropriate metadata."
   ]
  },
  {
   "cell_type": "markdown",
   "id": "2fd8a55e-8853-451c-9777-6b2992061fdf",
   "metadata": {},
   "source": [
    "# Connect\n",
    "\n",
    "Connect to database using most up-to-date `wallaby_data_access` module from local development environment"
   ]
  },
  {
   "cell_type": "code",
   "execution_count": 1,
   "id": "abfd6795-33b7-483b-b3e8-3d8a146fa333",
   "metadata": {},
   "outputs": [],
   "source": [
    "import sys\n",
    "sys.path.append('/mnt/shared/home/ashen/development/WALLABY_data_access/wallaby_data_access')"
   ]
  },
  {
   "cell_type": "code",
   "execution_count": 2,
   "id": "55694912-c5f3-49a2-82f6-5fc443de87ec",
   "metadata": {},
   "outputs": [
    {
     "name": "stdout",
     "output_type": "stream",
     "text": [
      "\"Norma DR1\"         \tNorma DR1 data release\n",
      "\"NGC 5044 DR1\"      \tNGC 5044 DR1 data release\n",
      "\"Component\"         \tComponent of a galaxy or object\n",
      "\"Multiplet\"         \tTwo or more galaxies merged into a single detection.\n",
      "\"Hydra DR1\"         \tHydra DR1 data release\n",
      "\"Hydra DR2\"         \tHydra DR2 data release\n",
      "\"NGC 4636 DR1\"      \tNGC 4636 DR1 data release\n"
     ]
    }
   ],
   "source": [
    "import wallaby\n",
    "\n",
    "wallaby.connect()\n",
    "wallaby.print_tags()"
   ]
  },
  {
   "cell_type": "markdown",
   "id": "6f78ffeb-5dcc-4d37-ada6-f8f2fa94bf5c",
   "metadata": {},
   "source": [
    "---"
   ]
  },
  {
   "cell_type": "markdown",
   "id": "57359280-b509-4032-bd6e-0441c8b851f3",
   "metadata": {},
   "source": [
    "# CASDA deposit\n",
    "\n",
    "Export table subset for public data release"
   ]
  },
  {
   "cell_type": "code",
   "execution_count": 3,
   "id": "ae552d54-d70a-4019-ae60-5d3384283450",
   "metadata": {},
   "outputs": [],
   "source": [
    "# set public data release name and get table\n",
    "\n",
    "deposit_name = 'CASDA_deposit_test'\n",
    "tag_name = \"Hydra DR1\""
   ]
  },
  {
   "cell_type": "code",
   "execution_count": 4,
   "id": "bf00d112-1d0a-46a4-a9ba-e5118caa7747",
   "metadata": {},
   "outputs": [],
   "source": [
    "# Take subset of table as an example deposit\n",
    "\n",
    "table = wallaby.get_catalog(tag_name);\n",
    "table_copy = table[0:5]"
   ]
  },
  {
   "cell_type": "code",
   "execution_count": 5,
   "id": "b286afb8-4a7e-4019-abaa-077927eea10a",
   "metadata": {},
   "outputs": [],
   "source": [
    "!rm -rf CASDA_deposit_test"
   ]
  },
  {
   "cell_type": "code",
   "execution_count": 6,
   "id": "65a71808-e183-4aba-a99d-8fb8a83586ca",
   "metadata": {},
   "outputs": [
    {
     "name": "stderr",
     "output_type": "stream",
     "text": [
      "WARNING: W50: ?:?:?: W50: Invalid unit string 'Jy*Hz' [astropy.io.votable.tree]\n",
      "WARNING: W50: ?:?:?: W50: Invalid unit string 'Jy/beam' [astropy.io.votable.tree]\n"
     ]
    }
   ],
   "source": [
    "# Export deposit data locally\n",
    "\n",
    "wallaby.casda_deposit(table_copy, deposit_name)"
   ]
  },
  {
   "cell_type": "markdown",
   "id": "6927688c-c500-40fc-981b-0c0cb83de64f",
   "metadata": {},
   "source": [
    "---"
   ]
  },
  {
   "cell_type": "markdown",
   "id": "23ab5ab1-a9dc-44b4-861f-0c0e8c98f109",
   "metadata": {},
   "source": [
    "# Header cards\n",
    "\n",
    "Manually add SBIDs to header card for products for the time being"
   ]
  },
  {
   "cell_type": "code",
   "execution_count": 7,
   "id": "ed2f132d-44d8-4ea0-b834-c8b90c446ba0",
   "metadata": {},
   "outputs": [],
   "source": [
    "import sys\n",
    "import glob\n",
    "from astropy.io import fits\n",
    "\n",
    "product_files = glob.glob(f'{deposit_name}/**/*.fits', recursive=True)\n",
    "for f in product_files:\n",
    "    hdul = fits.open(f, 'update')\n",
    "    hdr = hdul[0].header\n",
    "    hdr['WALSIBD'] = '10609,10269,10612,10626'\n",
    "    hdul.close()"
   ]
  },
  {
   "cell_type": "markdown",
   "id": "b126719b-ac34-4a09-809c-1e662667e1d2",
   "metadata": {},
   "source": [
    "---"
   ]
  },
  {
   "cell_type": "markdown",
   "id": "73830663-f876-43af-bc22-562af749e545",
   "metadata": {},
   "source": [
    "# Check\n",
    "\n",
    "Look at the header card for one of the files to verify update has worked"
   ]
  },
  {
   "cell_type": "code",
   "execution_count": 8,
   "id": "15405e74-9711-46ad-a89e-641d5d08b985",
   "metadata": {},
   "outputs": [
    {
     "name": "stdout",
     "output_type": "stream",
     "text": [
      "CASDA_deposit_test/moment_maps/WALLABY_J104356-244748_Hydra_TR1_mom0.fits\n",
      "SIMPLE  =                    T                                                  BITPIX  =                  -32                                                  NAXIS   =                    2                                                  NAXIS1  =                   34                                                  NAXIS2  =                   35                                                  CTYPE1  = 'RA---SIN'                                                            CRPIX1  =    4.11200000000E+03                                                  CDELT1  =   -1.66666666667E-03                                                  CRVAL1  =    1.53444629167E+02                                                  CTYPE2  = 'DEC--SIN'                                                            CRPIX2  =   -1.13600000000E+03                                                  CDELT2  =    1.66666666667E-03                                                  CRVAL2  =   -2.69234805556E+01                                                  ORIGIN  = 'SoFiA 2.1.1'                                                         RESTFRQ =    1.42040575179E+09                                                  SPECSYS = 'BARYCENT'                                                            EQUINOX =    2.00000000000E+03                                                  RADESYS = 'FK5     '                                                            LONPOLE =    1.80000000000E+02                                                  LATPOLE =   -2.69234805556E+01                                                  BUNIT   = 'Jy/beam*Hz'                                                          BMAJ    =    8.33333333333E-03                                                  BMIN    =    8.33333333333E-03                                                  BPA     =    0.00000000000E+00                                                  WALSIBD = '10609,10269,10612,10626'                                             END                                                                                                                                                                                                                                                                                                                                                                                                                                                                                                                                                                                                                                                                                                                                                                                                                                                                                                             \n"
     ]
    }
   ],
   "source": [
    "f = product_files[0]\n",
    "print(f)\n",
    "hdul = fits.open(f)\n",
    "hdr = hdul[0].header\n",
    "print(hdr)"
   ]
  },
  {
   "cell_type": "code",
   "execution_count": null,
   "id": "c70307d3-e14c-481d-8915-a92ec956b293",
   "metadata": {},
   "outputs": [],
   "source": []
  }
 ],
 "metadata": {
  "kernelspec": {
   "display_name": "Python 3 (ipykernel)",
   "language": "python",
   "name": "python3"
  },
  "language_info": {
   "codemirror_mode": {
    "name": "ipython",
    "version": 3
   },
   "file_extension": ".py",
   "mimetype": "text/x-python",
   "name": "python",
   "nbconvert_exporter": "python",
   "pygments_lexer": "ipython3",
   "version": "3.9.1"
  }
 },
 "nbformat": 4,
 "nbformat_minor": 5
}
