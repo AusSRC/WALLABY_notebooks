{
 "cells": [
  {
   "cell_type": "markdown",
   "id": "25bb2fab-51dd-45a7-9c21-d3d611333a3d",
   "metadata": {},
   "source": [
    "# CASDA public data release\n",
    "\n",
    "Export data from the WALLABY database in the appropriate format for the public data release."
   ]
  },
  {
   "cell_type": "markdown",
   "id": "2fd8a55e-8853-451c-9777-6b2992061fdf",
   "metadata": {},
   "source": [
    "## Connect"
   ]
  },
  {
   "cell_type": "code",
   "execution_count": 1,
   "id": "abfd6795-33b7-483b-b3e8-3d8a146fa333",
   "metadata": {},
   "outputs": [],
   "source": [
    "import sys\n",
    "sys.path.append('/mnt/shared/home/ashen/development/WALLABY_data_access/wallaby_data_access')"
   ]
  },
  {
   "cell_type": "code",
   "execution_count": 2,
   "id": "55694912-c5f3-49a2-82f6-5fc443de87ec",
   "metadata": {},
   "outputs": [
    {
     "name": "stdout",
     "output_type": "stream",
     "text": [
      "\"Norma DR1\"         \tNorma DR1 data release\n",
      "\"NGC 5044 DR1\"      \tNGC 5044 DR1 data release\n",
      "\"Component\"         \tComponent of a galaxy or object\n",
      "\"Multiplet\"         \tTwo or more galaxies merged into a single detection.\n",
      "\"Hydra DR1\"         \tHydra DR1 data release\n",
      "\"Hydra DR2\"         \tHydra DR2 data release\n",
      "\"NGC 4636 DR1\"      \tNGC 4636 DR1 data release\n"
     ]
    }
   ],
   "source": [
    "import wallaby\n",
    "\n",
    "wallaby.connect()\n",
    "wallaby.print_tags()"
   ]
  },
  {
   "cell_type": "markdown",
   "id": "57359280-b509-4032-bd6e-0441c8b851f3",
   "metadata": {},
   "source": [
    "---\n",
    "\n",
    "## Prepare table data\n",
    "\n",
    "Create `astropy` table for catalogue information. Set the name of the public data release."
   ]
  },
  {
   "cell_type": "code",
   "execution_count": 21,
   "id": "ae552d54-d70a-4019-ae60-5d3384283450",
   "metadata": {},
   "outputs": [],
   "source": [
    "# set public data release name\n",
    "\n",
    "deposit_name = 'PublicDR1'"
   ]
  },
  {
   "cell_type": "code",
   "execution_count": 4,
   "id": "9e0d77e6-f304-4730-9be1-78a5d68628ad",
   "metadata": {},
   "outputs": [],
   "source": [
    "# get tables\n",
    "\n",
    "norma_dr1_table = wallaby.get_catalog('Norma DR1')\n",
    "hydra_dr1_table = wallaby.get_catalog('Hydra DR1')\n",
    "hydra_dr2_table = wallaby.get_catalog('Hydra DR2')\n",
    "NGC4636_dr1_table = wallaby.get_catalog('NGC 4636 DR1')"
   ]
  },
  {
   "cell_type": "code",
   "execution_count": 5,
   "id": "bf00d112-1d0a-46a4-a9ba-e5118caa7747",
   "metadata": {},
   "outputs": [],
   "source": [
    "# join tables above\n",
    "\n",
    "from astropy.table import join, Table\n",
    "\n",
    "table = join(norma_dr1_table, hydra_dr1_table, join_type='outer')\n",
    "table = join(table, hydra_dr2_table, join_type='outer')\n",
    "table = join(table, NGC4636_dr1_table, join_type='outer')"
   ]
  },
  {
   "cell_type": "code",
   "execution_count": 6,
   "id": "a2b78135-46f7-4814-9843-539cc03dfa1b",
   "metadata": {},
   "outputs": [],
   "source": [
    "# Modify table as required (add kinematic output flag)\n",
    "\n",
    "table.rename_column('flag', 'qflag')\n",
    "table['kflag'] = [0] * len(table)"
   ]
  },
  {
   "cell_type": "markdown",
   "id": "a28dcd90-85c0-477f-b3e1-7939096a0157",
   "metadata": {},
   "source": [
    "---\n",
    "## Add kinematic model flags\n",
    "\n",
    "Manually update `kflag` property in table where appropriate"
   ]
  },
  {
   "cell_type": "code",
   "execution_count": 10,
   "id": "6f2d3f1f-a16b-4509-a105-0d42ec7325c3",
   "metadata": {},
   "outputs": [],
   "source": [
    "# read kinematic model flags\n",
    "\n",
    "from astropy.io import fits\n",
    "\n",
    "kin_models_file = 'AllTR_KinModels_kflag.fits'\n",
    "hdul = fits.open(kin_models_file)"
   ]
  },
  {
   "cell_type": "code",
   "execution_count": 8,
   "id": "aec54b0d-b824-429f-82bc-9995b1241f21",
   "metadata": {},
   "outputs": [],
   "source": [
    "kflags = hdul[1].data"
   ]
  },
  {
   "cell_type": "code",
   "execution_count": 14,
   "id": "50baa143-5fe2-4724-bce7-1310c1dc7e24",
   "metadata": {},
   "outputs": [],
   "source": [
    "names = list(table['name'])"
   ]
  },
  {
   "cell_type": "code",
   "execution_count": 17,
   "id": "6387a6e1-851d-4e86-8825-c51aa521b941",
   "metadata": {
    "tags": []
   },
   "outputs": [],
   "source": [
    "# set flags\n",
    "\n",
    "names = list(table['name'])\n",
    "for row in kflags:\n",
    "    source_name, _, _, _, _, _, kflag_val = row\n",
    "    source_index = names.index(source_name)\n",
    "    table['kflag'][source_index] = kflag_val"
   ]
  },
  {
   "cell_type": "markdown",
   "id": "bd24ec30-1d31-453d-9772-b3fa27e14b37",
   "metadata": {},
   "source": [
    "---\n",
    "\n",
    "## Create release files\n",
    "\n",
    "Once the metadata has been added from above we can create the deposit"
   ]
  },
  {
   "cell_type": "code",
   "execution_count": 24,
   "id": "54cab301-751c-4368-ab49-59efd2ad9fdf",
   "metadata": {},
   "outputs": [],
   "source": [
    "table_copy = table[:50]"
   ]
  },
  {
   "cell_type": "code",
   "execution_count": 31,
   "id": "65a71808-e183-4aba-a99d-8fb8a83586ca",
   "metadata": {},
   "outputs": [],
   "source": [
    "# Export deposit data locally\n",
    "\n",
    "wallaby.casda_deposit(table, deposit_name)"
   ]
  },
  {
   "cell_type": "markdown",
   "id": "23ab5ab1-a9dc-44b4-861f-0c0e8c98f109",
   "metadata": {},
   "source": [
    "---\n",
    "\n",
    "## Add header cards\n",
    "\n",
    "Manually add SBIDs to header card for products after they have been created."
   ]
  },
  {
   "cell_type": "code",
   "execution_count": 32,
   "id": "311fb16e-c5cf-49d7-858a-c7e0b2c6c45e",
   "metadata": {},
   "outputs": [],
   "source": [
    "# SBIDs\n",
    "\n",
    "sbids = {\n",
    "    'Hydra': '10609,10269,10612,10626',\n",
    "    'Norma': '10809,10812,10736',\n",
    "    'NGC_4636': '12193,12209'\n",
    "}"
   ]
  },
  {
   "cell_type": "code",
   "execution_count": 33,
   "id": "163f5274-c632-4288-85d4-1ad2bd6e7040",
   "metadata": {},
   "outputs": [],
   "source": [
    "# Get all product files\n",
    "\n",
    "import glob\n",
    "product_files = glob.glob(f'{deposit_name}/**/*.fits', recursive=True)"
   ]
  },
  {
   "cell_type": "code",
   "execution_count": 37,
   "id": "ed2f132d-44d8-4ea0-b834-c8b90c446ba0",
   "metadata": {},
   "outputs": [],
   "source": [
    "# Update fits headers in product files\n",
    "\n",
    "from astropy.io import fits\n",
    "for f in product_files:\n",
    "    hdul = fits.open(f, 'update')\n",
    "    hdr = hdul[0].header\n",
    "    if 'Hydra' in f:\n",
    "        hdr['SBID'] = sbids['Hydra']\n",
    "    elif 'Norma' in f:\n",
    "        hdr['SBID'] = sbids['Norma']\n",
    "    elif 'NGC_4636' in f:\n",
    "        hdr['SBID'] = sbids['NGC_4636']\n",
    "    else:\n",
    "        raise Exception('File does not have a corresponding team release tag')\n",
    "    hdul.close()"
   ]
  },
  {
   "cell_type": "markdown",
   "id": "d4894174-3c29-49bc-928d-80421281c4eb",
   "metadata": {},
   "source": [
    "\n",
    "---"
   ]
  },
  {
   "cell_type": "markdown",
   "id": "278df635-ef07-481f-9f65-ae8891587354",
   "metadata": {},
   "source": [
    "# CASDA deposit function debugging"
   ]
  },
  {
   "cell_type": "code",
   "execution_count": null,
   "id": "9f7ea059-4580-4f8b-ad53-6ce400982c98",
   "metadata": {},
   "outputs": [],
   "source": [
    "import csv\n",
    "import os\n",
    "from astropy.io.votable import from_table, writeto\n",
    "from astropy.io.votable.tree import Param\n",
    "\n",
    "table_columns = {}\n",
    "with open('/mnt/shared/home/ashen/development/WALLABY_data_access/wallaby_data_access/source_column_metadata.csv', 'r') as file:\n",
    "    reader = csv.reader(file)\n",
    "    for row in reader:\n",
    "        name, ucd, units, description = row\n",
    "        units = units.replace('pixel', 'pix')\n",
    "        if units == '-':\n",
    "            units = None\n",
    "        table_columns[name] = (ucd, units, description)\n",
    "\n",
    "column_names = [k for k in table_columns.keys()]"
   ]
  },
  {
   "cell_type": "code",
   "execution_count": null,
   "id": "20afaf69-7c97-475b-af25-51ea63b6e288",
   "metadata": {},
   "outputs": [],
   "source": [
    "# Export catalogue\n",
    "table_copy.remove_column('id')\n",
    "table_copy.remove_column('tags')\n",
    "table_copy.remove_column('comments')\n",
    "table_copy = table_copy[column_names]\n",
    "votable = from_table(table_copy)\n",
    "votable.version = '1.3'"
   ]
  },
  {
   "cell_type": "code",
   "execution_count": null,
   "id": "37c3bf93-6e97-4746-b208-3cd494a1e08a",
   "metadata": {},
   "outputs": [],
   "source": [
    "fields = []\n",
    "for name, meta in table_columns.items():\n",
    "    ucd, units, description = meta\n",
    "    field = votable.get_field_by_id(name)\n",
    "    field.ucd = ucd\n",
    "    field.unit = units\n",
    "    field.description = description\n",
    "    fields.append(field)"
   ]
  },
  {
   "cell_type": "code",
   "execution_count": null,
   "id": "b6e8639e-cfce-4138-9962-152274ac6254",
   "metadata": {},
   "outputs": [],
   "source": [
    "# TODO(austin): reorder astropy table columns to match headers from fields ^\n",
    "\n",
    "for resource in votable.resources:        \n",
    "    # update rows\n",
    "    for t in resource.tables:\n",
    "        for i, row in enumerate(fields):\n",
    "            t.fields[i] = row\n",
    "\n",
    "    # add params\n",
    "    resource.params.append(Param(votable, ID='catalogueName', name='Catalogue Name', value=deposit_name, arraysize='59'))\n",
    "    resource.params.append(Param(votable, ID='indexedFields', name='Indexed Fields', value='name,ra,dec,freq,f_sum,w20,team_release', arraysize='255'))\n",
    "    resource.params.append(Param(votable, ID='principalFields', name='Principal Fields', value='name,ra,dec,freq,f_sum,w20,team_release', arraysize='255'))\n",
    "\n",
    "    # rename columns\n",
    "    # TODO(austin): rename source finding flag to \"qflag\"\n",
    "    # TODO(austin): add \"kflag\" column\n",
    "\n",
    "catalogue_file = 'catalogue.xml'\n",
    "writeto(votable, catalogue_file)"
   ]
  },
  {
   "cell_type": "code",
   "execution_count": null,
   "id": "c70307d3-e14c-481d-8915-a92ec956b293",
   "metadata": {},
   "outputs": [],
   "source": []
  }
 ],
 "metadata": {
  "kernelspec": {
   "display_name": "Python 3 (ipykernel)",
   "language": "python",
   "name": "python3"
  },
  "language_info": {
   "codemirror_mode": {
    "name": "ipython",
    "version": 3
   },
   "file_extension": ".py",
   "mimetype": "text/x-python",
   "name": "python",
   "nbconvert_exporter": "python",
   "pygments_lexer": "ipython3",
   "version": "3.9.1"
  }
 },
 "nbformat": 4,
 "nbformat_minor": 5
}
