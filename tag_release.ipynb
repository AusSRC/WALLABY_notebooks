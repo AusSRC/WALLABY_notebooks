{
 "cells": [
  {
   "cell_type": "markdown",
   "metadata": {},
   "source": [
    "# Tag Releases\n",
    "\n",
    "This notebook provides the WALLABY project scientist with functionality to tag WALLABY sources for a certain release. The sources and their corresponding properties and associated data products can then be retrieved based on this release name. The process can be broken down to the following steps, for each of which we have a section in the notebook:\n",
    "\n",
    "1. Create tag for release\n",
    "2. Select sources\n",
    "3. Apply tags\n",
    "4. Verify and check retrival"
   ]
  },
  {
   "cell_type": "markdown",
   "metadata": {},
   "source": [
    "## Admin credentials\n",
    "\n",
    "**NOTE**: Do not add admin credentials here and run all cells. This will cause a tag to be created in the database."
   ]
  },
  {
   "cell_type": "code",
   "execution_count": 3,
   "metadata": {},
   "outputs": [],
   "source": [
    "# TODO(user): update password field here\n",
    "\n",
    "admin_password = None\n",
    "user_password = \"LKaRsQrNtXZ7vN8L*6\""
   ]
  },
  {
   "cell_type": "markdown",
   "metadata": {},
   "source": [
    "## Initialise Django"
   ]
  },
  {
   "cell_type": "code",
   "execution_count": null,
   "metadata": {},
   "outputs": [],
   "source": [
    "# Import relevant libraries\n",
    "\n",
    "import sys\n",
    "import os\n",
    "import django"
   ]
  },
  {
   "cell_type": "code",
   "execution_count": null,
   "metadata": {},
   "outputs": [],
   "source": [
    "# Database access environment variables\n",
    "\n",
    "os.environ[\"DJANGO_SECRET_KEY\"] = \"-=(gyah-@e$-ymbz02mhwu6461zv&1&8uojya413ylk!#bwa-l\"\n",
    "os.environ[\"DJANGO_SETTINGS_MODULE\"] = \"api.settings\"\n",
    "os.environ[\"DJANGO_ALLOW_ASYNC_UNSAFE\"] = \"True\"\n",
    "os.environ[\"DATABASE_HOST\"] = \"146.118.67.204\"\n",
    "os.environ[\"DATABASE_NAME\"] = \"wallabydb\"\n",
    "os.environ[\"DATABASE_USER\"] = \"wallaby_user\" if admin_password is None else \"admin\"\n",
    "os.environ[\"DATABASE_PASSWORD\"] = user_password if admin_password is None else admin_password"
   ]
  },
  {
   "cell_type": "code",
   "execution_count": null,
   "metadata": {},
   "outputs": [],
   "source": [
    "# Connect with SoFiAX_services Django ORM\n",
    "\n",
    "sys.path.append('/mnt/shared/wallaby/apps/SoFiAX_services/api/')\n",
    "django.setup()"
   ]
  },
  {
   "cell_type": "code",
   "execution_count": null,
   "metadata": {},
   "outputs": [],
   "source": [
    "# Import models\n",
    "\n",
    "from tables.models import Run, Instance, Detection, Product, Source, SourceDetection\n",
    "from tables.models import Tag, TagDetection, TagSourceDetection"
   ]
  },
  {
   "cell_type": "markdown",
   "metadata": {},
   "source": [
    "# 1. Create tag\n",
    "\n",
    "Define a tag to apply to a collection of sources. This only needs a `name` and `description`. "
   ]
  },
  {
   "cell_type": "code",
   "execution_count": null,
   "metadata": {},
   "outputs": [],
   "source": [
    "# Create a tag called release\n",
    "\n",
    "tag_release, _ = Tag.objects.get_or_create(\n",
    "    name=\"Release\",\n",
    "    description=\"WALLABY release tag (or better description).\",\n",
    ")"
   ]
  },
  {
   "cell_type": "markdown",
   "metadata": {},
   "source": [
    "# 2. Select sources\n",
    "\n",
    "Next we will need to select the sources to tag. We will just select the first 100 sources here for some arbitrarily chosen `Run` for the example."
   ]
  },
  {
   "cell_type": "code",
   "execution_count": null,
   "metadata": {},
   "outputs": [],
   "source": [
    "Run.objects.all()"
   ]
  },
  {
   "cell_type": "code",
   "execution_count": null,
   "metadata": {},
   "outputs": [],
   "source": [
    "# Example subset of sources and corresponding detections to tag as 'Release'\n",
    "\n",
    "N = 100\n",
    "run = Run.objects.get(name='NGC5044_4')\n",
    "detection_subset = Detection.objects.filter(run=run)\n",
    "\n",
    "source_detections_to_tag_release = []\n",
    "for i in range(N):\n",
    "    detection = detection_subset[i]\n",
    "    source_name = detection.name.replace(\" \", \"_\").replace(\"SoFiA\", \"WALLABY\")\n",
    "    source, _ = Source.objects.get_or_create(name=source_name)\n",
    "    source_detection, _ = SourceDetection.objects.get_or_create(\n",
    "        source_id=source.id,\n",
    "        detection_id=detection.id\n",
    "    )\n",
    "    source_detections_to_tag_release.append(source_detection)"
   ]
  },
  {
   "cell_type": "markdown",
   "metadata": {},
   "source": [
    "# 3. Apply tag\n",
    "\n",
    "Apply the tag to the selected sources by using the source_detection table."
   ]
  },
  {
   "cell_type": "code",
   "execution_count": null,
   "metadata": {},
   "outputs": [],
   "source": [
    "# Tag SourceDetections from list\n",
    "\n",
    "for sd in source_detections_to_tag_release:\n",
    "    TagSourceDetection.objects.get_or_create(\n",
    "        tag_id=tag_release.id,\n",
    "        source_detection_id=sd.id,\n",
    "        author=\"Austin Shen\"\n",
    "    )"
   ]
  },
  {
   "cell_type": "code",
   "execution_count": null,
   "metadata": {},
   "outputs": [],
   "source": [
    "[Source.objects.get(id=sd.source_id) for sd in [SourceDetection.objects.get(id=tsd.source_detection_id) for tsd in TagSourceDetection.objects.filter(tag_id=Tag.objects.get(name=\"Release\").id)]]"
   ]
  },
  {
   "cell_type": "markdown",
   "metadata": {},
   "source": [
    "# 4. Retrieve\n",
    "\n",
    "Now we have tagged bunch of the sources through this SourceDetection table. We would now like to retrieve all of these and read them into a useful table format. WALLABY users are likely to require this functionality."
   ]
  },
  {
   "cell_type": "code",
   "execution_count": null,
   "metadata": {},
   "outputs": [],
   "source": [
    "# Get sources with a certain tag\n",
    "\n",
    "release_sources = [\n",
    "    Source.objects.get(id=sd.source_id) for sd in [\n",
    "        SourceDetection.objects.get(id=tsd.source_detection_id) for tsd in \n",
    "            TagSourceDetection.objects.filter(tag_id=Tag.objects.get(name=\"Release\").id)\n",
    "    ]\n",
    "]"
   ]
  },
  {
   "cell_type": "code",
   "execution_count": null,
   "metadata": {},
   "outputs": [],
   "source": [
    "# Verify that these sources match the tagged sources\n",
    "\n",
    "set(release_sources) == set([Source.objects.get(id=sd.source_id) for sd in source_detections_to_tag_release])"
   ]
  },
  {
   "cell_type": "code",
   "execution_count": null,
   "metadata": {},
   "outputs": [],
   "source": [
    "# Read as astropy table\n",
    "\n",
    "from django.db import models\n",
    "from astropy.table import Table\n",
    "\n",
    "def astropy_table_from_tag(tag_name):\n",
    "    t = Table()\n",
    "    \n",
    "    # get field names\n",
    "    detection_field_names = [field.name for field in Detection._meta.fields if field.name != 'id' and not isinstance(field, models.ForeignKey)]\n",
    "    detection_field_names.remove('name')    \n",
    "    source_field_names = [field.name for field in Source._meta.fields if not isinstance(field, models.ForeignKey)]\n",
    "    \n",
    "    # get sources and detections\n",
    "    sources = [\n",
    "        Source.objects.get(id=sd.source_id) for sd in [\n",
    "            SourceDetection.objects.get(id=tsd.source_detection_id) for tsd in \n",
    "                TagSourceDetection.objects.filter(tag_id=Tag.objects.get(name=tag_name).id)\n",
    "        ]\n",
    "    ]\n",
    "    detections = [\n",
    "        Detection.objects.get(id=sd.detection_id) for sd in [\n",
    "            SourceDetection.objects.get(id=tsd.source_detection_id) for tsd in \n",
    "                TagSourceDetection.objects.filter(tag_id=Tag.objects.get(name=tag_name).id)\n",
    "        ]\n",
    "    ]\n",
    "    \n",
    "    # add columns to the table\n",
    "    for field in detection_field_names:\n",
    "        t[field] = [getattr(d, field) for d in detections]\n",
    "    for field in source_field_names:\n",
    "        t[field] = [getattr(s, field) for s in sources]\n",
    "\n",
    "    return t\n",
    "\n",
    "astropy_table_from_tag(tag_name=\"Release\")"
   ]
  },
  {
   "cell_type": "code",
   "execution_count": null,
   "metadata": {},
   "outputs": [],
   "source": []
  }
 ],
 "metadata": {
  "kernelspec": {
   "display_name": "Python 3",
   "language": "python",
   "name": "python3"
  },
  "language_info": {
   "name": "python",
   "version": ""
  }
 },
 "nbformat": 4,
 "nbformat_minor": 5
}