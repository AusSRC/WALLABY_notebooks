{
 "cells": [
  {
   "cell_type": "markdown",
   "id": "20dd5020",
   "metadata": {},
   "source": [
    "# Tag Releases\n",
    "\n",
    "This notebook provides the WALLABY project scientist with functionality to tag WALLABY sources for a certain release. The sources and their corresponding properties and associated data products can then be retrieved based on this release name. The process can be broken down to the following steps, for each of which we have a section in the notebook:\n",
    "\n",
    "1. Create tag for release\n",
    "2. Select sources\n",
    "3. Apply tags\n",
    "4. Verify and check retrival"
   ]
  },
  {
   "cell_type": "markdown",
   "id": "d72683bc",
   "metadata": {},
   "source": [
    "## Admin credentials\n",
    "\n",
    "**NOTE**: Do not add admin credentials here and run all cells. This will cause a tag to be created in the database."
   ]
  },
  {
   "cell_type": "code",
   "execution_count": null,
   "id": "a169e7c1",
   "metadata": {},
   "outputs": [],
   "source": [
    "# TODO(user): update password field here\n",
    "\n",
    "admin_password = None\n",
    "user_password = \"LKaRsQrNtXZ7vN8L*6\""
   ]
  },
  {
   "cell_type": "markdown",
   "id": "b3ae1e59",
   "metadata": {},
   "source": [
    "## Initialise Django"
   ]
  },
  {
   "cell_type": "code",
   "execution_count": null,
   "id": "405a93ac",
   "metadata": {},
   "outputs": [],
   "source": [
    "# Import relevant libraries\n",
    "\n",
    "import sys\n",
    "import os\n",
    "import django\n",
    "from django.db import models"
   ]
  },
  {
   "cell_type": "code",
   "execution_count": null,
   "id": "c4ce2e5a",
   "metadata": {},
   "outputs": [],
   "source": [
    "# Database access environment variables\n",
    "\n",
    "os.environ[\"DJANGO_SECRET_KEY\"] = \"-=(gyah-@e$-ymbz02mhwu6461zv&1&8uojya413ylk!#bwa-l\"\n",
    "os.environ[\"DJANGO_SETTINGS_MODULE\"] = \"api.settings\"\n",
    "os.environ[\"DJANGO_ALLOW_ASYNC_UNSAFE\"] = \"True\"\n",
    "os.environ[\"DATABASE_HOST\"] = \"146.118.67.204\"\n",
    "os.environ[\"DATABASE_NAME\"] = \"wallabydb\"\n",
    "os.environ[\"DATABASE_USER\"] = \"wallaby_user\" if admin_password is None else \"admin\"\n",
    "os.environ[\"DATABASE_PASSWORD\"] = user_password if admin_password is None else admin_password"
   ]
  },
  {
   "cell_type": "code",
   "execution_count": null,
   "id": "08edc5e0",
   "metadata": {},
   "outputs": [],
   "source": [
    "# Connect with SoFiAX_services Django ORM\n",
    "\n",
    "sys.path.append('/mnt/shared/wallaby/apps/SoFiAX_services/api/')\n",
    "django.setup()"
   ]
  },
  {
   "cell_type": "code",
   "execution_count": null,
   "id": "d1b7cda2",
   "metadata": {},
   "outputs": [],
   "source": [
    "# Import models\n",
    "\n",
    "from tables.models import Run, Instance, Detection, Product, Source, SourceDetection\n",
    "from tables.models import Comment, Tag, TagDetection, TagSourceDetection"
   ]
  },
  {
   "cell_type": "markdown",
   "id": "9d74baa0-8c5d-4107-b97c-92e453eeb3f5",
   "metadata": {},
   "source": [
    "# Final detection/source check\n",
    "\n",
    "Before tagging a collection of sources for release it is important to double check them and add comments to those that require it."
   ]
  },
  {
   "cell_type": "markdown",
   "id": "1603d272-e171-46a4-994f-943bc8865b2f",
   "metadata": {},
   "source": [
    "## Cross matching\n",
    "\n",
    "Verify the detections that have been added as sources before tagging them for a release. To do the cross matching we will create an astropy table with source name and detection properties and use those properties for the cross matching code."
   ]
  },
  {
   "cell_type": "code",
   "execution_count": null,
   "id": "185d7985-23a9-4c11-9a66-01222f3f8dc6",
   "metadata": {},
   "outputs": [],
   "source": [
    "# Select a run\n",
    "\n",
    "run_name = 'NGC5044_4'"
   ]
  },
  {
   "cell_type": "code",
   "execution_count": null,
   "id": "8504f3c8-e55b-4674-ad18-08846b2df6c5",
   "metadata": {},
   "outputs": [],
   "source": [
    "detections_NGC5044_4 = Detection.objects\\\n",
    "    .filter(run_id=Run.objects.get(name=run_name).id)\\\n",
    "    .filter(n_pix__gte=300)\\\n",
    "    .filter(rel__gte=0.7)\\\n",
    "    .filter(rel__lt=2.0)\\\n",
    "    .filter(id__in=[d.detection_id for d in SourceDetection.objects.all()])"
   ]
  },
  {
   "cell_type": "code",
   "execution_count": null,
   "id": "3cb0dfac-646e-4955-a4d7-dd5e2b60f24c",
   "metadata": {},
   "outputs": [],
   "source": [
    "# Get detections and sources as an Astropy table\n",
    "\n",
    "from astropy.table import Table\n",
    "\n",
    "def astropy_table_from_detections(detections):\n",
    "    t = Table()\n",
    "    \n",
    "    # get field names\n",
    "    detection_field_names = [field.name for field in Detection._meta.fields if field.name != 'id' and not isinstance(field, models.ForeignKey)]\n",
    "    detection_field_names.remove('name')    \n",
    "    source_field_names = [field.name for field in Source._meta.fields if not isinstance(field, models.ForeignKey)]\n",
    "    \n",
    "    sources = []\n",
    "    for d in detections:\n",
    "        sources_for_detection = Source.objects.filter(id__in=[d.source_id for d in SourceDetection.objects.filter(detection_id=d.id)])\n",
    "        if len(sources_for_detection) > 1:\n",
    "            raise Exception(\"more than one source\")\n",
    "        source = sources_for_detection.first()\n",
    "        sources.append(source)\n",
    "    \n",
    "    # add columns to the table\n",
    "    for field in detection_field_names:\n",
    "        t[field] = [getattr(d, field) for d in detections]\n",
    "    for field in source_field_names:\n",
    "        t[field] = [getattr(s, field) for s in sources]\n",
    "\n",
    "    return t"
   ]
  },
  {
   "cell_type": "code",
   "execution_count": null,
   "id": "a8e7ee25-4c22-4c77-8e24-76629eb8f170",
   "metadata": {},
   "outputs": [],
   "source": [
    "table = astropy_table_from_detections(detections_NGC5044_4)"
   ]
  },
  {
   "cell_type": "code",
   "execution_count": null,
   "id": "8fbedd3a-84c0-4f76-8259-5c50b4101990",
   "metadata": {},
   "outputs": [],
   "source": [
    "print(table)"
   ]
  },
  {
   "cell_type": "markdown",
   "id": "81282044-cf85-43f8-9399-9f6771ffaa27",
   "metadata": {},
   "source": [
    "## Comments\n",
    "\n",
    "Users are able to add comments to detections to give users additional information as metadata."
   ]
  },
  {
   "cell_type": "code",
   "execution_count": null,
   "id": "fac2dc7b-fdd2-44f8-8085-8d82bba5f25c",
   "metadata": {},
   "outputs": [],
   "source": [
    "# retrieve example detection\n",
    "\n",
    "example_detection = Detection.objects.get(id=1)"
   ]
  },
  {
   "cell_type": "code",
   "execution_count": null,
   "id": "0a95a750-df9a-4c43-b5b0-690257a38744",
   "metadata": {},
   "outputs": [],
   "source": [
    "Comment.objects.all()"
   ]
  },
  {
   "cell_type": "code",
   "execution_count": null,
   "id": "e8f8f449-80d0-4049-8fcd-0b929929805e",
   "metadata": {},
   "outputs": [],
   "source": [
    "# Add comment to detection\n",
    "\n",
    "comment = Comment.objects.create(\n",
    "    comment='This is an example comment',\n",
    "    author='Austin Shen',\n",
    "    detection=example_detection\n",
    ")"
   ]
  },
  {
   "cell_type": "code",
   "execution_count": null,
   "id": "d53dd85a-b6e3-43d1-9b21-bab658e0e4cf",
   "metadata": {},
   "outputs": [],
   "source": [
    "# Now delete that comment\n",
    "\n",
    "comment.delete()"
   ]
  },
  {
   "cell_type": "markdown",
   "id": "86c89ea2",
   "metadata": {},
   "source": [
    "# 1. Create tag\n",
    "\n",
    "Define a tag to apply to a collection of sources. This only needs a `name` and `description`. "
   ]
  },
  {
   "cell_type": "code",
   "execution_count": null,
   "id": "c667e363",
   "metadata": {},
   "outputs": [],
   "source": [
    "# Create a tag called release\n",
    "\n",
    "tag_release, _ = Tag.objects.get_or_create(\n",
    "    name=\"Release\",\n",
    "    description=\"WALLABY release tag (or better description).\",\n",
    ")"
   ]
  },
  {
   "cell_type": "markdown",
   "id": "a011a0ea",
   "metadata": {},
   "source": [
    "# 2. Select sources\n",
    "\n",
    "Next we will need to select the sources to tag. We will just select the first 100 sources here for some arbitrarily chosen `Run` for the example."
   ]
  },
  {
   "cell_type": "code",
   "execution_count": null,
   "id": "b46cf357",
   "metadata": {},
   "outputs": [],
   "source": [
    "Run.objects.all()"
   ]
  },
  {
   "cell_type": "code",
   "execution_count": null,
   "id": "f3afbb07",
   "metadata": {},
   "outputs": [],
   "source": [
    "# Example subset of sources and corresponding detections to tag as 'Release'\n",
    "\n",
    "N = 100\n",
    "run = Run.objects.get(name='NGC5044_4')\n",
    "detection_subset = Detection.objects.filter(run=run)\n",
    "\n",
    "source_detections_to_tag_release = []\n",
    "for i in range(N):\n",
    "    detection = detection_subset[i]\n",
    "    source_name = detection.name.replace(\" \", \"_\").replace(\"SoFiA\", \"WALLABY\")\n",
    "    source, _ = Source.objects.get_or_create(name=source_name)\n",
    "    source_detection, _ = SourceDetection.objects.get_or_create(\n",
    "        source_id=source.id,\n",
    "        detection_id=detection.id\n",
    "    )\n",
    "    source_detections_to_tag_release.append(source_detection)"
   ]
  },
  {
   "cell_type": "markdown",
   "id": "741bd29a",
   "metadata": {},
   "source": [
    "# 3. Apply tag\n",
    "\n",
    "Apply the tag to the selected sources by using the source_detection table."
   ]
  },
  {
   "cell_type": "code",
   "execution_count": null,
   "id": "0b80ec7f",
   "metadata": {},
   "outputs": [],
   "source": [
    "# Tag SourceDetections from list\n",
    "\n",
    "for sd in source_detections_to_tag_release:\n",
    "    TagSourceDetection.objects.get_or_create(\n",
    "        tag_id=tag_release.id,\n",
    "        source_detection_id=sd.id,\n",
    "        author=\"Austin Shen\"\n",
    "    )"
   ]
  },
  {
   "cell_type": "code",
   "execution_count": null,
   "id": "abb4a7c7",
   "metadata": {},
   "outputs": [],
   "source": [
    "[Source.objects.get(id=sd.source_id) for sd in [SourceDetection.objects.get(id=tsd.source_detection_id) for tsd in TagSourceDetection.objects.filter(tag_id=Tag.objects.get(name=\"Release\").id)]]"
   ]
  },
  {
   "cell_type": "markdown",
   "id": "47900bda",
   "metadata": {},
   "source": [
    "# 4. Retrieve\n",
    "\n",
    "Now we have tagged bunch of the sources through this SourceDetection table. We would now like to retrieve all of these and read them into a useful table format. WALLABY users are likely to require this functionality."
   ]
  },
  {
   "cell_type": "code",
   "execution_count": null,
   "id": "9554501c",
   "metadata": {},
   "outputs": [],
   "source": [
    "# Get sources with a certain tag\n",
    "\n",
    "release_sources = [\n",
    "    Source.objects.get(id=sd.source_id) for sd in [\n",
    "        SourceDetection.objects.get(id=tsd.source_detection_id) for tsd in \n",
    "            TagSourceDetection.objects.filter(tag_id=Tag.objects.get(name=\"Release\").id)\n",
    "    ]\n",
    "]"
   ]
  },
  {
   "cell_type": "code",
   "execution_count": null,
   "id": "1e33c495",
   "metadata": {},
   "outputs": [],
   "source": [
    "# Verify that these sources match the tagged sources\n",
    "\n",
    "set(release_sources) == set([Source.objects.get(id=sd.source_id) for sd in source_detections_to_tag_release])"
   ]
  },
  {
   "cell_type": "code",
   "execution_count": null,
   "id": "ab681b31",
   "metadata": {},
   "outputs": [],
   "source": [
    "# Read as astropy table\n",
    "\n",
    "from django.db import models\n",
    "from astropy.table import Table\n",
    "\n",
    "def astropy_table_from_tag(tag_name):\n",
    "    t = Table()\n",
    "    \n",
    "    # get field names\n",
    "    detection_field_names = [field.name for field in Detection._meta.fields if field.name != 'id' and not isinstance(field, models.ForeignKey)]\n",
    "    detection_field_names.remove('name')    \n",
    "    source_field_names = [field.name for field in Source._meta.fields if not isinstance(field, models.ForeignKey)]\n",
    "    \n",
    "    # get sources and detections\n",
    "    sources = [\n",
    "        Source.objects.get(id=sd.source_id) for sd in [\n",
    "            SourceDetection.objects.get(id=tsd.source_detection_id) for tsd in \n",
    "                TagSourceDetection.objects.filter(tag_id=Tag.objects.get(name=tag_name).id)\n",
    "        ]\n",
    "    ]\n",
    "    detections = [\n",
    "        Detection.objects.get(id=sd.detection_id) for sd in [\n",
    "            SourceDetection.objects.get(id=tsd.source_detection_id) for tsd in \n",
    "                TagSourceDetection.objects.filter(tag_id=Tag.objects.get(name=tag_name).id)\n",
    "        ]\n",
    "    ]\n",
    "    \n",
    "    # add columns to the table\n",
    "    for field in detection_field_names:\n",
    "        t[field] = [getattr(d, field) for d in detections]\n",
    "    for field in source_field_names:\n",
    "        t[field] = [getattr(s, field) for s in sources]\n",
    "\n",
    "    return t\n",
    "\n",
    "astropy_table_from_tag(tag_name=\"Release\")"
   ]
  },
  {
   "cell_type": "code",
   "execution_count": null,
   "id": "0810fcb1",
   "metadata": {},
   "outputs": [],
   "source": []
  }
 ],
 "metadata": {
  "kernelspec": {
   "display_name": "Python 3 (ipykernel)",
   "language": "python",
   "name": "python3"
  },
  "language_info": {
   "codemirror_mode": {
    "name": "ipython",
    "version": 3
   },
   "file_extension": ".py",
   "mimetype": "text/x-python",
   "name": "python",
   "nbconvert_exporter": "python",
   "pygments_lexer": "ipython3",
   "version": "3.9.1"
  }
 },
 "nbformat": 4,
 "nbformat_minor": 5
}
