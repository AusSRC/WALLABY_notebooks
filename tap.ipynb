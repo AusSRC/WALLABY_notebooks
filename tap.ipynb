{
 "cells": [
  {
   "cell_type": "markdown",
   "id": "1d1dad0b-8126-45e8-9d04-8c7f397f071d",
   "metadata": {},
   "source": [
    "# TAP\n",
    "\n",
    "This notebook is not intended to be used by the WALLABY science team but provides code snippets for accessing the TAP interface"
   ]
  },
  {
   "cell_type": "markdown",
   "id": "4c72cd39-16b1-4b91-ab11-cfa1cba7545e",
   "metadata": {},
   "source": [
    "# Imports"
   ]
  },
  {
   "cell_type": "code",
   "execution_count": null,
   "id": "b0246d40-8935-4c8f-a499-12621b38a211",
   "metadata": {},
   "outputs": [],
   "source": [
    "import os\n",
    "import requests\n",
    "import getpass\n",
    "import pyvo as vo\n",
    "from astropy.io.votable import parse_single_table"
   ]
  },
  {
   "cell_type": "markdown",
   "id": "a1b44855-2b90-4b0a-9025-47afd3ae16dc",
   "metadata": {},
   "source": [
    "# Select Tag"
   ]
  },
  {
   "cell_type": "code",
   "execution_count": null,
   "id": "d22fada2-a6d4-49f3-a47a-c5d075339fb5",
   "metadata": {},
   "outputs": [],
   "source": [
    "URL = \"https://wallaby.aussrc.org/tap\"\n",
    "tap = vo.dal.TAPService(URL)"
   ]
  },
  {
   "cell_type": "code",
   "execution_count": null,
   "id": "545e90fe-53fb-454d-9799-fcd4aee76794",
   "metadata": {},
   "outputs": [],
   "source": [
    "query = \"SELECT * FROM wallaby.tag\"\n",
    "votable = tap.search(query)\n",
    "table = votable.to_table()"
   ]
  },
  {
   "cell_type": "code",
   "execution_count": null,
   "id": "238d3bab-fc1d-4121-8101-b32898fac3b0",
   "metadata": {},
   "outputs": [],
   "source": [
    "table"
   ]
  },
  {
   "cell_type": "markdown",
   "id": "0ce2bd47-a590-4632-958d-448d3d48ffe9",
   "metadata": {},
   "source": [
    "# Input tag, query detections"
   ]
  },
  {
   "cell_type": "code",
   "execution_count": null,
   "id": "76df806b-ed1b-4684-97e6-c8775e1a7704",
   "metadata": {},
   "outputs": [],
   "source": [
    "tag_name = 'NGC 5044 DR1'"
   ]
  },
  {
   "cell_type": "code",
   "execution_count": null,
   "id": "1a3a1628-ff25-4a30-808c-315470e8eff5",
   "metadata": {},
   "outputs": [],
   "source": [
    "query = \"\"\"SELECT d.* FROM wallaby.tag_detection td\n",
    "        LEFT JOIN wallaby.detection d ON d.id = td.detection_id LEFT JOIN wallaby.tag t ON t.id = td.tag_id\n",
    "        WHERE t.name IN ('Internal Data Release', '$TAG_NAME')\n",
    "        GROUP BY d.id\"\"\"\n",
    "query = query.replace('$TAG_NAME', tag_name)"
   ]
  },
  {
   "cell_type": "code",
   "execution_count": null,
   "id": "01331ebb-4ca8-4513-a919-25be82195ae4",
   "metadata": {},
   "outputs": [],
   "source": [
    "result = tap.search(query)\n",
    "table = result.to_table()"
   ]
  },
  {
   "cell_type": "code",
   "execution_count": null,
   "id": "962a3f12-c0b5-48f0-bad4-93232e194a35",
   "metadata": {
    "scrolled": true
   },
   "outputs": [],
   "source": [
    "table"
   ]
  },
  {
   "cell_type": "markdown",
   "id": "afb24993-e4ce-4e7b-8ffa-864237266262",
   "metadata": {},
   "source": [
    "# Download products\n"
   ]
  },
  {
   "cell_type": "markdown",
   "id": "88770546-9146-436f-bbef-b6277ab93a03",
   "metadata": {},
   "source": [
    "## Authenticate"
   ]
  },
  {
   "cell_type": "code",
   "execution_count": null,
   "id": "22e49bc3-c19a-456d-b47a-80538f770a51",
   "metadata": {},
   "outputs": [],
   "source": [
    "username = 'ashen'\n",
    "password = getpass.getpass('Enter your password')"
   ]
  },
  {
   "cell_type": "markdown",
   "id": "13385a45-eec5-4469-8e23-2b585b2a7728",
   "metadata": {},
   "source": [
    "## Download"
   ]
  },
  {
   "cell_type": "code",
   "execution_count": null,
   "id": "723d1122-669a-4aab-b4e1-be035f57eb55",
   "metadata": {},
   "outputs": [],
   "source": [
    "def download_table_products(table, directory, chunk_size=8192):\n",
    "    \"\"\"Download WALLABY products from ADQL queried table\n",
    "\n",
    "    \"\"\"\n",
    "    if not os.path.exists(directory):\n",
    "        os.mkdir(directory)\n",
    "    print(f'Saving products to {directory}')\n",
    "    for row in table:\n",
    "        name = row['source_name']\n",
    "        products_filename = os.path.join(directory, f'{name}.tar')\n",
    "        access_url = row['access_url']\n",
    "        votable = parse_single_table(access_url)\n",
    "        product_table = votable.to_table()\n",
    "        url = product_table[product_table['description'] == 'SoFiA-2 Detection Products'][0]['access_url']\n",
    "        with requests.get(url, auth=(username, password), stream=True) as r:\n",
    "            r.raise_for_status()\n",
    "            with open(products_filename, 'wb') as f:\n",
    "                for chunk in r.iter_content(chunk_size=chunk_size):\n",
    "                    f.write(chunk)\n",
    "        print(f'Downloaded completed for {name}')"
   ]
  },
  {
   "cell_type": "code",
   "execution_count": null,
   "id": "d9afd64d-c336-42e4-94a3-6c7670b6326c",
   "metadata": {},
   "outputs": [],
   "source": [
    "download_table_products(table[0:5], tag_name)"
   ]
  }
 ],
 "metadata": {
  "kernelspec": {
   "display_name": "Python 3 (ipykernel)",
   "language": "python",
   "name": "python3"
  },
  "language_info": {
   "codemirror_mode": {
    "name": "ipython",
    "version": 3
   },
   "file_extension": ".py",
   "mimetype": "text/x-python",
   "name": "python",
   "nbconvert_exporter": "python",
   "pygments_lexer": "ipython3",
   "version": "3.9.6"
  }
 },
 "nbformat": 4,
 "nbformat_minor": 5
}
