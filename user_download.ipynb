{
 "cells": [
  {
   "cell_type": "markdown",
   "id": "935cdfea",
   "metadata": {},
   "source": [
    "# WALLABY internal data access download\n",
    "\n",
    "A notebook pre-filled with cells and scripts for downloading WALLABY internal release data. The notebook has the following sections\n",
    "\n",
    "1. Authentication\n",
    "2. Get source finding catalog and products\n",
    "3. Get kinematic model table and products"
   ]
  },
  {
   "cell_type": "markdown",
   "id": "7dd0cc98-4b05-447c-aa33-3d27a84251d1",
   "metadata": {},
   "source": [
    "---"
   ]
  },
  {
   "cell_type": "code",
   "execution_count": 1,
   "id": "5630c448-e003-4ae0-9efc-bfef293568a0",
   "metadata": {},
   "outputs": [],
   "source": [
    "import os\n",
    "import getpass\n",
    "import requests\n",
    "import getpass\n",
    "import pyvo as vo\n",
    "from pyvo.auth import authsession, securitymethods\n",
    "from astropy.io.votable import from_table, parse_single_table"
   ]
  },
  {
   "cell_type": "markdown",
   "id": "ae97b278",
   "metadata": {},
   "source": [
    "# 1. Connect\n",
    "\n",
    "We access the internally released WALLABY via TAP. The link to the tap service is provided below. The password to the `wallaby_user` will be circulated internally by the WALLABY project team, and it will be required to access any of the data."
   ]
  },
  {
   "cell_type": "markdown",
   "id": "b8a7a9ff-8084-4ad1-9d2c-d0d8aa62dab6",
   "metadata": {},
   "source": [
    "### Authenticate\n",
    "\n",
    "<span style=\"font-weight: bold; color: #FF0000;\">⚠ Update the cell below with your username and enter your password</span>"
   ]
  },
  {
   "cell_type": "code",
   "execution_count": 2,
   "id": "1f4220e4-57ba-49e5-be19-983caf994019",
   "metadata": {},
   "outputs": [
    {
     "name": "stdout",
     "output_type": "stream",
     "text": [
      "Enter your password········\n"
     ]
    }
   ],
   "source": [
    "# Enter WALLABY user username and password\n",
    "\n",
    "username = 'wallaby_user'\n",
    "password = getpass.getpass('Enter your password')"
   ]
  },
  {
   "cell_type": "code",
   "execution_count": 3,
   "id": "a02fa60a-d21d-483f-82a0-2862322e57e0",
   "metadata": {},
   "outputs": [],
   "source": [
    "# Connect with TAP service\n",
    "\n",
    "URL = \"https://wallaby.aussrc.org/tap\"\n",
    "auth = vo.auth.AuthSession()\n",
    "auth.add_security_method_for_url(URL, vo.auth.securitymethods.BASIC)\n",
    "auth.credentials.set_password(username, password)\n",
    "tap = vo.dal.TAPService(URL, session=auth)"
   ]
  },
  {
   "cell_type": "markdown",
   "id": "6d8af3de",
   "metadata": {},
   "source": [
    "# 2. Source finding\n",
    "\n",
    "First we need to identify which internal release we want to access. The WALLABY team uses tags to classify source finding detections as internally released. You can view all of the tags by running the cells below. Then, we set the `tag_name` variable two cells below. This will be used later in the notebook, so once you know what data you would like to access, update this value accordingly."
   ]
  },
  {
   "cell_type": "code",
   "execution_count": 4,
   "id": "92bb2bbb",
   "metadata": {},
   "outputs": [
    {
     "data": {
      "text/html": [
       "<div><i>Table length=17</i>\n",
       "<table id=\"table4868598704\" class=\"table-striped table-bordered table-condensed\">\n",
       "<thead><tr><th>id</th><th>name</th><th>description</th><th>added_at</th></tr></thead>\n",
       "<thead><tr><th>int64</th><th>object</th><th>object</th><th>object</th></tr></thead>\n",
       "<tr><td>2</td><td>Norma DR1</td><td>Norma DR1 data release</td><td>2022-02-17T00:49:41.748948</td></tr>\n",
       "<tr><td>3</td><td>NGC 5044 DR1</td><td>NGC 5044 DR1 data release</td><td>2022-02-17T05:20:01.326107</td></tr>\n",
       "<tr><td>6</td><td>Hydra DR1</td><td>Hydra DR1 data release</td><td>2022-02-23T04:49:08.557440</td></tr>\n",
       "<tr><td>7</td><td>Hydra DR2</td><td>Hydra DR2 data release</td><td>2022-02-23T04:49:22.070213</td></tr>\n",
       "<tr><td>12</td><td>NGC 5044 DR3</td><td>NGC 5044 DR3 data release</td><td>2022-10-24T08:44:05.774250</td></tr>\n",
       "<tr><td>10</td><td>NGC 5044 DR2</td><td>NGC 5044 DR2 data release</td><td>2022-06-10T08:55:44.842245</td></tr>\n",
       "<tr><td>9</td><td>NGC 4808 DR1</td><td>NGC 4808 DR1 data release</td><td>2022-05-27T08:18:00.781334</td></tr>\n",
       "<tr><td>8</td><td>NGC 4636 DR1</td><td>NGC 4636 DR1 data release</td><td>2022-02-23T04:49:39.754897</td></tr>\n",
       "<tr><td>14</td><td>Internal Release</td><td>The source and corresponding detection have been released internally to the team.</td><td>2022-12-02T05:53:15.478050</td></tr>\n",
       "<tr><td>15</td><td>Early Science</td><td>Early science data</td><td>2022-12-12T09:24:01.206313</td></tr>\n",
       "<tr><td>13</td><td>Vela DR1</td><td>DR1 of the phase 2 pilot field Vela</td><td>2022-11-10T02:00:48.396983</td></tr>\n",
       "<tr><td>16</td><td>WALLABY Single Coverage</td><td>Preliminary source catalogue from SoFiA quality assurance run on individual footprints of the full WALLABY survey</td><td>2023-06-15T07:59:23.960981</td></tr>\n",
       "<tr><td>5</td><td>Multiplet</td><td>Two or more galaxies merged into a single detection.</td><td>2022-02-23T03:30:02.628721</td></tr>\n",
       "<tr><td>17</td><td>Questionable</td><td>Detection is questionable and could be a false positive.</td><td>2023-11-17T05:57:27.147680</td></tr>\n",
       "<tr><td>4</td><td>Component</td><td>Component or partial detection of a galaxy or object.</td><td>2022-02-17T07:09:19.996888</td></tr>\n",
       "<tr><td>18</td><td>WALLABY</td><td>Full WALLABY survey</td><td>2023-11-28T07:28:04.877718</td></tr>\n",
       "<tr><td>19</td><td>Pilot 2 High-Res DR1</td><td>12 arcsec postage stamps from Pilot Survey Phase 2</td><td>2023-12-09T05:13:35.114331</td></tr>\n",
       "</table></div>"
      ],
      "text/plain": [
       "<Table length=17>\n",
       "  id            name                                                             description                                                             added_at         \n",
       "int64          object                                                               object                                                                object          \n",
       "----- ----------------------- ----------------------------------------------------------------------------------------------------------------- --------------------------\n",
       "    2               Norma DR1                                                                                            Norma DR1 data release 2022-02-17T00:49:41.748948\n",
       "    3            NGC 5044 DR1                                                                                         NGC 5044 DR1 data release 2022-02-17T05:20:01.326107\n",
       "    6               Hydra DR1                                                                                            Hydra DR1 data release 2022-02-23T04:49:08.557440\n",
       "    7               Hydra DR2                                                                                            Hydra DR2 data release 2022-02-23T04:49:22.070213\n",
       "   12            NGC 5044 DR3                                                                                         NGC 5044 DR3 data release 2022-10-24T08:44:05.774250\n",
       "   10            NGC 5044 DR2                                                                                         NGC 5044 DR2 data release 2022-06-10T08:55:44.842245\n",
       "    9            NGC 4808 DR1                                                                                         NGC 4808 DR1 data release 2022-05-27T08:18:00.781334\n",
       "    8            NGC 4636 DR1                                                                                         NGC 4636 DR1 data release 2022-02-23T04:49:39.754897\n",
       "   14        Internal Release                                 The source and corresponding detection have been released internally to the team. 2022-12-02T05:53:15.478050\n",
       "   15           Early Science                                                                                                Early science data 2022-12-12T09:24:01.206313\n",
       "   13                Vela DR1                                                                               DR1 of the phase 2 pilot field Vela 2022-11-10T02:00:48.396983\n",
       "   16 WALLABY Single Coverage Preliminary source catalogue from SoFiA quality assurance run on individual footprints of the full WALLABY survey 2023-06-15T07:59:23.960981\n",
       "    5               Multiplet                                                              Two or more galaxies merged into a single detection. 2022-02-23T03:30:02.628721\n",
       "   17            Questionable                                                          Detection is questionable and could be a false positive. 2023-11-17T05:57:27.147680\n",
       "    4               Component                                                             Component or partial detection of a galaxy or object. 2022-02-17T07:09:19.996888\n",
       "   18                 WALLABY                                                                                               Full WALLABY survey 2023-11-28T07:28:04.877718\n",
       "   19    Pilot 2 High-Res DR1                                                                12 arcsec postage stamps from Pilot Survey Phase 2 2023-12-09T05:13:35.114331"
      ]
     },
     "execution_count": 4,
     "metadata": {},
     "output_type": "execute_result"
    }
   ],
   "source": [
    "# Get all tags\n",
    "\n",
    "query = \"SELECT * FROM wallaby.tag\"\n",
    "votable = tap.search(query)\n",
    "table = votable.to_table()\n",
    "table"
   ]
  },
  {
   "cell_type": "markdown",
   "id": "74c459eb-5d2a-4007-8150-eba6c13875c2",
   "metadata": {},
   "source": [
    "<span style=\"font-weight: bold; color: #FF0000;\">⚠ Update the `tag_name` value here</span>"
   ]
  },
  {
   "cell_type": "code",
   "execution_count": 5,
   "id": "65dfe2d9",
   "metadata": {},
   "outputs": [],
   "source": [
    "# SELECT TAG\n",
    "\n",
    "tag_name = \"NGC 5044 DR1\""
   ]
  },
  {
   "cell_type": "code",
   "execution_count": 6,
   "id": "aac09df6-aa7a-4069-83c1-01946cfe2057",
   "metadata": {},
   "outputs": [
    {
     "data": {
      "text/html": [
       "<div><i>Table length=353</i>\n",
       "<table id=\"table4869495152\" class=\"table-striped table-bordered table-condensed\">\n",
       "<thead><tr><th>id</th><th>name</th><th>run_id</th><th>instance_id</th><th>access_url</th><th>access_format</th><th>source_name</th><th>x</th><th>y</th><th>z</th><th>x_min</th><th>x_max</th><th>y_min</th><th>y_max</th><th>z_min</th><th>z_max</th><th>n_pix</th><th>f_min</th><th>f_max</th><th>f_sum</th><th>rel</th><th>flag</th><th>rms</th><th>w20</th><th>w50</th><th>ell_maj</th><th>ell_min</th><th>ell_pa</th><th>ell3s_maj</th><th>ell3s_min</th><th>ell3s_pa</th><th>kin_pa</th><th>err_x</th><th>err_y</th><th>err_z</th><th>err_f_sum</th><th>ra</th><th>dec</th><th>freq</th><th>l</th><th>b</th><th>v_rad</th><th>v_opt</th><th>v_app</th><th>tags</th><th>comments</th></tr></thead>\n",
       "<thead><tr><th></th><th></th><th></th><th></th><th></th><th></th><th></th><th>pix</th><th>pix</th><th>pix</th><th>pix</th><th>pix</th><th>pix</th><th>pix</th><th>pix</th><th>pix</th><th></th><th>Jy / beam</th><th>Jy / beam</th><th>Hz Jy</th><th></th><th></th><th>Jy / beam</th><th>Hz</th><th>Hz</th><th>pix</th><th>pix</th><th>deg</th><th>pix</th><th>pix</th><th>deg</th><th>deg</th><th>pix</th><th>pix</th><th>pix</th><th>Hz Jy</th><th>deg</th><th>deg</th><th>Hz</th><th>deg</th><th>deg</th><th>m / s</th><th>m / s</th><th>m / s</th><th></th><th></th></tr></thead>\n",
       "<thead><tr><th>int64</th><th>object</th><th>int64</th><th>int64</th><th>object</th><th>object</th><th>object</th><th>float64</th><th>float64</th><th>float64</th><th>float64</th><th>float64</th><th>float64</th><th>float64</th><th>float64</th><th>float64</th><th>float64</th><th>float64</th><th>float64</th><th>float64</th><th>float64</th><th>int32</th><th>float64</th><th>float64</th><th>float64</th><th>float64</th><th>float64</th><th>float64</th><th>float64</th><th>float64</th><th>float64</th><th>float64</th><th>float64</th><th>float64</th><th>float64</th><th>float64</th><th>float64</th><th>float64</th><th>float64</th><th>float64</th><th>float64</th><th>float64</th><th>float64</th><th>float64</th><th>object</th><th>object</th></tr></thead>\n",
       "<tr><td>4682</td><td>SoFiA J134432.82-244925.4</td><td>86</td><td>167</td><td>https://wallaby.aussrc.org/survey/vo/dl/dlmeta?ID=4682</td><td>application/x-votable+xml;content=datalink</td><td>WALLABY J134432-244925</td><td>892.2192722974343</td><td>828.6910794180917</td><td>5930.480420466962</td><td>584.0</td><td>605.0</td><td>516.0</td><td>539.0</td><td>722.0</td><td>762.0</td><td>5492.0</td><td>-0.008456071838736534</td><td>0.01184215117245913</td><td>4962.708632666648</td><td>0.9982983729971763</td><td>0</td><td>0.002604982655527896</td><td>575810.2416679957</td><td>425258.4382175294</td><td>8.044182715264228</td><td>5.801783566052931</td><td>-9.205918086063775</td><td>5.923879573502616</td><td>4.761718187956442</td><td>-17.19364722750088</td><td>137.7057788195698</td><td>0.2704957238534749</td><td>0.3529004099740369</td><td>0.6126948158876361</td><td>669.985827289204</td><td>206.1367425362275</td><td>-24.82372652760987</td><td>1405323711.490019</td><td>--</td><td>--</td><td>--</td><td>--</td><td>--</td><td>NGC 5044 DR1: NGC 5044 DR1 data release</td><td></td></tr>\n",
       "<tr><td>4683</td><td>SoFiA J134414.08-231547.6</td><td>86</td><td>167</td><td>https://wallaby.aussrc.org/survey/vo/dl/dlmeta?ID=4683</td><td>application/x-votable+xml;content=datalink</td><td>WALLABY J134414-231547</td><td>912.7966375267697</td><td>1765.380706387507</td><td>5850.886035304528</td><td>608.0</td><td>618.0</td><td>1459.0</td><td>1474.0</td><td>653.0</td><td>674.0</td><td>1570.0</td><td>-0.005550565663725138</td><td>0.005026679951697588</td><td>858.3479820249023</td><td>0.9670331513514654</td><td>0</td><td>0.002414710355013335</td><td>305803.3007435854</td><td>292091.9646533701</td><td>6.154688079922152</td><td>4.430776380504492</td><td>-20.44248192845933</td><td>0.0</td><td>0.0</td><td>0.0</td><td>-1.0</td><td>0.4981209955259176</td><td>0.6571609308369059</td><td>1.19492230125207</td><td>332.055276869292</td><td>206.0586737670744</td><td>-23.26321527118279</td><td>1403849741.39442</td><td>--</td><td>--</td><td>--</td><td>--</td><td>--</td><td>NGC 5044 DR1: NGC 5044 DR1 data release</td><td></td></tr>\n",
       "<tr><td>4686</td><td>SoFiA J134002.99-252831.1</td><td>86</td><td>167</td><td>https://wallaby.aussrc.org/survey/vo/dl/dlmeta?ID=4686</td><td>application/x-votable+xml;content=datalink</td><td>WALLABY J134002-252831</td><td>1510.219285286971</td><td>449.6839309740759</td><td>5450.948663002661</td><td>1197.0</td><td>1223.0</td><td>137.0</td><td>162.0</td><td>220.0</td><td>308.0</td><td>12088.0</td><td>-0.02482357807457447</td><td>0.03819903358817101</td><td>28043.9008702014</td><td>0.9999999975533298</td><td>0</td><td>0.007561451779130322</td><td>1379746.581870909</td><td>1197784.306285804</td><td>10.23336711287187</td><td>7.073002847152249</td><td>-55.90017703864724</td><td>11.33521688663817</td><td>10.16133348083117</td><td>83.44766682365</td><td>295.3845286580857</td><td>0.2678909318396133</td><td>0.2450701235191281</td><td>1.314342289480209</td><td>2885.213317420493</td><td>205.012446592053</td><td>-25.47530390468324</td><td>1396443493.759208</td><td>--</td><td>--</td><td>--</td><td>--</td><td>--</td><td>NGC 5044 DR1: NGC 5044 DR1 data release</td><td></td></tr>\n",
       "<tr><td>4689</td><td>SoFiA J134321.17-251560.0</td><td>86</td><td>167</td><td>https://wallaby.aussrc.org/survey/vo/dl/dlmeta?ID=4689</td><td>application/x-votable+xml;content=datalink</td><td>WALLABY J134321-251560</td><td>1060.552281782639</td><td>566.7393706726875</td><td>5375.146685287778</td><td>740.0</td><td>776.0</td><td>253.0</td><td>279.0</td><td>154.0</td><td>220.0</td><td>16399.0</td><td>-0.02024710923433304</td><td>0.02464260533452034</td><td>22517.83897053215</td><td>0.9999999999710679</td><td>0</td><td>0.005048318670086136</td><td>921515.8572879418</td><td>855012.4069108561</td><td>19.07482073732793</td><td>6.461294385356203</td><td>-75.48852433620664</td><td>19.82546843029606</td><td>4.674523655349004</td><td>-75.73354263673336</td><td>109.5109592769523</td><td>0.468515461222678</td><td>0.2205810563135068</td><td>0.767903659358751</td><td>2243.62856155457</td><td>205.8382038629939</td><td>-25.26665875033205</td><td>1395039753.431156</td><td>--</td><td>--</td><td>--</td><td>--</td><td>--</td><td>NGC 5044 DR1: NGC 5044 DR1 data release</td><td></td></tr>\n",
       "<tr><td>4690</td><td>SoFiA J134255.03-250726.7</td><td>86</td><td>167</td><td>https://wallaby.aussrc.org/survey/vo/dl/dlmeta?ID=4690</td><td>application/x-votable+xml;content=datalink</td><td>WALLABY J134255-250726</td><td>1117.6818226052126</td><td>653.3700870157163</td><td>5366.6332604437275</td><td>808.0</td><td>828.0</td><td>345.0</td><td>361.0</td><td>144.0</td><td>217.0</td><td>7509.0</td><td>-0.01123945042490959</td><td>0.01789263635873795</td><td>9954.584601798539</td><td>0.9999981425157802</td><td>0</td><td>0.00357455217083513</td><td>950721.5222104554</td><td>856088.9992852381</td><td>7.260116910795796</td><td>4.701990077549223</td><td>67.47379567391351</td><td>7.456898010907328</td><td>3.879342979108772</td><td>72.38326911834007</td><td>79.76773148369708</td><td>0.2364084312693442</td><td>0.2072887843888867</td><td>0.9814767699157454</td><td>1074.9993649649</td><td>205.7293032037084</td><td>-25.12408584595554</td><td>1394882097.415525</td><td>--</td><td>--</td><td>--</td><td>--</td><td>--</td><td>NGC 5044 DR1: NGC 5044 DR1 data release</td><td></td></tr>\n",
       "<tr><td>4693</td><td>SoFiA J133836.10-202908.7</td><td>86</td><td>169</td><td>https://wallaby.aussrc.org/survey/vo/dl/dlmeta?ID=4693</td><td>application/x-votable+xml;content=datalink</td><td>WALLABY J133836-202908</td><td>1667.898745965499</td><td>3444.8780271008372</td><td>6576.7608175846635</td><td>1353.0</td><td>1380.0</td><td>631.0</td><td>663.0</td><td>1369.0</td><td>1408.0</td><td>13374.0</td><td>-0.007605225313454866</td><td>0.02221968024969101</td><td>8031.351140221693</td><td>1.0</td><td>0</td><td>0.001921164369854721</td><td>232167.0391925596</td><td>101896.8111677676</td><td>11.5513089269144</td><td>6.668809683162435</td><td>44.61036792336159</td><td>7.836400872281038</td><td>6.216983145677361</td><td>39.35450713705944</td><td>32.85113022458832</td><td>0.2796140654540961</td><td>0.2925555638854163</td><td>0.3820548635657406</td><td>771.0644821858554</td><td>204.6504338658841</td><td>-20.48574094680471</td><td>1417291866.992187</td><td>--</td><td>--</td><td>--</td><td>--</td><td>--</td><td>NGC 5044 DR1: NGC 5044 DR1 data release</td><td></td></tr>\n",
       "<tr><td>4695</td><td>SoFiA J134247.87-193454.0</td><td>86</td><td>169</td><td>https://wallaby.aussrc.org/survey/vo/dl/dlmeta?ID=4695</td><td>application/x-votable+xml;content=datalink</td><td>WALLABY J134247-193454</td><td>1069.3335821985793</td><td>3977.1712166538982</td><td>6384.253804306788</td><td>759.0</td><td>781.0</td><td>1169.0</td><td>1195.0</td><td>1178.0</td><td>1217.0</td><td>10281.0</td><td>-0.01498799119144678</td><td>0.0306880883872509</td><td>12155.9749668228</td><td>1.0</td><td>0</td><td>0.003380213815720329</td><td>300777.1024068306</td><td>206043.9423097569</td><td>8.74575951091625</td><td>7.276142931662894</td><td>-32.07636478670084</td><td>7.991231738199873</td><td>6.282395596927365</td><td>-26.68534793762073</td><td>297.0270156137832</td><td>0.2368453324388743</td><td>0.2837654591246273</td><td>0.4093339748765066</td><td>1189.480611893867</td><td>205.6994477455044</td><td>-19.58167971782021</td><td>1413726922.301859</td><td>--</td><td>--</td><td>--</td><td>--</td><td>--</td><td>NGC 5044 DR1: NGC 5044 DR1 data release</td><td></td></tr>\n",
       "<tr><td>4698</td><td>SoFiA J134600.65-212228.6</td><td>86</td><td>169</td><td>https://wallaby.aussrc.org/survey/vo/dl/dlmeta?ID=4698</td><td>application/x-votable+xml;content=datalink</td><td>WALLABY J134600-212228</td><td>640.5022860755162</td><td>2892.3719869644474</td><td>5227.501252650584</td><td>332.0</td><td>347.0</td><td>87.0</td><td>105.0</td><td>13.0</td><td>71.0</td><td>5395.0</td><td>-0.007696056272834539</td><td>0.01393999438732862</td><td>5335.240033529279</td><td>0.9985591817075502</td><td>0</td><td>0.002998005546285922</td><td>690727.1462760655</td><td>532018.5801263079</td><td>6.26294329132269</td><td>5.156110750373782</td><td>23.40149982537582</td><td>5.314209976077589</td><td>4.03535156405205</td><td>27.73287060188846</td><td>202.4035667538963</td><td>0.2576709418651046</td><td>0.2881143522950517</td><td>0.9283420594782479</td><td>764.2292785060336</td><td>206.5027086021554</td><td>-21.37460952918802</td><td>1392305578.752692</td><td>--</td><td>--</td><td>--</td><td>--</td><td>--</td><td>NGC 5044 DR1: NGC 5044 DR1 data release</td><td></td></tr>\n",
       "<tr><td>4701</td><td>SoFiA J133553.26-204426.3</td><td>86</td><td>171</td><td>https://wallaby.aussrc.org/survey/vo/dl/dlmeta?ID=4701</td><td>application/x-votable+xml;content=datalink</td><td>WALLABY J133553-204426</td><td>2050.2604545186377</td><td>3295.9769335327264</td><td>6337.786556330494</td><td>493.0</td><td>512.0</td><td>493.0</td><td>512.0</td><td>1131.0</td><td>1170.0</td><td>5279.0</td><td>-0.006427418440580368</td><td>0.01011850778013468</td><td>3298.338504161048</td><td>0.9999734512970775</td><td>0</td><td>0.001839462268616131</td><td>439665.5498686665</td><td>338264.4581525321</td><td>8.45158888888735</td><td>4.720676837230373</td><td>-75.0504375034827</td><td>8.7396953073263</td><td>3.338446363025249</td><td>-82.61567165496999</td><td>302.9601824601442</td><td>0.3308964831795543</td><td>0.2494976731772151</td><td>0.675983103667226</td><td>463.8336265163205</td><td>203.9718982500038</td><td>-20.74063007223401</td><td>1412866417.709707</td><td>--</td><td>--</td><td>--</td><td>--</td><td>--</td><td>NGC 5044 DR1: NGC 5044 DR1 data release</td><td></td></tr>\n",
       "<tr><td>4703</td><td>SoFiA J133222.71-200358.0</td><td>86</td><td>171</td><td>https://wallaby.aussrc.org/survey/vo/dl/dlmeta?ID=4703</td><td>application/x-votable+xml;content=datalink</td><td>WALLABY J133222-200358</td><td>2541.6719780491703</td><td>3702.8952937100053</td><td>6311.030105985804</td><td>987.0</td><td>1000.0</td><td>900.0</td><td>915.0</td><td>1104.0</td><td>1148.0</td><td>3871.0</td><td>-0.005619363393634558</td><td>0.01004656869918108</td><td>2247.318816427511</td><td>0.9892391281144453</td><td>0</td><td>0.002036820564190239</td><td>589078.3599597702</td><td>124994.5725004682</td><td>5.775717583843296</td><td>4.920414083954268</td><td>-46.32438267247144</td><td>3.961987937496216</td><td>3.240852936508506</td><td>35.84474738659659</td><td>186.4936153239591</td><td>0.2938855551924138</td><td>0.3112651931837385</td><td>1.032785041971625</td><td>439.8047061675964</td><td>203.0946249519964</td><td>-20.0661143556457</td><td>1412370927.888509</td><td>--</td><td>--</td><td>--</td><td>--</td><td>--</td><td>NGC 5044 DR1: NGC 5044 DR1 data release</td><td></td></tr>\n",
       "<tr><td>4704</td><td>SoFiA J132635.82-221419.6</td><td>86</td><td>174</td><td>https://wallaby.aussrc.org/survey/vo/dl/dlmeta?ID=4704</td><td>application/x-votable+xml;content=datalink</td><td>WALLABY J132635-221419</td><td>3346.992094141626</td><td>2397.641100262253</td><td>6381.794725012408</td><td>529.0</td><td>571.0</td><td>832.0</td><td>863.0</td><td>1160.0</td><td>1220.0</td><td>28203.0</td><td>-0.008086279965937138</td><td>0.03607656806707382</td><td>39487.10908987116</td><td>1.0</td><td>0</td><td>0.002141435602833229</td><td>460661.2307878624</td><td>384064.7472650546</td><td>14.46487806247115</td><td>8.249382983641622</td><td>80.63485958376401</td><td>16.56158362970337</td><td>8.906835708066355</td><td>81.03918187454805</td><td>85.94520972317494</td><td>0.1795353154074781</td><td>0.1225439206434383</td><td>0.231551494750187</td><td>1248.096565414591</td><td>201.6492436957658</td><td>-22.2387729538197</td><td>1413681383.796408</td><td>--</td><td>--</td><td>--</td><td>--</td><td>--</td><td>NGC 5044 DR1: NGC 5044 DR1 data release</td><td></td></tr>\n",
       "<tr><td>4706</td><td>SoFiA J133823.24-202709.9</td><td>86</td><td>171</td><td>https://wallaby.aussrc.org/survey/vo/dl/dlmeta?ID=4706</td><td>application/x-votable+xml;content=datalink</td><td>WALLABY J133823-202709</td><td>1697.7858234343078</td><td>3465.039198453247</td><td>6288.135621431058</td><td>142.0</td><td>160.0</td><td>660.0</td><td>678.0</td><td>1084.0</td><td>1117.0</td><td>5545.0</td><td>-0.006503112148493528</td><td>0.01068687159568071</td><td>2570.481589801659</td><td>0.9998771705720573</td><td>0</td><td>0.001904405659288483</td><td>261468.1379291167</td><td>114838.0871679062</td><td>7.319745342475636</td><td>5.375276551467008</td><td>-49.3460971692556</td><td>4.305869349186533</td><td>3.858092008970478</td><td>14.59377414195885</td><td>144.1568287370722</td><td>0.3129271861605031</td><td>0.324149302150366</td><td>0.5952552799289771</td><td>492.1593658133989</td><td>204.5968391575931</td><td>-20.45273706442247</td><td>1411946955.952311</td><td>--</td><td>--</td><td>--</td><td>--</td><td>--</td><td>NGC 5044 DR1: NGC 5044 DR1 data release</td><td></td></tr>\n",
       "<tr><td>...</td><td>...</td><td>...</td><td>...</td><td>...</td><td>...</td><td>...</td><td>...</td><td>...</td><td>...</td><td>...</td><td>...</td><td>...</td><td>...</td><td>...</td><td>...</td><td>...</td><td>...</td><td>...</td><td>...</td><td>...</td><td>...</td><td>...</td><td>...</td><td>...</td><td>...</td><td>...</td><td>...</td><td>...</td><td>...</td><td>...</td><td>...</td><td>...</td><td>...</td><td>...</td><td>...</td><td>...</td><td>...</td><td>...</td><td>...</td><td>...</td><td>...</td><td>...</td><td>...</td><td>...</td><td>...</td></tr>\n",
       "<tr><td>6064</td><td>SoFiA J132050.64-232904.0</td><td>86</td><td>253</td><td>https://wallaby.aussrc.org/survey/vo/dl/dlmeta?ID=6064</td><td>application/x-votable+xml;content=datalink</td><td>WALLABY J132050-232904</td><td>4132.334867108322</td><td>1640.498575571888</td><td>6222.097281636117</td><td>1325.0</td><td>1349.0</td><td>1328.0</td><td>1356.0</td><td>1005.0</td><td>1065.0</td><td>10151.0</td><td>-0.01953152939677238</td><td>0.03074277006089687</td><td>17417.7997718895</td><td>0.9999997293282582</td><td>0</td><td>0.006192575266522058</td><td>904948.6590820686</td><td>617637.431324764</td><td>10.46547563213922</td><td>5.860238955780551</td><td>-48.92169176850857</td><td>10.15000392297066</td><td>5.589179300056948</td><td>-44.02555758529176</td><td>132.1115856796367</td><td>0.3077110714847843</td><td>0.2797213443749364</td><td>0.8575195055482474</td><td>2165.315692157573</td><td>200.2110000350682</td><td>-23.48444552024013</td><td>1410724023.733887</td><td>--</td><td>--</td><td>--</td><td>--</td><td>--</td><td>NGC 5044 DR1: NGC 5044 DR1 data release</td><td></td></tr>\n",
       "<tr><td>6066</td><td>SoFiA J132402.75-243938.6</td><td>86</td><td>253</td><td>https://wallaby.aussrc.org/survey/vo/dl/dlmeta?ID=6066</td><td>application/x-votable+xml;content=datalink</td><td>WALLABY J132402-243938</td><td>3683.313224302635</td><td>941.4215557018105</td><td>6224.646978310984</td><td>872.0</td><td>907.0</td><td>615.0</td><td>658.0</td><td>1001.0</td><td>1063.0</td><td>23973.0</td><td>-0.01178441289812326</td><td>0.02176531963050365</td><td>26646.72249010644</td><td>1.0</td><td>0</td><td>0.002825620313241795</td><td>737350.1677027978</td><td>419695.2387221752</td><td>16.71403186491061</td><td>9.89086247871969</td><td>-45.68387124306643</td><td>15.6048515898681</td><td>8.975264894111163</td><td>-54.21324587782731</td><td>302.8925124256917</td><td>0.2365357065819535</td><td>0.2564763472155351</td><td>0.4122350742861933</td><td>1518.345169971146</td><td>201.0114532599365</td><td>-24.66071131301737</td><td>1410771240.338977</td><td>--</td><td>--</td><td>--</td><td>--</td><td>--</td><td>NGC 5044 DR1: NGC 5044 DR1 data release</td><td></td></tr>\n",
       "<tr><td>6071</td><td>SoFiA J132500.06-242521.8</td><td>86</td><td>253</td><td>https://wallaby.aussrc.org/survey/vo/dl/dlmeta?ID=6071</td><td>application/x-votable+xml;content=datalink</td><td>WALLABY J132500-242521</td><td>3554.7431471964087</td><td>1085.56595139893</td><td>6224.963867204986</td><td>752.0</td><td>765.0</td><td>777.0</td><td>793.0</td><td>1016.0</td><td>1059.0</td><td>3375.0</td><td>-0.008616944774985313</td><td>0.01390806213021278</td><td>3228.523689561708</td><td>0.9994339237044817</td><td>0</td><td>0.002628201263307414</td><td>679049.1270579455</td><td>599110.5306723975</td><td>4.464226818352841</td><td>3.777126351808142</td><td>-27.13767501149645</td><td>4.291301244504447</td><td>3.314589286495562</td><td>-22.31763828315978</td><td>140.5676802533773</td><td>0.2366021636886096</td><td>0.2599715345028256</td><td>0.8862756394218837</td><td>529.8964668701735</td><td>201.2502305637273</td><td>-24.42271131227843</td><td>1410777108.651829</td><td>--</td><td>--</td><td>--</td><td>--</td><td>--</td><td>NGC 5044 DR1: NGC 5044 DR1 data release</td><td></td></tr>\n",
       "<tr><td>6075</td><td>SoFiA J133348.33-244525.7</td><td>86</td><td>254</td><td>https://wallaby.aussrc.org/survey/vo/dl/dlmeta?ID=6075</td><td>application/x-votable+xml;content=datalink</td><td>WALLABY J133348-244525</td><td>2353.3333689961564</td><td>888.4392121195942</td><td>5577.46179363836</td><td>788.0</td><td>821.0</td><td>577.0</td><td>601.0</td><td>342.0</td><td>435.0</td><td>24993.0</td><td>-0.00836897362023592</td><td>0.01769967190921307</td><td>23452.78896632044</td><td>1.0</td><td>0</td><td>0.002191290337456363</td><td>1486559.380105919</td><td>1181579.036859961</td><td>11.33821289260637</td><td>5.534171558854092</td><td>83.23952852217049</td><td>12.48374714411398</td><td>4.951645410443573</td><td>84.57805058072506</td><td>260.3003045218722</td><td>0.2012631954284875</td><td>0.1290812271696751</td><td>0.6560930683572996</td><td>1202.27726259206</td><td>203.4513634065274</td><td>-24.75713538443222</td><td>1398786329.511718</td><td>--</td><td>--</td><td>--</td><td>--</td><td>--</td><td>NGC 5044 DR1: NGC 5044 DR1 data release</td><td></td></tr>\n",
       "<tr><td>6080</td><td>SoFiA J133153.35-240241.6</td><td>86</td><td>254</td><td>https://wallaby.aussrc.org/survey/vo/dl/dlmeta?ID=6080</td><td>application/x-votable+xml;content=datalink</td><td>WALLABY J133153-240241</td><td>2613.73090711765</td><td>1316.350095560929</td><td>5552.731095937305</td><td>1057.0</td><td>1075.0</td><td>1006.0</td><td>1026.0</td><td>324.0</td><td>398.0</td><td>7792.0</td><td>-0.00828173104673624</td><td>0.01256127841770649</td><td>5727.548115121434</td><td>0.999999999997292</td><td>0</td><td>0.001889876305808755</td><td>1056715.615702081</td><td>717199.2016346472</td><td>6.402430277133226</td><td>4.420654079103175</td><td>67.18030426018926</td><td>6.222633243091197</td><td>4.48055231839492</td><td>59.08614314949236</td><td>57.26429547536063</td><td>0.2345913944184866</td><td>0.1867889608376133</td><td>0.8198829120796696</td><td>578.9664095582142</td><td>202.972299028028</td><td>-24.04487665827937</td><td>1398328353.628366</td><td>--</td><td>--</td><td>--</td><td>--</td><td>--</td><td>NGC 5044 DR1: NGC 5044 DR1 data release</td><td></td></tr>\n",
       "<tr><td>6082</td><td>SoFiA J133310.49-240706.7</td><td>86</td><td>254</td><td>https://wallaby.aussrc.org/survey/vo/dl/dlmeta?ID=6082</td><td>application/x-votable+xml;content=datalink</td><td>WALLABY J133310-240706</td><td>2437.7818514293663</td><td>1271.7467023913498</td><td>5541.1676379262</td><td>879.0</td><td>903.0</td><td>959.0</td><td>990.0</td><td>321.0</td><td>383.0</td><td>17400.0</td><td>-0.008150351233780384</td><td>0.01764979213476181</td><td>11616.89268232031</td><td>1.0</td><td>4</td><td>0.001963379157374862</td><td>660010.6779814824</td><td>558364.2006356074</td><td>9.799261500493444</td><td>7.471584414133294</td><td>25.75347314172097</td><td>6.9866667136042</td><td>6.593552889654718</td><td>-55.16775256943201</td><td>13.9823864732695</td><td>0.2052080693420628</td><td>0.2382201180734015</td><td>0.5208769448093418</td><td>898.8232875927469</td><td>203.2937173985645</td><td>-24.11853141504235</td><td>1398114215.517049</td><td>--</td><td>--</td><td>--</td><td>--</td><td>--</td><td>NGC 5044 DR1: NGC 5044 DR1 data release</td><td></td></tr>\n",
       "<tr><td>6084</td><td>SoFiA J133253.60-241226.5</td><td>86</td><td>254</td><td>https://wallaby.aussrc.org/survey/vo/dl/dlmeta?ID=6084</td><td>application/x-votable+xml;content=datalink</td><td>WALLABY J133253-241226</td><td>2476.4993058605614</td><td>1218.586661447286</td><td>5519.113600425389</td><td>916.0</td><td>942.0</td><td>907.0</td><td>931.0</td><td>277.0</td><td>382.0</td><td>24401.0</td><td>-0.007198852486908436</td><td>0.009938163682818413</td><td>13632.03629359849</td><td>1.0</td><td>0</td><td>0.001974879854215754</td><td>1681983.870110095</td><td>1435953.738296349</td><td>9.017138872337725</td><td>6.781882861093422</td><td>73.21733277169658</td><td>8.719014799874184</td><td>6.381410117374078</td><td>82.98317581956212</td><td>86.11109296049267</td><td>0.2099517417371698</td><td>0.1875415342670174</td><td>1.004127842792593</td><td>1070.631476788002</td><td>203.2233269565616</td><td>-24.20737406079446</td><td>1397705807.415183</td><td>--</td><td>--</td><td>--</td><td>--</td><td>--</td><td>NGC 5044 DR1: NGC 5044 DR1 data release</td><td></td></tr>\n",
       "<tr><td>6087</td><td>SoFiA J133418.28-245545.7</td><td>86</td><td>254</td><td>https://wallaby.aussrc.org/survey/vo/dl/dlmeta?ID=6087</td><td>application/x-votable+xml;content=datalink</td><td>WALLABY J133418-245545</td><td>2285.9500681404875</td><td>784.8461367734471</td><td>5541.929165564453</td><td>730.0</td><td>745.0</td><td>477.0</td><td>491.0</td><td>328.0</td><td>376.0</td><td>3402.0</td><td>-0.008014005608856678</td><td>0.01167134009301662</td><td>3767.044397904292</td><td>0.9551146673521147</td><td>0</td><td>0.002417057855166907</td><td>635442.155684395</td><td>532149.6689226112</td><td>5.571476886293467</td><td>3.61412656931073</td><td>-82.03658992477894</td><td>5.950452693745484</td><td>3.467628453382686</td><td>-85.26145701507376</td><td>77.29160713364377</td><td>0.2813185563263729</td><td>0.217121949990434</td><td>0.8210541840556036</td><td>489.2712714795603</td><td>203.5761630403753</td><td>-24.92936137738779</td><td>1398128317.880721</td><td>--</td><td>--</td><td>--</td><td>--</td><td>--</td><td>NGC 5044 DR1: NGC 5044 DR1 data release</td><td></td></tr>\n",
       "<tr><td>6092</td><td>SoFiA J133010.27-240841.1</td><td>86</td><td>253</td><td>https://wallaby.aussrc.org/survey/vo/dl/dlmeta?ID=6092</td><td>application/x-votable+xml;content=datalink</td><td>WALLABY J133010-240841</td><td>2848.9635879909165</td><td>1256.4208970186137</td><td>5500.968947594894</td><td>29.0</td><td>73.0</td><td>938.0</td><td>977.0</td><td>291.0</td><td>340.0</td><td>23483.0</td><td>-0.00785557460039854</td><td>0.02354971505701542</td><td>19764.50237940372</td><td>1.0</td><td>0</td><td>0.001971622074243791</td><td>211134.4824110481</td><td>130649.5840917685</td><td>12.26195981406626</td><td>11.22209155534324</td><td>-61.21934164012865</td><td>12.45945802171434</td><td>9.898720273655497</td><td>-74.38649130353595</td><td>74.62293664146125</td><td>0.2282439561734373</td><td>0.2169480312352106</td><td>0.2602040153830291</td><td>1048.566494811034</td><td>202.5428118406122</td><td>-24.144752215778</td><td>1397369795.32573</td><td>--</td><td>--</td><td>--</td><td>--</td><td>--</td><td>NGC 5044 DR1: NGC 5044 DR1 data release</td><td></td></tr>\n",
       "<tr><td>6095</td><td>SoFiA J132154.09-245209.4</td><td>86</td><td>253</td><td>https://wallaby.aussrc.org/survey/vo/dl/dlmeta?ID=6095</td><td>application/x-votable+xml;content=datalink</td><td>WALLABY J132154-245209</td><td>3973.345265332327</td><td>812.4081869877207</td><td>5507.89240982053</td><td>1171.0</td><td>1183.0</td><td>505.0</td><td>520.0</td><td>305.0</td><td>333.0</td><td>2790.0</td><td>-0.01449539139866829</td><td>0.02407407201826572</td><td>3909.245824958887</td><td>0.839004020013318</td><td>0</td><td>0.004399699596700233</td><td>398845.6098245307</td><td>346001.781149477</td><td>6.578615585174192</td><td>4.875781545319721</td><td>35.49785284252806</td><td>5.392556408416151</td><td>3.648013484369863</td><td>30.33620894206496</td><td>215.6230668466169</td><td>0.3415527347631214</td><td>0.3730391087167657</td><td>0.7443539958449465</td><td>806.5302147495706</td><td>200.4753622730609</td><td>-24.86927696591994</td><td>1397498007.589167</td><td>--</td><td>--</td><td>--</td><td>--</td><td>--</td><td>NGC 5044 DR1: NGC 5044 DR1 data release</td><td></td></tr>\n",
       "<tr><td>6096</td><td>SoFiA J133701.37-244552.0</td><td>86</td><td>254</td><td>https://wallaby.aussrc.org/survey/vo/dl/dlmeta?ID=6096</td><td>application/x-votable+xml;content=datalink</td><td>WALLABY J133701-244552</td><td>1915.2076936644257</td><td>880.8734907408835</td><td>5432.284329678632</td><td>352.0</td><td>379.0</td><td>571.0</td><td>591.0</td><td>212.0</td><td>279.0</td><td>12885.0</td><td>-0.006491764448583126</td><td>0.009225784800946712</td><td>6696.109329743364</td><td>0.9999998695757304</td><td>0</td><td>0.002017053563503666</td><td>956245.2569847967</td><td>658236.3412181399</td><td>9.3684597597705</td><td>6.081497534810633</td><td>-62.35341041476599</td><td>7.613418825660031</td><td>4.746373573535974</td><td>-53.72573531242691</td><td>299.849211443022</td><td>0.3217559276375662</td><td>0.2364501821919298</td><td>0.8468069932928985</td><td>794.612071010455</td><td>204.2557152675175</td><td>-24.76445536347132</td><td>1396097857.956911</td><td>--</td><td>--</td><td>--</td><td>--</td><td>--</td><td>NGC 5044 DR1: NGC 5044 DR1 data release</td><td></td></tr>\n",
       "<tr><td>6098</td><td>SoFiA J132947.93-234056.5</td><td>86</td><td>253</td><td>https://wallaby.aussrc.org/survey/vo/dl/dlmeta?ID=6098</td><td>application/x-votable+xml;content=datalink</td><td>WALLABY J132947-234056</td><td>2900.5774702455337</td><td>1533.690753162521</td><td>5464.390860892676</td><td>95.0</td><td>113.0</td><td>1224.0</td><td>1243.0</td><td>242.0</td><td>317.0</td><td>8471.0</td><td>-0.005794137716293335</td><td>0.01009645126760006</td><td>4600.786762056248</td><td>0.9999999781962765</td><td>0</td><td>0.00187377225799397</td><td>1059841.49809288</td><td>992619.5312904792</td><td>6.438346924730689</td><td>4.324961692787625</td><td>36.4515947122417</td><td>6.063076028121536</td><td>3.757127795465342</td><td>36.74442918693632</td><td>21.48532701343632</td><td>0.2250360270469734</td><td>0.2418565206428917</td><td>1.031349964246207</td><td>598.5213697117094</td><td>202.4496989565268</td><td>-23.68235519878609</td><td>1396692423.349763</td><td>--</td><td>--</td><td>--</td><td>--</td><td>--</td><td>NGC 5044 DR1: NGC 5044 DR1 data release</td><td></td></tr>\n",
       "</table></div>"
      ],
      "text/plain": [
       "<Table length=353>\n",
       "  id             name           run_id instance_id                       access_url                       ...  v_rad   v_opt   v_app                    tags                  comments\n",
       "                                                                                                          ...  m / s   m / s   m / s                                                  \n",
       "int64           object          int64     int64                            object                         ... float64 float64 float64                  object                  object \n",
       "----- ------------------------- ------ ----------- ------------------------------------------------------ ... ------- ------- ------- --------------------------------------- --------\n",
       " 4682 SoFiA J134432.82-244925.4     86         167 https://wallaby.aussrc.org/survey/vo/dl/dlmeta?ID=4682 ...      --      --      -- NGC 5044 DR1: NGC 5044 DR1 data release         \n",
       " 4683 SoFiA J134414.08-231547.6     86         167 https://wallaby.aussrc.org/survey/vo/dl/dlmeta?ID=4683 ...      --      --      -- NGC 5044 DR1: NGC 5044 DR1 data release         \n",
       " 4686 SoFiA J134002.99-252831.1     86         167 https://wallaby.aussrc.org/survey/vo/dl/dlmeta?ID=4686 ...      --      --      -- NGC 5044 DR1: NGC 5044 DR1 data release         \n",
       " 4689 SoFiA J134321.17-251560.0     86         167 https://wallaby.aussrc.org/survey/vo/dl/dlmeta?ID=4689 ...      --      --      -- NGC 5044 DR1: NGC 5044 DR1 data release         \n",
       " 4690 SoFiA J134255.03-250726.7     86         167 https://wallaby.aussrc.org/survey/vo/dl/dlmeta?ID=4690 ...      --      --      -- NGC 5044 DR1: NGC 5044 DR1 data release         \n",
       " 4693 SoFiA J133836.10-202908.7     86         169 https://wallaby.aussrc.org/survey/vo/dl/dlmeta?ID=4693 ...      --      --      -- NGC 5044 DR1: NGC 5044 DR1 data release         \n",
       " 4695 SoFiA J134247.87-193454.0     86         169 https://wallaby.aussrc.org/survey/vo/dl/dlmeta?ID=4695 ...      --      --      -- NGC 5044 DR1: NGC 5044 DR1 data release         \n",
       " 4698 SoFiA J134600.65-212228.6     86         169 https://wallaby.aussrc.org/survey/vo/dl/dlmeta?ID=4698 ...      --      --      -- NGC 5044 DR1: NGC 5044 DR1 data release         \n",
       " 4701 SoFiA J133553.26-204426.3     86         171 https://wallaby.aussrc.org/survey/vo/dl/dlmeta?ID=4701 ...      --      --      -- NGC 5044 DR1: NGC 5044 DR1 data release         \n",
       " 4703 SoFiA J133222.71-200358.0     86         171 https://wallaby.aussrc.org/survey/vo/dl/dlmeta?ID=4703 ...      --      --      -- NGC 5044 DR1: NGC 5044 DR1 data release         \n",
       " 4704 SoFiA J132635.82-221419.6     86         174 https://wallaby.aussrc.org/survey/vo/dl/dlmeta?ID=4704 ...      --      --      -- NGC 5044 DR1: NGC 5044 DR1 data release         \n",
       " 4706 SoFiA J133823.24-202709.9     86         171 https://wallaby.aussrc.org/survey/vo/dl/dlmeta?ID=4706 ...      --      --      -- NGC 5044 DR1: NGC 5044 DR1 data release         \n",
       "  ...                       ...    ...         ...                                                    ... ...     ...     ...     ...                                     ...      ...\n",
       " 6064 SoFiA J132050.64-232904.0     86         253 https://wallaby.aussrc.org/survey/vo/dl/dlmeta?ID=6064 ...      --      --      -- NGC 5044 DR1: NGC 5044 DR1 data release         \n",
       " 6066 SoFiA J132402.75-243938.6     86         253 https://wallaby.aussrc.org/survey/vo/dl/dlmeta?ID=6066 ...      --      --      -- NGC 5044 DR1: NGC 5044 DR1 data release         \n",
       " 6071 SoFiA J132500.06-242521.8     86         253 https://wallaby.aussrc.org/survey/vo/dl/dlmeta?ID=6071 ...      --      --      -- NGC 5044 DR1: NGC 5044 DR1 data release         \n",
       " 6075 SoFiA J133348.33-244525.7     86         254 https://wallaby.aussrc.org/survey/vo/dl/dlmeta?ID=6075 ...      --      --      -- NGC 5044 DR1: NGC 5044 DR1 data release         \n",
       " 6080 SoFiA J133153.35-240241.6     86         254 https://wallaby.aussrc.org/survey/vo/dl/dlmeta?ID=6080 ...      --      --      -- NGC 5044 DR1: NGC 5044 DR1 data release         \n",
       " 6082 SoFiA J133310.49-240706.7     86         254 https://wallaby.aussrc.org/survey/vo/dl/dlmeta?ID=6082 ...      --      --      -- NGC 5044 DR1: NGC 5044 DR1 data release         \n",
       " 6084 SoFiA J133253.60-241226.5     86         254 https://wallaby.aussrc.org/survey/vo/dl/dlmeta?ID=6084 ...      --      --      -- NGC 5044 DR1: NGC 5044 DR1 data release         \n",
       " 6087 SoFiA J133418.28-245545.7     86         254 https://wallaby.aussrc.org/survey/vo/dl/dlmeta?ID=6087 ...      --      --      -- NGC 5044 DR1: NGC 5044 DR1 data release         \n",
       " 6092 SoFiA J133010.27-240841.1     86         253 https://wallaby.aussrc.org/survey/vo/dl/dlmeta?ID=6092 ...      --      --      -- NGC 5044 DR1: NGC 5044 DR1 data release         \n",
       " 6095 SoFiA J132154.09-245209.4     86         253 https://wallaby.aussrc.org/survey/vo/dl/dlmeta?ID=6095 ...      --      --      -- NGC 5044 DR1: NGC 5044 DR1 data release         \n",
       " 6096 SoFiA J133701.37-244552.0     86         254 https://wallaby.aussrc.org/survey/vo/dl/dlmeta?ID=6096 ...      --      --      -- NGC 5044 DR1: NGC 5044 DR1 data release         \n",
       " 6098 SoFiA J132947.93-234056.5     86         253 https://wallaby.aussrc.org/survey/vo/dl/dlmeta?ID=6098 ...      --      --      -- NGC 5044 DR1: NGC 5044 DR1 data release         "
      ]
     },
     "execution_count": 6,
     "metadata": {},
     "output_type": "execute_result"
    }
   ],
   "source": [
    "# Retrieve catalog as Astropy table\n",
    "\n",
    "query = \"\"\"SELECT d.*, ivo_string_agg(t.name || ': ' || t.description, '; ') AS tags, ivo_string_agg(c.comment, '; ') AS comments\n",
    "        FROM wallaby.detection d\n",
    "        LEFT JOIN wallaby.tag_detection td ON d.id = td.detection_id \n",
    "        LEFT JOIN wallaby.tag t ON t.id = td.tag_id\n",
    "        LEFT JOIN wallaby.comment c ON d.id = c.detection_id\n",
    "        WHERE t.name IN ('Internal Data Release', '$TAG_NAME')\n",
    "        GROUP BY d.id\"\"\"\n",
    "query = query.replace('$TAG_NAME', tag_name)\n",
    "result = tap.search(query)\n",
    "table = result.to_table()\n",
    "table"
   ]
  },
  {
   "cell_type": "markdown",
   "id": "03b046a2-abd2-4795-b519-1e92d29cd1a6",
   "metadata": {},
   "source": [
    "## Download catalog\n",
    "\n",
    "It is convenient to write the catalog (`astropy` Table object) to a number of file formats. Below we show how to export the table as a `.xml` votable file. For this, we convert the astropy table to a votable, but there are a number of write options for the astropy table:\n",
    "\n",
    "https://docs.astropy.org/en/stable/io/ascii/write.html"
   ]
  },
  {
   "cell_type": "code",
   "execution_count": 7,
   "id": "4c9b253d-c993-4894-9361-baa0934a3b77",
   "metadata": {},
   "outputs": [],
   "source": [
    "# Download catalog table\n",
    "\n",
    "votable = from_table(table)\n",
    "votable_filename = f'{tag_name}.xml'\n",
    "votable.to_xml(votable_filename)"
   ]
  },
  {
   "cell_type": "markdown",
   "id": "1e5711c1-928d-4a93-918e-355d5949a735",
   "metadata": {},
   "source": [
    "## Download products"
   ]
  },
  {
   "cell_type": "markdown",
   "id": "8cb4ffb9-9861-406c-9e98-84725d8bdebb",
   "metadata": {},
   "source": [
    "### Download\n",
    "\n",
    "We have written a function to download the WALLABY source products for an astropy table containing a list of detections. Here the arguments are:\n",
    "\n",
    "* `table`: the astropy table of detections for which you would like to download product files\n",
    "* `directory`: the write directory for the products\n",
    "* `chunk_size`: size (bytes) of each chunk while streaming the download [default 8192 B]"
   ]
  },
  {
   "cell_type": "code",
   "execution_count": 8,
   "id": "9179ec6d-9ed5-468d-9411-cc4e5746b081",
   "metadata": {},
   "outputs": [],
   "source": [
    "# useful function for downloading table products (requires authentication)\n",
    "\n",
    "def download_products(row, products_filename, chunk_size=8192):\n",
    "    \"\"\"Download products for a row of the table (a detection entry)\n",
    "    \n",
    "    \"\"\"\n",
    "    name = row['source_name']\n",
    "    access_url = row['access_url']\n",
    "    votable = parse_single_table(access_url)\n",
    "    product_table = votable.to_table()\n",
    "    url = product_table[product_table['description'] == 'SoFiA-2 Detection Products'][0]['access_url']\n",
    "    with requests.get(url, auth=(username, password), stream=True) as r:\n",
    "        r.raise_for_status()\n",
    "        with open(products_filename, 'wb') as f:\n",
    "            for chunk in r.iter_content(chunk_size=chunk_size):\n",
    "                f.write(chunk)\n",
    "    print(f'Downloaded completed for {name}')\n",
    "    return\n",
    "\n",
    "def download_table_products(table, directory, chunk_size=8192):\n",
    "    \"\"\"Download WALLABY products from ADQL queried table\n",
    "\n",
    "    \"\"\"\n",
    "    if not os.path.exists(directory):\n",
    "        os.mkdir(directory)\n",
    "    print(f'Saving products to {directory}')\n",
    "    for row in table:\n",
    "        name = row['source_name']\n",
    "        products_filename = os.path.join(directory, f'{name}.tar')\n",
    "        download_products(row, products_filename, chunk_size)\n",
    "    print('Downloads complete')\n",
    "    return"
   ]
  },
  {
   "cell_type": "code",
   "execution_count": 9,
   "id": "278faf65-85e4-445b-b51c-dcd2540832bf",
   "metadata": {},
   "outputs": [
    {
     "name": "stdout",
     "output_type": "stream",
     "text": [
      "Saving products to NGC 5044 DR1\n",
      "Downloaded completed for WALLABY J134432-244925\n",
      "Downloaded completed for WALLABY J134414-231547\n",
      "Downloaded completed for WALLABY J134002-252831\n",
      "Downloaded completed for WALLABY J134321-251560\n",
      "Downloaded completed for WALLABY J134255-250726\n",
      "Downloads complete\n"
     ]
    }
   ],
   "source": [
    "# Write output products for a source\n",
    "\n",
    "download_table_products(table[0:5], tag_name)"
   ]
  },
  {
   "cell_type": "markdown",
   "id": "24bb1736-0f32-45b8-a645-c32325d80328",
   "metadata": {},
   "source": [
    "---"
   ]
  },
  {
   "cell_type": "markdown",
   "id": "88e7f862-b1b5-4fcc-aded-a0afa50e0745",
   "metadata": {},
   "source": [
    "# Kinematic models\n",
    "\n",
    "<span style=\"font-weight: bold; color: #FF0000;\">⚠ To be updated</span>\n",
    "\n",
    "This notebook also allows users to download the kinematic model table and products. First, we select the kinematic models by tag and retrieve the table."
   ]
  },
  {
   "cell_type": "code",
   "execution_count": 10,
   "id": "00bf893f-b1f2-495b-b9c2-6e8e8ce463b7",
   "metadata": {},
   "outputs": [
    {
     "data": {
      "text/plain": [
       "<Table length=12>\n",
       "     team_release_kin    \n",
       "          object         \n",
       "-------------------------\n",
       "          NGC5044 Kin TR3\n",
       "         NGC 5044 Kin TR2\n",
       "         NGC 5044 Kin TR1\n",
       "            Hydra Kin TR1\n",
       "    Vela High-Res Kin TR1\n",
       "            Hydra Kin TR2\n",
       "NGC 4808 High-Res Kin TR1\n",
       "            Norma Kin TR1\n",
       "         NGC 4636 Kin TR1\n",
       "             Vela Kin TR1\n",
       "NGC 5044 High-Res Kin TR1\n",
       "         NGC 4808 Kin TR1"
      ]
     },
     "execution_count": 10,
     "metadata": {},
     "output_type": "execute_result"
    }
   ],
   "source": [
    "# Select the list of available team release tags\n",
    "\n",
    "query= \"\"\"SELECT DISTINCT team_release_kin\n",
    "        FROM wallaby.kinematic_model \"\"\"\n",
    "result = tap.search(query)\n",
    "result"
   ]
  },
  {
   "cell_type": "markdown",
   "id": "0b45bfe5",
   "metadata": {},
   "source": [
    "We can then select the kinematic models corresponding to a specific release key"
   ]
  },
  {
   "cell_type": "code",
   "execution_count": 11,
   "id": "3cc09781",
   "metadata": {},
   "outputs": [
    {
     "name": "stderr",
     "output_type": "stream",
     "text": [
      "WARNING: UnitsWarning: Unit 'msol' not supported by the VOUnit standard. Did you mean mol? [astropy.units.format.vounit]\n",
      "WARNING:astropy:UnitsWarning: Unit 'msol' not supported by the VOUnit standard. Did you mean mol?\n"
     ]
    },
    {
     "name": "stdout",
     "output_type": "stream",
     "text": [
      "<class 'astropy.table.table.Table'>\n"
     ]
    }
   ],
   "source": [
    "#   Set the kinematic tag desired\n",
    "kin_tag=\"NGC5044 Kin TR3\"\n",
    "\n",
    "#   The generic query\n",
    "query= \"\"\"SELECT d.*\n",
    "        FROM wallaby.kinematic_model d\n",
    "        WHERE d.team_release_kin IN ('Internal Data Release', '$TAG_NAME')\"\"\"\n",
    "query = query.replace('$TAG_NAME', kin_tag)\n",
    "#    Run the tap query\n",
    "result = tap.search(query)\n",
    "#  Get the resulting table\n",
    "kin_table = result.to_table()\n",
    "#  Print off the table\n",
    "kin_table[0:2]\n",
    "\n",
    "print(type(kin_table))"
   ]
  },
  {
   "cell_type": "markdown",
   "id": "016aa2be",
   "metadata": {},
   "source": [
    "Once the table is put together, it can be downloaded in an XML format."
   ]
  },
  {
   "cell_type": "code",
   "execution_count": 12,
   "id": "3448e67b",
   "metadata": {},
   "outputs": [],
   "source": [
    "# Download catalog table\n",
    "\n",
    "votable = from_table(kin_table)\n",
    "votable_filename = f'%s_catalogue.xml' % kin_tag.replace(' ', '_')\n",
    "votable.to_xml(votable_filename)\n",
    "\n"
   ]
  },
  {
   "cell_type": "markdown",
   "id": "68dd3de7",
   "metadata": {},
   "source": [
    "We can do a similar thing for the 3KIDNAS tables"
   ]
  },
  {
   "cell_type": "code",
   "execution_count": 13,
   "id": "8b0cfa6a-f335-43ef-b1db-f09b0a61d668",
   "metadata": {},
   "outputs": [],
   "source": [
    "kin_tag=\"NGC 5044 E KinTR3\""
   ]
  },
  {
   "cell_type": "code",
   "execution_count": 14,
   "id": "a0f0c676-bf85-4912-934e-02aeaf661f20",
   "metadata": {},
   "outputs": [
    {
     "data": {
      "text/html": [
       "<div><i>Table length=2</i>\n",
       "<table id=\"table4958820432\" class=\"table-striped table-bordered table-condensed\">\n",
       "<thead><tr><th>id</th><th>team_release</th><th>team_release_kin</th><th>vsys_model</th><th>e_vsys_model</th><th>x_model</th><th>e_x_model</th><th>y_model</th><th>e_y_model</th><th>ra_model</th><th>e_ra_model</th><th>dec_model</th><th>e_dec_model</th><th>inc_model</th><th>e_inc_model</th><th>pa_model</th><th>e_pa_model</th><th>pa_model_g</th><th>e_pa_model_g</th><th>vdisp_model</th><th>e_vdisp_model</th><th>rad</th><th>vrot_model</th><th>e_vrot_model</th><th>rad_sd</th><th>sd_model</th><th>e_sd_model</th><th>sdmethodflag</th><th>rhi_flag</th><th>rhi_as</th><th>rhi_low_as</th><th>rhi_high_as</th><th>dist_model</th><th>rhi_kpc</th><th>rhi_low_kpc</th><th>rhi_high_kpc</th><th>vhi_flag</th><th>vhi</th><th>e_vhi</th><th>kflag</th><th>kinver</th></tr></thead>\n",
       "<thead><tr><th></th><th></th><th></th><th>km / s</th><th>km / s</th><th>pix</th><th>pix</th><th>pix</th><th>pix</th><th>deg</th><th>deg</th><th>deg</th><th>deg</th><th>deg</th><th>deg</th><th>deg</th><th>deg</th><th>deg</th><th>deg</th><th>km / s</th><th>km / s</th><th>arcsec</th><th>km / s</th><th>km / s</th><th>arcsec</th><th>msol / pc2</th><th>msol / pc2</th><th></th><th></th><th>arcsec</th><th>arcsec</th><th>arcsec</th><th>arcsec</th><th>kpc</th><th>kpc</th><th>kpc</th><th></th><th>km / s</th><th>km / s</th><th></th><th></th></tr></thead>\n",
       "<thead><tr><th>int64</th><th>object</th><th>object</th><th>float64</th><th>float64</th><th>float64</th><th>float64</th><th>float64</th><th>float64</th><th>float64</th><th>float64</th><th>float64</th><th>float64</th><th>float64</th><th>float64</th><th>float64</th><th>float64</th><th>float64</th><th>float64</th><th>float64</th><th>float64</th><th>object</th><th>object</th><th>object</th><th>object</th><th>object</th><th>object</th><th>int32</th><th>int32</th><th>float64</th><th>float64</th><th>float64</th><th>float64</th><th>float64</th><th>float64</th><th>float64</th><th>int32</th><th>float64</th><th>float64</th><th>int32</th><th>object</th></tr></thead>\n",
       "<tr><td>312</td><td>NGC 5044 DR3</td><td>NGC 5044 E KinTR3</td><td>1470.1</td><td>0.6</td><td>32.41</td><td>0.1802</td><td>28.08</td><td>0.1327</td><td>196.576722</td><td>0.000312</td><td>-17.511683</td><td>0.000221</td><td>43.3</td><td>3.9</td><td>297.1</td><td>1.7</td><td>296.1</td><td>1.7</td><td>9.6</td><td>0.9</td><td>[7.48, 22.45, 37.42, 52.39, 67.35, 82.32]</td><td>[38.0, 30.4, 34.2, 51.5, 53.8, 52.0]</td><td>[13.6, 15.6, 8.1, 6.1, 4.2, 7.3]</td><td>[7.48, 22.45, 37.42, 52.39, 67.35, 82.32]</td><td>[9.2, 6.6, 4.9, 4.1, 3.4, 2.6]</td><td>[0.77, 0.89, 0.99, 0.64, 0.42, 0.42]</td><td>0</td><td>-1</td><td>--</td><td>--</td><td>--</td><td>21.00142857142857</td><td>--</td><td>--</td><td>--</td><td>-1</td><td>--</td><td>--</td><td>0</td><td>3KIDNAS V1</td></tr>\n",
       "<tr><td>313</td><td>NGC 5044 DR3</td><td>NGC 5044 E KinTR3</td><td>2757.8</td><td>1.2</td><td>22.3</td><td>0.0532</td><td>35.29</td><td>0.123</td><td>198.27106</td><td>9.5e-05</td><td>-19.976592</td><td>0.000205</td><td>81.2</td><td>1.3</td><td>359.7</td><td>0.5</td><td>359.2</td><td>0.5</td><td>13.2</td><td>4.2</td><td>[7.48, 22.45, 37.42, 52.39, 67.35, 82.32, 97.29, 112.25]</td><td>[132.2, 167.5, 131.2, 140.1, 138.9, 150.6, 147.0, 144.2]</td><td>[16.5, 49.1, 18.7, 8.8, 10.4, 6.2, 7.3, 11.8]</td><td>[7.48, 22.45, 37.42, 52.39, 67.35, 82.32, 97.29, 112.25]</td><td>[9.1, 8.0, 6.1, 5.6, 3.5, 2.8, 1.6, 1.5]</td><td>[0.75, 1.32, 0.82, 0.84, 0.62, 0.61, 0.93, 0.55]</td><td>0</td><td>-1</td><td>--</td><td>--</td><td>--</td><td>39.39714285714286</td><td>--</td><td>--</td><td>--</td><td>-1</td><td>--</td><td>--</td><td>0</td><td>3KIDNAS V1</td></tr>\n",
       "</table></div>"
      ],
      "text/plain": [
       "<Table length=2>\n",
       "  id  team_release  team_release_kin vsys_model e_vsys_model x_model e_x_model y_model e_y_model ...     dist_model    rhi_kpc rhi_low_kpc rhi_high_kpc vhi_flag   vhi    e_vhi  kflag   kinver  \n",
       "                                       km / s      km / s      pix      pix      pix      pix    ...       arcsec        kpc       kpc         kpc                km / s  km / s                 \n",
       "int64    object          object       float64     float64    float64  float64  float64  float64  ...      float64      float64   float64     float64     int32   float64 float64 int32   object  \n",
       "----- ------------ ----------------- ---------- ------------ ------- --------- ------- --------- ... ----------------- ------- ----------- ------------ -------- ------- ------- ----- ----------\n",
       "  312 NGC 5044 DR3 NGC 5044 E KinTR3     1470.1          0.6   32.41    0.1802   28.08    0.1327 ... 21.00142857142857      --          --           --       -1      --      --     0 3KIDNAS V1\n",
       "  313 NGC 5044 DR3 NGC 5044 E KinTR3     2757.8          1.2    22.3    0.0532   35.29     0.123 ... 39.39714285714286      --          --           --       -1      --      --     0 3KIDNAS V1"
      ]
     },
     "execution_count": 14,
     "metadata": {},
     "output_type": "execute_result"
    }
   ],
   "source": [
    "#   The generic query\n",
    "query= \"\"\"SELECT d.*\n",
    "        FROM wallaby.kinematic_model_3kidnas d\n",
    "        WHERE d.team_release_kin IN ('Internal Data Release', '$TAG_NAME')\"\"\"\n",
    "query = query.replace('$TAG_NAME', kin_tag)\n",
    "#    Run the tap query\n",
    "result = tap.search(query)\n",
    "#  Get the resulting table\n",
    "kin_table_3kidnas = result.to_table()\n",
    "#  Print off the table\n",
    "kin_table_3kidnas[0:2]"
   ]
  },
  {
   "cell_type": "code",
   "execution_count": 16,
   "id": "0bc20bcb",
   "metadata": {},
   "outputs": [],
   "source": [
    "# Download catalog table\n",
    "\n",
    "votable = from_table(kin_table_3kidnas)\n",
    "votable_filename = f'%s_catalogue.xml' % kin_tag.replace(' ', '_')\n",
    "votable.to_xml(votable_filename)\n",
    "\n",
    "\n",
    "csvtable_filename = f'%s_catalogue.csv' % kin_tag.replace(' ', '_')\n",
    "kin_table_3kidnas.write(csvtable_filename,overwrite=True,format='csv')\n"
   ]
  },
  {
   "cell_type": "markdown",
   "id": "cd820942-d7e2-4158-9609-c79320ba8ebc",
   "metadata": {},
   "source": [
    "Then we can write the table as a `.fits` file and all products associated with the selected models. As with the source finding table, it will be necessary to replace the object columns with strings."
   ]
  },
  {
   "cell_type": "code",
   "execution_count": null,
   "id": "9ed2b031-9e47-42dc-93ec-398abe925ec3",
   "metadata": {},
   "outputs": [],
   "source": []
  }
 ],
 "metadata": {
  "kernelspec": {
   "display_name": "Python 3 (ipykernel)",
   "language": "python",
   "name": "python3"
  },
  "language_info": {
   "codemirror_mode": {
    "name": "ipython",
    "version": 3
   },
   "file_extension": ".py",
   "mimetype": "text/x-python",
   "name": "python",
   "nbconvert_exporter": "python",
   "pygments_lexer": "ipython3",
   "version": "3.9.21"
  }
 },
 "nbformat": 4,
 "nbformat_minor": 5
}
