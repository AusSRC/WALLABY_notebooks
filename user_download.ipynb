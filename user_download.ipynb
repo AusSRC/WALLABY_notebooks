{
 "cells": [
  {
   "cell_type": "markdown",
   "id": "935cdfea",
   "metadata": {},
   "source": [
    "# WALLABY internal data access download\n",
    "\n",
    "A notebook pre-filled with cells and scripts for downloading WALLABY internal release data. The notebook has the following sections\n",
    "\n",
    "1. Authentication\n",
    "2. Get source finding catalog and products\n",
    "3. Get kinematic model table and products"
   ]
  },
  {
   "cell_type": "markdown",
   "id": "7dd0cc98-4b05-447c-aa33-3d27a84251d1",
   "metadata": {},
   "source": [
    "---"
   ]
  },
  {
   "cell_type": "code",
   "execution_count": null,
   "id": "5630c448-e003-4ae0-9efc-bfef293568a0",
   "metadata": {},
   "outputs": [],
   "source": [
    "import os\n",
    "import getpass\n",
    "import requests\n",
    "import getpass\n",
    "import pyvo as vo\n",
    "from pyvo.auth import authsession, securitymethods\n",
    "from astropy.io.votable import from_table, parse_single_table"
   ]
  },
  {
   "cell_type": "markdown",
   "id": "ae97b278",
   "metadata": {},
   "source": [
    "# 1. Connect\n",
    "\n",
    "We access the internally released WALLABY via TAP. The link to the tap service is provided below. The password to the `wallaby_user` will be circulated internally by the WALLABY project team, and it will be required to access any of the data."
   ]
  },
  {
   "cell_type": "markdown",
   "id": "b8a7a9ff-8084-4ad1-9d2c-d0d8aa62dab6",
   "metadata": {},
   "source": [
    "### Authenticate\n",
    "\n",
    "<span style=\"font-weight: bold; color: #FF0000;\">⚠ Update the cell below with your username and enter your password</span>"
   ]
  },
  {
   "cell_type": "code",
   "execution_count": null,
   "id": "1f4220e4-57ba-49e5-be19-983caf994019",
   "metadata": {},
   "outputs": [],
   "source": [
    "# Enter WALLABY user username and password\n",
    "\n",
    "username = 'wallaby_user'\n",
    "password = getpass.getpass('Enter your password')"
   ]
  },
  {
   "cell_type": "code",
   "execution_count": null,
   "id": "a02fa60a-d21d-483f-82a0-2862322e57e0",
   "metadata": {},
   "outputs": [],
   "source": [
    "# Connect with TAP service\n",
    "\n",
    "URL = \"https://wallaby.aussrc.org/tap\"\n",
    "auth = vo.auth.AuthSession()\n",
    "auth.add_security_method_for_url(URL, vo.auth.securitymethods.BASIC)\n",
    "auth.credentials.set_password(username, password)\n",
    "tap = vo.dal.TAPService(URL, session=auth)"
   ]
  },
  {
   "cell_type": "markdown",
   "id": "6d8af3de",
   "metadata": {},
   "source": [
    "# 2. Source finding\n",
    "\n",
    "First we need to identify which internal release we want to access. The WALLABY team uses tags to classify source finding detections as internally released. You can view all of the tags by running the cells below. Then, we set the `tag_name` variable two cells below. This will be used later in the notebook, so once you know what data you would like to access, update this value accordingly."
   ]
  },
  {
   "cell_type": "code",
   "execution_count": null,
   "id": "92bb2bbb",
   "metadata": {},
   "outputs": [],
   "source": [
    "# Get all tags\n",
    "\n",
    "query = \"SELECT * FROM wallaby.tag\"\n",
    "votable = tap.search(query)\n",
    "table = votable.to_table()\n",
    "table"
   ]
  },
  {
   "cell_type": "markdown",
   "id": "74c459eb-5d2a-4007-8150-eba6c13875c2",
   "metadata": {},
   "source": [
    "<span style=\"font-weight: bold; color: #FF0000;\">⚠ Update the `tag_name` value here</span>"
   ]
  },
  {
   "cell_type": "code",
   "execution_count": null,
   "id": "65dfe2d9",
   "metadata": {},
   "outputs": [],
   "source": [
    "# SELECT TAG\n",
    "\n",
    "tag_name = \"NGC 5044 DR1\""
   ]
  },
  {
   "cell_type": "code",
   "execution_count": null,
   "id": "aac09df6-aa7a-4069-83c1-01946cfe2057",
   "metadata": {},
   "outputs": [],
   "source": [
    "# Retrieve catalog as Astropy table\n",
    "\n",
    "query = \"\"\"SELECT d.* FROM wallaby.tag_detection td\n",
    "        LEFT JOIN wallaby.detection d ON d.id = td.detection_id LEFT JOIN wallaby.tag t ON t.id = td.tag_id\n",
    "        WHERE t.name IN ('Internal Data Release', '$TAG_NAME')\n",
    "        GROUP BY d.id\"\"\"\n",
    "query = query.replace('$TAG_NAME', tag_name)\n",
    "result = tap.search(query)\n",
    "table = result.to_table()\n",
    "table"
   ]
  },
  {
   "cell_type": "markdown",
   "id": "03b046a2-abd2-4795-b519-1e92d29cd1a6",
   "metadata": {},
   "source": [
    "## Download catalog\n",
    "\n",
    "It is convenient to write the catalog (`astropy` Table object) to a number of file formats. Below we show how to export the table as a `.xml` votable file. For this, we convert the astropy table to a votable, but there are a number of write options for the astropy table:\n",
    "\n",
    "https://docs.astropy.org/en/stable/io/ascii/write.html"
   ]
  },
  {
   "cell_type": "code",
   "execution_count": null,
   "id": "4c9b253d-c993-4894-9361-baa0934a3b77",
   "metadata": {},
   "outputs": [],
   "source": [
    "# Download catalog table\n",
    "\n",
    "votable = from_table(table)\n",
    "votable_filename = f'{tag_name}.xml'\n",
    "votable.to_xml(votable_filename)"
   ]
  },
  {
   "cell_type": "markdown",
   "id": "1e5711c1-928d-4a93-918e-355d5949a735",
   "metadata": {},
   "source": [
    "## Download products"
   ]
  },
  {
   "cell_type": "markdown",
   "id": "8cb4ffb9-9861-406c-9e98-84725d8bdebb",
   "metadata": {},
   "source": [
    "### Download\n",
    "\n",
    "We have written a function to download the WALLABY source products for an astropy table containing a list of detections. Here the arguments are:\n",
    "\n",
    "* `table`: the astropy table of detections for which you would like to download product files\n",
    "* `directory`: the write directory for the products\n",
    "* `chunk_size`: size (bytes) of each chunk while streaming the download [default 8192 B]"
   ]
  },
  {
   "cell_type": "code",
   "execution_count": null,
   "id": "9179ec6d-9ed5-468d-9411-cc4e5746b081",
   "metadata": {},
   "outputs": [],
   "source": [
    "# useful function for downloading table products (requires authentication)\n",
    "\n",
    "def download_products(row, products_filename, chunk_size=8192):\n",
    "    \"\"\"Download products for a row of the table (a detection entry)\n",
    "    \n",
    "    \"\"\"\n",
    "    name = row['source_name']\n",
    "    access_url = row['access_url']\n",
    "    votable = parse_single_table(access_url)\n",
    "    product_table = votable.to_table()\n",
    "    url = product_table[product_table['description'] == 'SoFiA-2 Detection Products'][0]['access_url']\n",
    "    with requests.get(url, auth=(username, password), stream=True) as r:\n",
    "        r.raise_for_status()\n",
    "        with open(products_filename, 'wb') as f:\n",
    "            for chunk in r.iter_content(chunk_size=chunk_size):\n",
    "                f.write(chunk)\n",
    "    print(f'Downloaded completed for {name}')\n",
    "    return\n",
    "\n",
    "def download_table_products(table, directory, chunk_size=8192):\n",
    "    \"\"\"Download WALLABY products from ADQL queried table\n",
    "\n",
    "    \"\"\"\n",
    "    if not os.path.exists(directory):\n",
    "        os.mkdir(directory)\n",
    "    print(f'Saving products to {directory}')\n",
    "    for row in table:\n",
    "        name = row['source_name']\n",
    "        products_filename = os.path.join(directory, f'{name}.tar')\n",
    "        download_products(row, products_filename, chunk_size)\n",
    "    print('Downloads complete')\n",
    "    return"
   ]
  },
  {
   "cell_type": "code",
   "execution_count": null,
   "id": "278faf65-85e4-445b-b51c-dcd2540832bf",
   "metadata": {},
   "outputs": [],
   "source": [
    "# Write output products for a source\n",
    "\n",
    "download_table_products(table[0:5], tag_name)"
   ]
  },
  {
   "cell_type": "markdown",
   "id": "24bb1736-0f32-45b8-a645-c32325d80328",
   "metadata": {},
   "source": [
    "---"
   ]
  },
  {
   "cell_type": "markdown",
   "id": "88e7f862-b1b5-4fcc-aded-a0afa50e0745",
   "metadata": {},
   "source": [
    "# Kinematic models\n",
    "\n",
    "<span style=\"font-weight: bold; color: #FF0000;\">⚠ To be updated</span>\n",
    "\n",
    "This notebook also allows users to download the kinematic model table and products. First, we select the kinematic models by tag and retrieve the table."
   ]
  },
  {
   "cell_type": "code",
   "execution_count": null,
   "id": "00bf893f-b1f2-495b-b9c2-6e8e8ce463b7",
   "metadata": {},
   "outputs": [],
   "source": [
    "wallaby.get_kinematic_model_tags()"
   ]
  },
  {
   "cell_type": "code",
   "execution_count": null,
   "id": "8b0cfa6a-f335-43ef-b1db-f09b0a61d668",
   "metadata": {},
   "outputs": [],
   "source": [
    "kin_tag = 'NGC 5044 Kin TR1'"
   ]
  },
  {
   "cell_type": "code",
   "execution_count": null,
   "id": "a0f0c676-bf85-4912-934e-02aeaf661f20",
   "metadata": {},
   "outputs": [],
   "source": [
    "kin_table = wallaby.get_kinematic_model(team_release_kin=kin_tag)\n",
    "kin_table[0:2]"
   ]
  },
  {
   "cell_type": "markdown",
   "id": "cd820942-d7e2-4158-9609-c79320ba8ebc",
   "metadata": {},
   "source": [
    "Then we can write the table as a `.fits` file and all products associated with the selected models. As with the source finding table, it will be necessary to replace the object columns with strings."
   ]
  },
  {
   "cell_type": "code",
   "execution_count": null,
   "id": "ba17ef3c-b99b-471e-8cae-958d14232706",
   "metadata": {},
   "outputs": [],
   "source": [
    "# Write table\n",
    "\n",
    "string_array_columns = ['rad', 'vrot_model', 'e_vrot_model', 'e_vrot_model_inc', 'rad_sd', 'sd_model', 'sd_fo_model', 'e_sd_model', 'e_sd_fo_model_inc']\n",
    "catalog_filename = \"%s_catalog.fits\" % kin_tag.replace(' ', '_')\n",
    "write_table = kin_table\n",
    "\n",
    "# Convert object objects to strings\n",
    "for column in string_array_columns:\n",
    "    array = write_table[column]\n",
    "    string_array = []\n",
    "    for elem in array:\n",
    "        string_elem = ','.join([str(v) for v in list(elem)])\n",
    "        string_array.append(string_elem)\n",
    "    write_table[column] = string_array\n",
    "\n",
    "if not os.path.exists(catalog_filename):\n",
    "    kin_table.write(catalog_filename, format = 'fits')"
   ]
  },
  {
   "cell_type": "code",
   "execution_count": null,
   "id": "bb43bd25-5a7d-45da-855b-7c39af306f88",
   "metadata": {},
   "outputs": [],
   "source": [
    "# Save single product file\n",
    "\n",
    "row = kin_table[0]\n",
    "id = int(row['id'])\n",
    "name = str(row['source']).replace(' ', '_')\n",
    "wallaby.save_products_for_kinematic_model(id, f'{name}_kinematic_products')"
   ]
  },
  {
   "cell_type": "code",
   "execution_count": null,
   "id": "d0ea4510-95a0-4307-959e-f38582754cd2",
   "metadata": {},
   "outputs": [],
   "source": [
    "# Save products for all kinematic models\n",
    "\n",
    "wallaby.save_kinematic_model_products(kin_table[0:2], f\"{kin_tag.replace(' ', '_')}_kin_products\")"
   ]
  },
  {
   "cell_type": "code",
   "execution_count": null,
   "id": "9ed2b031-9e47-42dc-93ec-398abe925ec3",
   "metadata": {},
   "outputs": [],
   "source": []
  }
 ],
 "metadata": {
  "kernelspec": {
   "display_name": "Python 3 (ipykernel)",
   "language": "python",
   "name": "python3"
  },
  "language_info": {
   "codemirror_mode": {
    "name": "ipython",
    "version": 3
   },
   "file_extension": ".py",
   "mimetype": "text/x-python",
   "name": "python",
   "nbconvert_exporter": "python",
   "pygments_lexer": "ipython3",
   "version": "3.9.6"
  }
 },
 "nbformat": 4,
 "nbformat_minor": 5
}
