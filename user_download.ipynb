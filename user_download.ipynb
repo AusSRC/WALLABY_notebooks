{
 "cells": [
  {
   "cell_type": "markdown",
   "id": "935cdfea",
   "metadata": {},
   "source": [
    "# WALLABY user download notebook\n",
    "\n",
    "A notebook pre-filled with cells and scripts for downloading WALLABY internal release data. The notebook has the following sections\n",
    "\n",
    "1. Connect to the database\n",
    "2. Get source finding catalog and products\n",
    "3. Get kinematic model table and products\n",
    "\n",
    "<span style=\"font-weight: bold; color: #FF0000;\">⚠ Make sure the Jupyter Notebook server is loaded with the wallaby/python-3.9.1 module!</span>\n",
    "\n",
    "<span style=\"font-weight: bold; color: #FF0000;\">⚠ If the Jupyter Notebook server is not loaded with the wallaby/python-3.9.1 delete the interactive session and start a new one with the correct module.</span>"
   ]
  },
  {
   "cell_type": "markdown",
   "id": "7dd0cc98-4b05-447c-aa33-3d27a84251d1",
   "metadata": {},
   "source": [
    "---"
   ]
  },
  {
   "cell_type": "markdown",
   "id": "ae97b278",
   "metadata": {},
   "source": [
    "# 1. Connect\n",
    "\n",
    "Establish a connection to the database with the `wallaby_data_access` module, available on PyPI [https://pypi.org/project/wallaby-data-access/](https://pypi.org/project/wallaby-data-access/)."
   ]
  },
  {
   "cell_type": "code",
   "execution_count": null,
   "id": "5630c448-e003-4ae0-9efc-bfef293568a0",
   "metadata": {},
   "outputs": [],
   "source": [
    "# relevant libraries\n",
    "\n",
    "import os\n",
    "import wallaby_data_access as wallaby\n",
    "from astropy.table import Table"
   ]
  },
  {
   "cell_type": "code",
   "execution_count": null,
   "id": "02fa923a-3661-41ba-bc40-6221fb5f98f0",
   "metadata": {},
   "outputs": [],
   "source": [
    "# connect to the database\n",
    "\n",
    "wallaby.connect()"
   ]
  },
  {
   "cell_type": "markdown",
   "id": "6d8af3de",
   "metadata": {},
   "source": [
    "# 2. Source finding\n",
    "\n",
    "The intention for this notebook is to allow users to easily download all of the products and properties for all sources of a given tag. We start by listing the available tags in the cell below."
   ]
  },
  {
   "cell_type": "code",
   "execution_count": null,
   "id": "92bb2bbb",
   "metadata": {},
   "outputs": [],
   "source": [
    "# Get all tags\n",
    "\n",
    "wallaby.print_tags()"
   ]
  },
  {
   "cell_type": "code",
   "execution_count": null,
   "id": "65dfe2d9",
   "metadata": {},
   "outputs": [],
   "source": [
    "# Select the tag\n",
    "\n",
    "tag_name = \"NGC 5044 DR1\""
   ]
  },
  {
   "cell_type": "code",
   "execution_count": null,
   "id": "aac09df6-aa7a-4069-83c1-01946cfe2057",
   "metadata": {},
   "outputs": [],
   "source": [
    "# Retrieve catalogue as Astropy table\n",
    "\n",
    "table = wallaby.get_catalog(tag_name)\n",
    "\n",
    "# Sort table by flux (brightest first)\n",
    "table.sort(\"f_sum\", reverse=True)\n",
    "\n",
    "# Print table\n",
    "table.pprint()"
   ]
  },
  {
   "cell_type": "markdown",
   "id": "03b046a2-abd2-4795-b519-1e92d29cd1a6",
   "metadata": {},
   "source": [
    "## Download catalog\n",
    "\n",
    "It is convenient to write `astropy` Table objects to a number of file formats. The documentation for `write` can be found [here](https://docs.astropy.org/en/stable/io/ascii/write.html). Below we show how to export the table as a `.fits` file. \n",
    "\n",
    "<span style=\"font-weight: bold; color: #FF0000;\">⚠ You cannot write a table with column of type \"object\".</span> In this example we are replacing the object columns with strings containing the same information."
   ]
  },
  {
   "cell_type": "code",
   "execution_count": null,
   "id": "606fc291",
   "metadata": {},
   "outputs": [],
   "source": [
    "# Write table to fits file\n",
    "\n",
    "catalog_filename = \"%s_catalog.fits\" % tag_name.replace(' ', '_')\n",
    "write_table = table\n",
    "\n",
    "if not os.path.exists(catalog_filename):\n",
    "    # Update write table comment and tag fields\n",
    "    write_table['comments'] = [''.join(comment) for comment in write_table['comments']]\n",
    "    write_table['tags'] = [''.join(t) for t in write_table['tags']]\n",
    "    write_table.write(catalog_filename, format = 'fits')"
   ]
  },
  {
   "cell_type": "markdown",
   "id": "1e5711c1-928d-4a93-918e-355d5949a735",
   "metadata": {},
   "source": [
    "## Download products\n",
    "\n",
    "We can store the source finding output products for a source, or the entire release. In the cells below we show how to do this."
   ]
  },
  {
   "cell_type": "code",
   "execution_count": null,
   "id": "278faf65-85e4-445b-b51c-dcd2540832bf",
   "metadata": {},
   "outputs": [],
   "source": [
    "# Write output products for a source\n",
    "\n",
    "row = table[0]\n",
    "id = int(row['id'])\n",
    "name = row['name'].replace(' ', '_')\n",
    "wallaby.save_products_for_source(id, f'{name}_source_products')"
   ]
  },
  {
   "cell_type": "code",
   "execution_count": null,
   "id": "15691ab7-3890-42fd-8ae3-73a83c4bed10",
   "metadata": {},
   "outputs": [],
   "source": [
    "# Write all output products for tagged sources (only selecting a subset)\n",
    "\n",
    "wallaby.save_source_products(table[0:5], f\"{tag_name.replace(' ', '_')}_source_products\")"
   ]
  },
  {
   "cell_type": "markdown",
   "id": "24bb1736-0f32-45b8-a645-c32325d80328",
   "metadata": {},
   "source": [
    "---"
   ]
  },
  {
   "cell_type": "markdown",
   "id": "88e7f862-b1b5-4fcc-aded-a0afa50e0745",
   "metadata": {},
   "source": [
    "# Kinematic models\n",
    "\n",
    "This notebook also allows users to download the kinematic model table and products. First, we select the kinematic models by tag and retrieve the table."
   ]
  },
  {
   "cell_type": "code",
   "execution_count": null,
   "id": "00bf893f-b1f2-495b-b9c2-6e8e8ce463b7",
   "metadata": {},
   "outputs": [],
   "source": [
    "wallaby.get_kinematic_model_tags()"
   ]
  },
  {
   "cell_type": "code",
   "execution_count": null,
   "id": "8b0cfa6a-f335-43ef-b1db-f09b0a61d668",
   "metadata": {},
   "outputs": [],
   "source": [
    "kin_tag = 'NGC 5044 Kin TR1'"
   ]
  },
  {
   "cell_type": "code",
   "execution_count": null,
   "id": "a0f0c676-bf85-4912-934e-02aeaf661f20",
   "metadata": {},
   "outputs": [],
   "source": [
    "kin_table = wallaby.get_kinematic_model(team_release_kin=kin_tag)\n",
    "kin_table[0:2]"
   ]
  },
  {
   "cell_type": "markdown",
   "id": "cd820942-d7e2-4158-9609-c79320ba8ebc",
   "metadata": {},
   "source": [
    "Then we can write the table as a `.fits` file and all products associated with the selected models. As with the source finding table, it will be necessary to replace the object columns with strings."
   ]
  },
  {
   "cell_type": "code",
   "execution_count": null,
   "id": "ba17ef3c-b99b-471e-8cae-958d14232706",
   "metadata": {},
   "outputs": [],
   "source": [
    "# Write table\n",
    "\n",
    "string_array_columns = ['rad', 'vrot_model', 'e_vrot_model', 'e_vrot_model_inc', 'rad_sd', 'sd_model', 'sd_fo_model', 'e_sd_model', 'e_sd_fo_model_inc']\n",
    "catalog_filename = \"%s_catalog.fits\" % kin_tag.replace(' ', '_')\n",
    "write_table = kin_table\n",
    "\n",
    "# Convert object objects to strings\n",
    "for column in string_array_columns:\n",
    "    array = write_table[column]\n",
    "    string_array = []\n",
    "    for elem in array:\n",
    "        string_elem = ','.join([str(v) for v in list(elem)])\n",
    "        string_array.append(string_elem)\n",
    "    write_table[column] = string_array\n",
    "\n",
    "if not os.path.exists(catalog_filename):\n",
    "    kin_table.write(catalog_filename, format = 'fits')"
   ]
  },
  {
   "cell_type": "code",
   "execution_count": null,
   "id": "bb43bd25-5a7d-45da-855b-7c39af306f88",
   "metadata": {},
   "outputs": [],
   "source": [
    "# Save single product file\n",
    "\n",
    "row = kin_table[0]\n",
    "id = int(row['id'])\n",
    "name = str(row['source']).replace(' ', '_')\n",
    "wallaby.save_products_for_kinematic_model(id, f'{name}_kinematic_products')"
   ]
  },
  {
   "cell_type": "code",
   "execution_count": null,
   "id": "d0ea4510-95a0-4307-959e-f38582754cd2",
   "metadata": {},
   "outputs": [],
   "source": [
    "# Save products for all kinematic models\n",
    "\n",
    "wallaby.save_kinematic_model_products(kin_table[0:2], f\"{kin_tag.replace(' ', '_')}_kin_products\")"
   ]
  },
  {
   "cell_type": "code",
   "execution_count": null,
   "id": "9ed2b031-9e47-42dc-93ec-398abe925ec3",
   "metadata": {},
   "outputs": [],
   "source": []
  }
 ],
 "metadata": {
  "kernelspec": {
   "display_name": "Python 3 (ipykernel)",
   "language": "python",
   "name": "python3"
  },
  "language_info": {
   "codemirror_mode": {
    "name": "ipython",
    "version": 3
   },
   "file_extension": ".py",
   "mimetype": "text/x-python",
   "name": "python",
   "nbconvert_exporter": "python",
   "pygments_lexer": "ipython3",
   "version": "3.9.1"
  }
 },
 "nbformat": 4,
 "nbformat_minor": 5
}
