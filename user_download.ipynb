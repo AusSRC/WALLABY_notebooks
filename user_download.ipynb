{
 "cells": [
  {
   "cell_type": "markdown",
   "id": "935cdfea",
   "metadata": {},
   "source": [
    "# WALLABY user download notebook\n",
    "\n",
    "A notebook pre-filled with cells and scripts for downloading WALLABY internal release data.\n",
    "\n",
    "The notebook has the following sections\n",
    "\n",
    "1. Initialise Django\n",
    "2. Setup\n",
    "3. Get release table\n",
    "4. Export table and data products\n",
    "5. Appendix"
   ]
  },
  {
   "cell_type": "markdown",
   "id": "ae97b278",
   "metadata": {},
   "source": [
    "# 1. Initialise Django\n",
    "\n",
    "The following cells must be run first. They are used to import `django`, set up a connection to the database and import the Django models. Once these cells are run, you are able to use the Django model objects for access to the database."
   ]
  },
  {
   "cell_type": "code",
   "execution_count": null,
   "id": "28845390",
   "metadata": {},
   "outputs": [],
   "source": [
    "# Essential Python libraries for using the ORM\n",
    "\n",
    "import sys\n",
    "import os\n",
    "import django"
   ]
  },
  {
   "cell_type": "code",
   "execution_count": null,
   "id": "bc0b5b7c",
   "metadata": {},
   "outputs": [],
   "source": [
    "# We will provide a plotting script that actually doesn't make use of the products retrieved above. Instead, just provide the detection and they will be retrieved in the function below.\n",
    "\n",
    "import io\n",
    "import math\n",
    "import numpy as np\n",
    "\n",
    "import matplotlib.pyplot as plt\n",
    "from matplotlib.patches import Ellipse\n",
    "\n",
    "from django.db import models\n",
    "from django.forms.models import model_to_dict\n",
    "\n",
    "import astropy.units as u\n",
    "from astropy.io import fits\n",
    "from astropy.wcs import WCS\n",
    "from astropy.visualization import PercentileInterval\n",
    "from astroquery.skyview import SkyView\n",
    "from astropy.utils.data import clear_download_cache\n",
    "\n",
    "from astropy.table import Table"
   ]
  },
  {
   "cell_type": "code",
   "execution_count": null,
   "id": "2ce71c52",
   "metadata": {},
   "outputs": [],
   "source": [
    "# Database access environment variables\n",
    "\n",
    "os.environ[\"DJANGO_SECRET_KEY\"] = \"-=(gyah-@e$-ymbz02mhwu6461zv&1&8uojya413ylk!#bwa-l\"\n",
    "os.environ[\"DJANGO_SETTINGS_MODULE\"] = \"api.settings\"\n",
    "os.environ[\"DJANGO_ALLOW_ASYNC_UNSAFE\"] = \"True\"\n",
    "os.environ[\"DATABASE_HOST\"] = \"146.118.67.204\"\n",
    "os.environ[\"DATABASE_NAME\"] = \"wallabydb\"\n",
    "os.environ[\"DATABASE_USER\"] = \"wallaby_user\"\n",
    "os.environ[\"DATABASE_PASSWORD\"] = \"LKaRsQrNtXZ7vN8L*6\""
   ]
  },
  {
   "cell_type": "code",
   "execution_count": null,
   "id": "515c6523",
   "metadata": {},
   "outputs": [],
   "source": [
    "# Connect with SoFiAX_services Django ORM\n",
    "\n",
    "sys.path.append('/mnt/shared/wallaby/apps/SoFiAX_services/api/')\n",
    "django.setup()"
   ]
  },
  {
   "cell_type": "code",
   "execution_count": null,
   "id": "d977ab3c",
   "metadata": {},
   "outputs": [],
   "source": [
    "# Import models\n",
    "\n",
    "from tables.models import Run, Instance, Detection, Product, Source, SourceDetection, Tag, TagSourceDetection"
   ]
  },
  {
   "cell_type": "markdown",
   "id": "6d8af3de",
   "metadata": {},
   "source": [
    "# 2. Setup\n",
    "\n",
    "The intention for this notebook is to allow users to easily download all of the products and properties for all sources of a given tag. We start by listing the available tags in the cell below."
   ]
  },
  {
   "cell_type": "code",
   "execution_count": null,
   "id": "92bb2bbb",
   "metadata": {},
   "outputs": [],
   "source": [
    "# Get all tags\n",
    "\n",
    "print([t.name for t in Tag.objects.all()])"
   ]
  },
  {
   "cell_type": "code",
   "execution_count": null,
   "id": "65dfe2d9",
   "metadata": {},
   "outputs": [],
   "source": [
    "# Select the tag\n",
    "# Currently only data tagged NGC 5044 DR1 is available through this system.\n",
    "\n",
    "tag_name = \"NGC 5044 DR1\"\n",
    "save_plots = False"
   ]
  },
  {
   "cell_type": "markdown",
   "id": "37dd82fb",
   "metadata": {},
   "source": [
    "# 3. Get release table\n",
    "\n",
    "The functions above can be useful for interacting with single detections. Suppose you want to work with all sources and their properties for a given Run, or some subset of the sources. The dictionary above needs more manipulation before it can be useful. \n",
    "\n",
    "We provide a function below to get the sources and their detection properties, for a subset of the sources and for a given run, into an astropy table. This table format will be more familiar for many astronomers. From this format you are also able to download the file, first to the local file system, then from the menu on the left onto your local computer."
   ]
  },
  {
   "cell_type": "code",
   "execution_count": null,
   "id": "b5eff20b-98bc-4e9c-ba6b-3c689443dd91",
   "metadata": {},
   "outputs": [],
   "source": [
    "detection_field_names = [field.name for field in Detection._meta.fields if not isinstance(field, models.ForeignKey)]\n",
    "source_field_names = [field.name for field in Source._meta.fields if not isinstance(field, models.ForeignKey)]"
   ]
  },
  {
   "cell_type": "code",
   "execution_count": null,
   "id": "99028e4d-6680-4311-a748-f88675d78534",
   "metadata": {},
   "outputs": [],
   "source": [
    "print(detection_field_names)\n",
    "print(source_field_names)"
   ]
  },
  {
   "cell_type": "code",
   "execution_count": null,
   "id": "aac09df6-aa7a-4069-83c1-01946cfe2057",
   "metadata": {},
   "outputs": [],
   "source": [
    "# get sources and properties from tag\n",
    "\n",
    "def astropy_table_from_tag(tag_name):\n",
    "    t = Table()\n",
    "    \n",
    "    # get field names\n",
    "    detection_field_names = [field.name for field in Detection._meta.fields if not isinstance(field, models.ForeignKey)]\n",
    "    detection_field_names.remove('name')    \n",
    "    source_field_names = [field.name for field in Source._meta.fields if not isinstance(field, models.ForeignKey)]\n",
    "    \n",
    "    # get sources and detections\n",
    "    source_detections = [SourceDetection.objects.get(id=tsd.source_detection_id) for tsd in TagSourceDetection.objects.filter(tag_id=Tag.objects.get(name=tag_name).id)]\n",
    "    sources = [Source.objects.get(id=sd.source_id) for sd in source_detections]\n",
    "    detections = [Detection.objects.get(id=sd.detection_id) for sd in source_detections]\n",
    "    \n",
    "    # add columns to the tablef\n",
    "    for field in source_field_names:\n",
    "        if field == 'id':\n",
    "            t['source_id'] = [getattr(s, field) for s in sources]\n",
    "        else:\n",
    "            t[field] = [getattr(s, field) for s in sources]\n",
    "    for field in detection_field_names:\n",
    "        if field == 'id':\n",
    "            t['detection_id'] = [getattr(d, field) for d in detections]\n",
    "        else:\n",
    "            t[field] = np.array([getattr(d, field) for d in detections], dtype=float)\n",
    "\n",
    "    return t"
   ]
  },
  {
   "cell_type": "code",
   "execution_count": null,
   "id": "be952dd5-7a68-4a8e-ac72-c1c09d90e24a",
   "metadata": {},
   "outputs": [],
   "source": [
    "astropy_table_from_tag(tag_name)"
   ]
  },
  {
   "cell_type": "markdown",
   "id": "fa960a96",
   "metadata": {},
   "source": [
    "Cool! Now to save it as a fits file. "
   ]
  },
  {
   "cell_type": "code",
   "execution_count": null,
   "id": "606fc291",
   "metadata": {},
   "outputs": [],
   "source": [
    "# Write table to fits file\n",
    "\n",
    "table = astropy_table_from_tag(tag_name)\n",
    "table.write(\"%s_catalog.fits\" % tag_name.replace(' ', '_'), format = 'fits') "
   ]
  },
  {
   "cell_type": "markdown",
   "id": "a55d6f8d",
   "metadata": {},
   "source": [
    "# 4. Export table and associated data products\n",
    "\n",
    "We can also download the data products (moment maps, spectra) associated with the sources of interest. These are stored in the `Product` table, which we haven't interacted with just yet. All of these data are stored as bytes in the database table, so downloading them allows us to interact with them as `.fits` files (which might be easier for some astronomers). There are also methods for visualising the content directly in these notebooks, which can be found in the `user.ipynb` notebook template.\n",
    "\n",
    "This script will write a bunch of files for each of the different data products. It's inconvenient to download each of these individually, so we will also zip the content up."
   ]
  },
  {
   "cell_type": "markdown",
   "id": "64d91d19",
   "metadata": {},
   "source": [
    "### Save to file\n",
    "\n",
    "Here we will show you how to save the output products for a given source to a folder. Each of the .fits products will be compressed."
   ]
  },
  {
   "cell_type": "code",
   "execution_count": null,
   "id": "93112687",
   "metadata": {},
   "outputs": [],
   "source": [
    "def write_bytesio_to_file(filename, bytesio):\n",
    "    \"\"\"Write the contents of the given BytesIO to a file.\n",
    "    Creates the file or overwrites the file if it does\n",
    "    not exist yet. \n",
    "    \n",
    "    \"\"\"\n",
    "    with open(filename, \"wb\") as outfile:\n",
    "        # Copy the BytesIO stream to the output file\n",
    "        outfile.write(bytesio.getbuffer())\n",
    "            \n",
    "def write_zipped_fits_file(filename, product):\n",
    "    \"\"\"Compress a .fits file as .fits.gz for a data product.\n",
    "   \n",
    "    \"\"\"\n",
    "    with io.BytesIO() as buf:\n",
    "        buf.write(product)\n",
    "        buf.seek(0)\n",
    "        if not os.path.isfile(filename):\n",
    "            write_bytesio_to_file(filename, buf)\n",
    "            os.system(f'gzip {filename}')\n",
    "    \n",
    "def save_data_products_source(name, detection_id, output_dir):\n",
    "    \"\"\"Get the products associated with a source for a given run\n",
    "    \n",
    "    \"\"\"\n",
    "    detection = Detection.objects.get(id=detection_id)\n",
    "    products = Product.objects.get(detection=detection)\n",
    "    \n",
    "    if not os.path.isdir(output_dir):\n",
    "        os.mkdir(output_dir)\n",
    "    \n",
    "    # Write fits files\n",
    "    write_zipped_fits_file('%s/%s_cube.fits' % (output_dir, name), products.cube)\n",
    "    write_zipped_fits_file('%s/%s_chan.fits' % (output_dir, name), products.chan)\n",
    "    write_zipped_fits_file('%s/%s_mask.fits' % (output_dir, name), products.mask)\n",
    "    write_zipped_fits_file('%s/%s_mom0.fits' % (output_dir, name), products.mom0)\n",
    "    write_zipped_fits_file('%s/%s_mom1.fits' % (output_dir, name), products.mom1)\n",
    "    write_zipped_fits_file('%s/%s_mom2.fits' % (output_dir, name), products.mom2)\n",
    "\n",
    "    # Open spectrum\n",
    "    with io.BytesIO() as buf:\n",
    "        buf.write(b''.join(products.spec))\n",
    "        buf.seek(0)\n",
    "        spec_file  = '%s/%s_spec.txt' % (output_dir, name)\n",
    "        if not os.path.isfile(spec_file):\n",
    "            write_bytesio_to_file(spec_file, buf)\n",
    "\n",
    "def save_data_products_by_tag(tag_name, output_dir):\n",
    "    \"\"\"Save all data products associated with a tagged release\n",
    "    \n",
    "    \"\"\"\n",
    "    table = astropy_table_from_tag(tag_name)\n",
    "    if not os.path.isdir(output_dir):\n",
    "        os.mkdir(output_dir)\n",
    "\n",
    "    for row in table:\n",
    "        source_name = row['name'].replace(' ', '_')\n",
    "        save_data_products_source(source_name, row['detection_id'], f\"{output_dir}/{source_name}\")\n",
    "        \n",
    "    os.system(f'tar -czf {output_dir}.tar.gz {output_dir}')"
   ]
  },
  {
   "cell_type": "code",
   "execution_count": null,
   "id": "dc81b6a2",
   "metadata": {},
   "outputs": [],
   "source": [
    "# Save data products for a given source to a folder\n",
    "\n",
    "source = Source.objects.get(id=table[0]['source_id'])\n",
    "detection = Detection.objects.get(id=table[0]['detection_id'])\n",
    "source_name = source.name.replace(' ', '_')\n",
    "\n",
    "if not os.path.isdir('%s' % source_name):\n",
    "    os.mkdir('%s' % source_name)\n",
    "\n",
    "save_data_products_source(name=source_name, detection_id=detection.id, output_dir='%s' % source_name)"
   ]
  },
  {
   "cell_type": "code",
   "execution_count": null,
   "id": "63d91d9a-464a-4c18-8265-4a5bb7ee7aa3",
   "metadata": {},
   "outputs": [],
   "source": [
    "# Save data products for an entire tagged collection\n",
    "\n",
    "save_data_products_by_tag(tag_name, '%s_products' % tag_name.replace(' ', '_'))"
   ]
  },
  {
   "cell_type": "markdown",
   "id": "ce5a2903-d31e-467c-bb38-268794d600d2",
   "metadata": {},
   "source": [
    "## Summary plots\n",
    "\n",
    "We can generate summary plots of moment 0, moment 1 maps, spectra and optical counterpart for a source to quickly visualise it. We will also provide some code for saving these plots in a zipped folder like for products in the cells above. Storing all summary plots for an entire release takes a **very** long time (~1 hour for 350 sources) so it may be easier to visualise them in the notebook. We will show an example of that as well."
   ]
  },
  {
   "cell_type": "code",
   "execution_count": null,
   "id": "8d8ae99f-3b44-4125-96b7-40b020383321",
   "metadata": {},
   "outputs": [],
   "source": [
    "# Create a summary plot of source products\n",
    "\n",
    "def summary_plot(detection, source, save=False, output_dir=None):\n",
    "    # Plot figure size    \n",
    "    interval = PercentileInterval(95.0)\n",
    "    interval2 = PercentileInterval(90.0)\n",
    "    plt.rcParams[\"figure.figsize\"] = (12,12)\n",
    "    \n",
    "    # Retrieve products from database\n",
    "    products = Product.objects.get(detection=detection)\n",
    "\n",
    "    # Open moment 0 image\n",
    "    with io.BytesIO() as buf:\n",
    "        buf.write(products.mom0)\n",
    "        buf.seek(0)\n",
    "        hdu_mom0 = fits.open(buf)[0]\n",
    "        wcs = WCS(hdu_mom0.header)\n",
    "        mom0 = hdu_mom0.data\n",
    "\n",
    "    # Open moment 1 image\n",
    "    with io.BytesIO() as buf:\n",
    "        buf.write(products.mom1)\n",
    "        buf.seek(0)\n",
    "        hdu_mom1 = fits.open(buf)[0]\n",
    "        mom1 = hdu_mom1.data\n",
    "\n",
    "    # Spectrum\n",
    "    with io.BytesIO() as buf:\n",
    "        buf.write(b''.join(products.spec))\n",
    "        buf.seek(0)\n",
    "        spectrum = np.loadtxt(buf, dtype=\"float\", comments=\"#\", unpack=True)\n",
    "\n",
    "    # Extract coordinate information\n",
    "    nx = hdu_mom0.header[\"NAXIS1\"]\n",
    "    ny = hdu_mom0.header[\"NAXIS2\"]\n",
    "    clon, clat = wcs.all_pix2world(nx/2, ny/2, 0)\n",
    "    tmp1, tmp3 = wcs.all_pix2world(0, ny/2, 0)\n",
    "    tmp2, tmp4 = wcs.all_pix2world(nx, ny/2, 0)\n",
    "    width = np.rad2deg(math.acos(math.sin(np.deg2rad(tmp3)) * math.sin(np.deg2rad(tmp4)) + math.cos(np.deg2rad(tmp3)) * math.cos(np.deg2rad(tmp4)) * math.cos(np.deg2rad(tmp1 - tmp2))))\n",
    "    tmp1, tmp3 = wcs.all_pix2world(nx/2, 0, 0)\n",
    "    tmp2, tmp4 = wcs.all_pix2world(nx/2, ny, 0)\n",
    "    height = np.rad2deg(math.acos(math.sin(np.deg2rad(tmp3)) * math.sin(np.deg2rad(tmp4)) + math.cos(np.deg2rad(tmp3)) * math.cos(np.deg2rad(tmp4)) * math.cos(np.deg2rad(tmp1 - tmp2))))\n",
    "\n",
    "    # Download DSS image from SkyView\n",
    "    hdu_opt = SkyView.get_images(\n",
    "        position=\"{}, {}\".format(clon, clat),\n",
    "        survey=\"DSS\",\n",
    "        coordinates=\"J2000\",\n",
    "        projection=\"Tan\",\n",
    "        width=width*u.deg,\n",
    "        height=height*u.deg,\n",
    "        cache=None\n",
    "    )[0][0]\n",
    "    wcs_opt = WCS(hdu_opt.header)\n",
    "\n",
    "    # Plot moment 0\n",
    "    ax2 = plt.subplot(2, 2, 1, projection=wcs);\n",
    "    ax2.imshow(mom0, origin=\"lower\");\n",
    "    ax2.grid(color=\"grey\", ls=\"solid\");\n",
    "    ax2.set_xlabel(\"Right ascension (J2000)\");\n",
    "    ax2.set_ylabel(\"Declination (J2000)\");\n",
    "    ax2.tick_params(axis=\"x\", which=\"both\", left=False, right=False);\n",
    "    ax2.tick_params(axis=\"y\", which=\"both\", top=False, bottom=False);\n",
    "    ax2.set_title(\"moment 0\");\n",
    "\n",
    "    # Add beam size     \n",
    "    e = Ellipse((5, 5), 5, 5, 0, edgecolor='peru', facecolor='peru');\n",
    "    ax2.add_patch(e);\n",
    "\n",
    "    # Plot DSS image with HI contours\n",
    "    bmin, bmax = interval2.get_limits(hdu_opt.data);\n",
    "    ax = plt.subplot(2, 2, 2, projection=wcs_opt);\n",
    "    ax.imshow(hdu_opt.data, origin=\"lower\");\n",
    "    ax.contour(hdu_mom0.data, transform=ax.get_transform(wcs), levels=np.logspace(2.0, 5.0, 10), colors=\"lightgrey\", alpha=1.0);\n",
    "    ax.grid(color=\"grey\", ls=\"solid\");\n",
    "    ax.set_xlabel(\"Right ascension (J2000)\");\n",
    "    ax.set_ylabel(\"Declination (J2000)\");\n",
    "    ax.tick_params(axis=\"x\", which=\"both\", left=False, right=False);\n",
    "    ax.tick_params(axis=\"y\", which=\"both\", top=False, bottom=False);\n",
    "    ax.set_title(\"DSS + moment 0\");\n",
    "\n",
    "    # Plot moment 1\n",
    "    bmin, bmax = interval.get_limits(mom1);\n",
    "    ax3 = plt.subplot(2, 2, 3, projection=wcs);\n",
    "    ax3.imshow(hdu_mom1.data, origin=\"lower\", vmin=bmin, vmax=bmax, cmap=plt.get_cmap(\"gist_rainbow\"));\n",
    "    ax3.grid(color=\"grey\", ls=\"solid\");\n",
    "    ax3.set_xlabel(\"Right ascension (J2000)\");\n",
    "    ax3.set_ylabel(\"Declination (J2000)\");\n",
    "    ax3.tick_params(axis=\"x\", which=\"both\", left=False, right=False);\n",
    "    ax3.tick_params(axis=\"y\", which=\"both\", top=False, bottom=False);\n",
    "    ax3.set_title(\"moment 1\");\n",
    "\n",
    "    # Plot spectrum\n",
    "    xaxis = spectrum[1] / 1e+6;\n",
    "    data  = 1000.0 * np.nan_to_num(spectrum[2]);\n",
    "    xmin = np.nanmin(xaxis);\n",
    "    xmax = np.nanmax(xaxis);\n",
    "    ymin = np.nanmin(data);\n",
    "    ymax = np.nanmax(data);\n",
    "    ymin -= 0.1 * (ymax - ymin);\n",
    "    ymax += 0.1 * (ymax - ymin);\n",
    "    ax4 = plt.subplot(2, 2, 4);\n",
    "    ax4.step(xaxis, data, where=\"mid\", color=\"royalblue\");\n",
    "    ax4.set_xlabel(\"Frequency (MHz)\");\n",
    "    ax4.set_ylabel(\"Flux density (mJy)\");\n",
    "    ax4.set_title(\"spectrum\");\n",
    "    ax4.grid(True);\n",
    "    ax4.set_xlim([xmin, xmax]);\n",
    "    ax4.set_ylim([ymin, ymax]);\n",
    "\n",
    "    plt.suptitle(source.name, fontsize=16);\n",
    "    \n",
    "    if save and output_dir is not None:\n",
    "        plt.savefig(\"%s/%s_summary.png\" % (output_dir, source.name.replace(' ', '_')))\n",
    "        plt.close()\n",
    "    else:\n",
    "        plt.show()\n",
    "        \n",
    "def save_summary_plots_by_tag(tag_name, output_dir):\n",
    "    \"\"\"Save summary plots for all sources given by a specified tag\n",
    "    \n",
    "    \"\"\"\n",
    "    table = astropy_table_from_tag(tag_name)\n",
    "    if not os.path.isdir(output_dir):\n",
    "        os.mkdir(output_dir)\n",
    "\n",
    "    for row in table:\n",
    "        source = Source.objects.get(id=row['source_id'])\n",
    "        detection = Detection.objects.get(id=row['detection_id'])\n",
    "        summary_plot(detection, source, save=True, output_dir=output_dir)\n",
    "        \n",
    "    os.system(f'tar -czf {output_dir}.tar.gz {output_dir}')"
   ]
  },
  {
   "cell_type": "code",
   "execution_count": null,
   "id": "fb30951e-7831-42c6-8212-8212df04ad05",
   "metadata": {},
   "outputs": [],
   "source": [
    "import warnings\n",
    "warnings.filterwarnings('ignore')\n",
    "\n",
    "save_summary_plots_by_tag(tag_name, '%s_summary_plots' % tag_name.replace(' ', '_'))"
   ]
  },
  {
   "cell_type": "markdown",
   "id": "866cb627",
   "metadata": {},
   "source": [
    "# That's it!\n",
    "\n",
    "If you have any thoughts or anything you think we should add to this notebook please contact [austin.shen@csiro.au](mailto:austin.shen@csiro.au)"
   ]
  },
  {
   "cell_type": "markdown",
   "id": "dd00237a-8a38-4b23-a34f-8a840040a4b1",
   "metadata": {},
   "source": [
    "---"
   ]
  },
  {
   "attachments": {
    "84c38a9f-7f74-4efb-9135-e4e90e15e8b6.png": {
     "image/png": "[encoded data removed]"
    }
   },
   "cell_type": "markdown",
   "id": "72d07870",
   "metadata": {},
   "source": [
    "# 5. Appendix\n",
    "\n",
    "If you want to know more about what is happening underneath the hood. Most of this will not be necessary for using WALLABY data.\n",
    "\n",
    "## Query runs, detections and sources\n",
    "\n",
    "Now that we have imported the Django models, we are able to use them for viewing tables in the database. We'll provide a few examples for how to get objects from the database, but for a more comprehensive guide you can look at the documentation [here](https://docs.djangoproject.com/en/3.2/topics/db/queries/#retrieving-objects).\n",
    "\n",
    "To get a list of the sources we will need to decide which run we are interested in. This run is the region of sky. We can query the database to look the runs that are in the database. With Django, the rows of the database are retrieved in the form of Django objects called [QuerySets](https://docs.djangoproject.com/en/3.2/ref/models/querysets/). We can essentially treat them as lists (and can be converted directly to a native Python list with `list()` on the object).\n",
    "\n",
    "### Table structure\n",
    "\n",
    "Since we are interested in retrieving sources, we need to know how to get them for a given run. The diagram below shows the relationship between the run and sources tables. You can see that there is an intermediate source_detection table that is used to map a source and a detection, and that there is a relationship between the detection and run. \n",
    "\n",
    "![sources_table.drawio.png](attachment:84c38a9f-7f74-4efb-9135-e4e90e15e8b6.png)\n",
    "\n",
    "So, started from the run we must do the following to get access to the sources using foreign key relationships:\n",
    "\n",
    "1. Get Detections of interest in a Run\n",
    "2. Get SourceDetection map from Detections\n",
    "3. Get Sources from SourceDetection source_id field"
   ]
  },
  {
   "cell_type": "code",
   "execution_count": null,
   "id": "9cdd27fa",
   "metadata": {},
   "outputs": [],
   "source": [
    "# 0. List all runs in the database\n",
    "\n",
    "Run.objects.all()"
   ]
  },
  {
   "cell_type": "code",
   "execution_count": null,
   "id": "8883831d",
   "metadata": {
    "tags": []
   },
   "outputs": [],
   "source": [
    "# 1. Get detections of interest in a run\n",
    "\n",
    "detections = Detection.objects.filter(run_id = Run.objects.get(name=run_name))"
   ]
  },
  {
   "cell_type": "code",
   "execution_count": null,
   "id": "9434915d",
   "metadata": {},
   "outputs": [],
   "source": [
    "# 2. Get the source_detection map for detections to get the source ids\n",
    "\n",
    "detections_to_sources = SourceDetection.objects.filter(detection_id__in=[d.id for d in detections])"
   ]
  },
  {
   "cell_type": "code",
   "execution_count": null,
   "id": "c5fa1250",
   "metadata": {},
   "outputs": [],
   "source": [
    "# 3. Get the sources from the source_detection ids\n",
    "\n",
    "sources = Source.objects.filter(id__in=[d.source_id for d in detections_to_sources])\n",
    "print([s.name for s in sources])"
   ]
  },
  {
   "cell_type": "markdown",
   "id": "8ad16f8e",
   "metadata": {
    "tags": []
   },
   "source": [
    "## View source properties\n",
    "\n",
    "It's probably not useful to just be able to see the names of the sources. We want to look at the source properties obtained from the source finding application, or at the data products associated with it. To start to access these we first need to know the structure of the tables of interest. Let's look at the schema for the two tables in the cells below."
   ]
  },
  {
   "cell_type": "code",
   "execution_count": null,
   "id": "cf3f6ca2",
   "metadata": {},
   "outputs": [],
   "source": [
    "# Source table fields\n",
    "\n",
    "Source._meta.fields"
   ]
  },
  {
   "cell_type": "code",
   "execution_count": null,
   "id": "a309d4e8",
   "metadata": {},
   "outputs": [],
   "source": [
    "# Detection table fields\n",
    "\n",
    "Detection._meta.fields"
   ]
  },
  {
   "cell_type": "markdown",
   "id": "b1086228",
   "metadata": {},
   "source": [
    "So we now know that all of the properties that are useful for science are in the detections table. Great, we'll need to map the source to detection to get these. The function below will help you to do this.\n",
    "\n",
    "The functions below will take an object/instance of the source (not just the source name) and retrieve its properties. Without going into it too much, we'll also need to provide the name of the run since there can be multiple detections for a given source. We'll also show you how to get the object from the source name as well."
   ]
  },
  {
   "cell_type": "code",
   "execution_count": null,
   "id": "15732695",
   "metadata": {},
   "outputs": [],
   "source": [
    "# Functions for getting the properties of a source\n",
    "\n",
    "def get_detection(source_name, run_name):\n",
    "    \"\"\"Get the detection for a given source and run.\n",
    "    \n",
    "    \"\"\"\n",
    "    source = Source.objects.get(name=source_name)\n",
    "    detection_ids = [sd.detection_id for sd in SourceDetection.objects.filter(source_id=source.id)]\n",
    "    \n",
    "    # where there is only 1 detection     \n",
    "    if (len(detection_ids) == 1):\n",
    "        detection = Detection.objects.get(id=detection_ids[0])\n",
    "        return detection\n",
    "\n",
    "    # Need to specify the run    \n",
    "    detection = Detection.objects.filter(id__in=detection_ids).filter(run_id=run.id).first()\n",
    "    return detection\n",
    "    \n",
    "\n",
    "def get_property(source_name, run_name, attribute):\n",
    "    \"\"\"Retrieve a single property (name) for a source in a given run.\n",
    "    \n",
    "    \"\"\"\n",
    "    detection = get_detection(source_name, run_name)\n",
    "    return getattr(detection, attribute)\n",
    "\n",
    "\n",
    "def get_all_properties(source_name, run_name):\n",
    "    \"\"\"Retrieve the value of all properties for a source in a given run.\n",
    "    \n",
    "    \"\"\"\n",
    "    detection = get_detection(source_name, run_name)\n",
    "    return model_to_dict(detection)\n",
    "\n",
    "\n",
    "print(f\"f_max for WALLABY_J122708+055255: {get_property(source_name='WALLABY_J122708+055255', run_name=run_name, attribute='f_max')}\")\n",
    "print(f\"All property values for WALLABY_J122708+055255: {get_all_properties(source_name='WALLABY_J122708+055255', run_name=run_name)}\")"
   ]
  },
  {
   "cell_type": "code",
   "execution_count": null,
   "id": "bbde699b",
   "metadata": {},
   "outputs": [],
   "source": []
  }
 ],
 "metadata": {
  "kernelspec": {
   "display_name": "Python 3 (ipykernel)",
   "language": "python",
   "name": "python3"
  },
  "language_info": {
   "codemirror_mode": {
    "name": "ipython",
    "version": 3
   },
   "file_extension": ".py",
   "mimetype": "text/x-python",
   "name": "python",
   "nbconvert_exporter": "python",
   "pygments_lexer": "ipython3",
   "version": "3.9.1"
  }
 },
 "nbformat": 4,
 "nbformat_minor": 5
}
