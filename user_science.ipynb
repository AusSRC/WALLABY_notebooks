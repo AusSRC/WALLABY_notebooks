{
 "cells": [
  {
   "cell_type": "markdown",
   "id": "25bb2fab-51dd-45a7-9c21-d3d611333a3d",
   "metadata": {},
   "source": [
    "# WALLABY Database Access Notebook\n",
    "\n",
    "<span style=\"font-weight: bold; color: #FF0000;\">⚠ Make sure the Jupyter Notebook server is loaded with the wallaby/python-3.9.1 module!</span>"
   ]
  },
  {
   "cell_type": "markdown",
   "id": "2fd8a55e-8853-451c-9777-6b2992061fdf",
   "metadata": {},
   "source": [
    "## Connect to Database\n",
    "\n",
    "The first step will be to connect to the WALLAYBY database by importing the `wallaby` module and calling the `wallaby.connect()` function. This will connect you to the database using a generic WALLABY user account and provide read access to all data tables."
   ]
  },
  {
   "cell_type": "code",
   "execution_count": null,
   "id": "9f7b92b9-8813-40dd-9990-78cab257af27",
   "metadata": {},
   "outputs": [],
   "source": [
    "import wallaby_data_access as wallaby\n",
    "wallaby.connect()"
   ]
  },
  {
   "cell_type": "markdown",
   "id": "d015d827-e6c4-469f-aaba-c2e3128313a5",
   "metadata": {},
   "source": [
    "## Retrieve Catalogue\n",
    "\n",
    "Once you are connected, you can then use the `wallaby.get_catalog()` function to retrieve the source catalogue as an Astropy table object. Catalogues are retrieved by tag, where tags define different collections of sources, e.g. all sources from a specific data release. The following tags are currently supported:"
   ]
  },
  {
   "cell_type": "code",
   "execution_count": null,
   "id": "052c594e-51a0-4663-b04a-48f6d1b6cb1b",
   "metadata": {},
   "outputs": [],
   "source": [
    "wallaby.print_tags()"
   ]
  },
  {
   "cell_type": "markdown",
   "id": "5beaccff-41ea-44fc-8f73-4e2bcae6f958",
   "metadata": {},
   "source": [
    "As an example, let us retrieve all sources from phase 2 pilot observations released as part of the NGC 5044 DR1 release by supplying the `NGC 5044 DR1` tag to the `wallaby.get_catalog()` function:"
   ]
  },
  {
   "cell_type": "code",
   "execution_count": null,
   "id": "bf00d112-1d0a-46a4-a9ba-e5118caa7747",
   "metadata": {},
   "outputs": [],
   "source": [
    "# Retrieve catalogue as Astropy table\n",
    "from astropy.table import Table\n",
    "table = wallaby.get_catalog(\"NGC 5044 DR1\");\n",
    "\n",
    "# Sort table by flux (brightest first)\n",
    "table.sort(\"f_sum\", reverse=True)\n",
    "\n",
    "# Print table\n",
    "table.pprint()"
   ]
  },
  {
   "cell_type": "markdown",
   "id": "d60e54d6-86ab-45ff-9053-982de8348e51",
   "metadata": {},
   "source": [
    "The source catalogue returned by the function should have been printed above (if not, check for error messages) and is stored in the variable `table`. We can now use basic indexing to access different catalogue entries. For example, `table[\"f_sum\"]` will return the entire column of integrated flux measurements, and we can use `table[\"f_sum\"][0]` etc. to extract the individual fluxes for each source. Likewise, `table[0]` will extract the entire first row of the catalogue, i.e. a list of all parameters of the first source."
   ]
  },
  {
   "cell_type": "markdown",
   "id": "6731150b-557f-431c-9010-047883e7876f",
   "metadata": {},
   "source": [
    "## Calculate Physical Parameters\n",
    "\n",
    "The next example demonstrates how to retrieve certain parameters from the catalogue and use basic arithmetic to convert some of the raw measurements made by SoFiA into physically meaningful parameters such as redshift or HI mass. These can be directly appended to the catalogue as additional columns using `table[\"parameter_name\"] = <expression>`."
   ]
  },
  {
   "cell_type": "code",
   "execution_count": null,
   "id": "9db3721a-c9bf-46ca-ab1b-51580b9aaa95",
   "metadata": {},
   "outputs": [],
   "source": [
    "import numpy as np\n",
    "import scipy.constants as const\n",
    "from astropy.cosmology import FlatLambdaCDM\n",
    "\n",
    "# Set up cosmology\n",
    "f_rest = 1.42040575e+9;  # HI rest frequency in Hz\n",
    "cosmo = FlatLambdaCDM(H0=70, Om0=0.3, Tcmb0=2.725)\n",
    "\n",
    "# Calculate redshift\n",
    "table[\"redshift\"] = f_rest / table[\"freq\"] - 1.0\n",
    "\n",
    "# Calculate luminosity distance in Mpc and HI mass in solar masses\n",
    "table[\"dl\"] = cosmo.luminosity_distance(table[\"redshift\"]).value\n",
    "table[\"log_mhi\"] = np.log10(49.7 * table[\"dl\"] * table[\"dl\"] * table[\"f_sum\"])\n",
    "\n",
    "# Calculate source rest frame velocity width in km/s\n",
    "table[\"dv\"] = const.c * (1.0 + table[\"redshift\"]) * table[\"w20\"] / f_rest / 1000.0\n",
    "\n",
    "# Show our new parameters\n",
    "table[\"name\", \"id\", \"redshift\", \"dl\", \"log_mhi\", \"dv\"].pprint(max_width=-1)"
   ]
  },
  {
   "cell_type": "markdown",
   "id": "fae12e45-cd45-463d-8877-3a75ee266e65",
   "metadata": {},
   "source": [
    "## Create a Plot\n",
    "\n",
    "Once we’ve done our analysis, we can the create plots of any of the parameters in our table. In this example, let us plot the logarithmic HI mass against redshift and additionally colour the data points by source rest frame velocity width. If desired, the resulting plot can be exported as a PDF file and then downloaded to your local computer, e.g. to use in a presentation or publication."
   ]
  },
  {
   "cell_type": "code",
   "execution_count": null,
   "id": "d937607a-4062-4ef7-a1b7-a98ec076c04a",
   "metadata": {},
   "outputs": [],
   "source": [
    "import matplotlib.pyplot as plt\n",
    "%matplotlib inline\n",
    "\n",
    "plt.rcParams[\"figure.figsize\"] = (14, 8)\n",
    "plt.rcParams[\"font.size\"] = 16\n",
    "\n",
    "plt.scatter(table[\"redshift\"], table[\"log_mhi\"], s=16, c=table[\"dv\"], cmap=\"jet\")\n",
    "plt.xlabel(r\"$z$\")\n",
    "plt.ylabel(r\"$\\log_{10}(M_{\\rm HI} / M_{\\odot})$\")\n",
    "cbar = plt.colorbar()\n",
    "cbar.set_label(r\"$\\Delta v \\; (\\mathrm{km \\, s}^{-1})$\")\n",
    "plt.xlim(0.0, 0.1)\n",
    "plt.ylim(7.0, 11.0)\n",
    "plt.grid(True)\n",
    "\n",
    "# Uncomment the following line to make a PDF copy in the notebook folder for download\n",
    "#plt.savefig(\"my_plot.pdf\", format=\"pdf\", bbox_inches=\"tight\", pad_inches=0.05)\n",
    "\n",
    "plt.show()"
   ]
  },
  {
   "cell_type": "markdown",
   "id": "477fc82d-2ba8-41ad-b599-ab68b521b330",
   "metadata": {},
   "source": [
    "## Filtering the catalogue\n",
    "\n",
    "Once we have the catalogue loaded into an Astropy table object, we can easily make selections to suit our scientific needs. The following examples illustrate how the catalogue can be filtered by certain criteria such as parameter ranges or the presence of comments and tags."
   ]
  },
  {
   "cell_type": "markdown",
   "id": "81466586-c37b-4844-8726-8d9c32665103",
   "metadata": {},
   "source": [
    "**Example 1: Filter sources by parameter range**"
   ]
  },
  {
   "cell_type": "code",
   "execution_count": null,
   "id": "981ee7fe-acdc-426c-ae6c-374969834765",
   "metadata": {},
   "outputs": [],
   "source": [
    "# Select all sources within a certain RA and Dec range\n",
    "\n",
    "mask = (table[\"ra\"] > 202.0) & (table[\"ra\"] < 203.0) & (table[\"dec\"] > -22.5) & (table[\"dec\"] < -21.5)\n",
    "table[mask].pprint()"
   ]
  },
  {
   "cell_type": "markdown",
   "id": "c1982d3b-b509-4530-91da-d30850405222",
   "metadata": {},
   "source": [
    "**Example 2: Filter sources tagged as components of a galaxy**"
   ]
  },
  {
   "cell_type": "code",
   "execution_count": null,
   "id": "56f1c530-c085-4b0e-b577-257b5b6449c9",
   "metadata": {},
   "outputs": [],
   "source": [
    "# Select all sources that have the \"Component\" tag set\n",
    "\n",
    "mask = [\"Component\" in tags for tags in table[\"tags\"]]\n",
    "table[mask][\"name\", \"id\", \"tags\"].pprint_all()"
   ]
  },
  {
   "cell_type": "markdown",
   "id": "81492acc-95b5-4692-b9ff-eac2077b69ab",
   "metadata": {},
   "source": [
    "**Example 3: Filter sources that have comments attached**"
   ]
  },
  {
   "cell_type": "code",
   "execution_count": null,
   "id": "beabaa0d-7274-4da6-937e-bcef08cbb27a",
   "metadata": {},
   "outputs": [],
   "source": [
    "# Select all sources with at least one comment\n",
    "\n",
    "mask = [len(comments) > 0 for comments in table[\"comments\"]]\n",
    "table[mask][\"name\", \"id\", \"comments\"].pprint_all()"
   ]
  },
  {
   "cell_type": "markdown",
   "id": "ba7a3ccf-972d-4686-ac38-c97af2a62846",
   "metadata": {},
   "source": [
    "## Create overview plot for a specific source\n",
    "\n",
    "It is also possible to display an overview plot of a specific source (as identified by its catalogue ID) by calling the `wallaby.overview_plot()` function. That function will display four panels showing the moment 0 and 1 maps, a DSS image with HI contours and the integrated spectrum of the source. **Note that it may take up to half a minute before the plot is displayed, as Astropy must download the DSS image from Skyview first.** If the Skyview download fails, which happens occasionally, just try again a few hours later."
   ]
  },
  {
   "cell_type": "code",
   "execution_count": null,
   "id": "17565218-bbc9-43e9-a562-2503db4bd116",
   "metadata": {},
   "outputs": [],
   "source": [
    "%matplotlib inline\n",
    "\n",
    "import warnings\n",
    "warnings.filterwarnings(\"ignore\")\n",
    "\n",
    "plt = wallaby.overview_plot(id=4713)\n",
    "\n",
    "# Uncomment the following line to make a PDF copy in the notebook folder for download\n",
    "#plt.savefig(\"my_plot.pdf\", format=\"pdf\", bbox_inches=\"tight\", pad_inches=0.05)\n",
    "\n",
    "plt.show()"
   ]
  },
  {
   "cell_type": "code",
   "execution_count": null,
   "id": "c590227e-e2fa-4ed7-8cbd-05423a23b118",
   "metadata": {},
   "outputs": [],
   "source": []
  }
 ],
 "metadata": {
  "kernelspec": {
   "display_name": "Python 3 (ipykernel)",
   "language": "python",
   "name": "python3"
  },
  "language_info": {
   "codemirror_mode": {
    "name": "ipython",
    "version": 3
   },
   "file_extension": ".py",
   "mimetype": "text/x-python",
   "name": "python",
   "nbconvert_exporter": "python",
   "pygments_lexer": "ipython3",
   "version": "3.9.1"
  }
 },
 "nbformat": 4,
 "nbformat_minor": 5
}
